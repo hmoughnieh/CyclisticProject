{
    "metadata": {
        "kernelspec": {
            "name": "SQL",
            "display_name": "SQL",
            "language": "sql"
        },
        "language_info": {
            "name": "sql",
            "version": ""
        }
    },
    "nbformat_minor": 2,
    "nbformat": 4,
    "cells": [
        {
            "cell_type": "code",
            "source": [
                "SELECT top 10 *\r\n",
                "FROM Cyclistic_202109"
            ],
            "metadata": {
                "azdata_cell_guid": "5c7f0bf9-7abe-4c4b-9568-985c1d6502a3",
                "language": "sql"
            },
            "outputs": [
                {
                    "output_type": "display_data",
                    "data": {
                        "text/html": "(10 rows affected)"
                    },
                    "metadata": {}
                },
                {
                    "output_type": "display_data",
                    "data": {
                        "text/html": "Total execution time: 00:00:00.008"
                    },
                    "metadata": {}
                },
                {
                    "output_type": "execute_result",
                    "execution_count": 1,
                    "data": {
                        "application/vnd.dataresource+json": {
                            "schema": {
                                "fields": [
                                    {
                                        "name": "ride_id"
                                    },
                                    {
                                        "name": "rideable_type"
                                    },
                                    {
                                        "name": "started_at"
                                    },
                                    {
                                        "name": "ended_at"
                                    },
                                    {
                                        "name": "start_station_name"
                                    },
                                    {
                                        "name": "start_station_id"
                                    },
                                    {
                                        "name": "end_station_name"
                                    },
                                    {
                                        "name": "end_station_id"
                                    },
                                    {
                                        "name": "start_lat"
                                    },
                                    {
                                        "name": "start_lng"
                                    },
                                    {
                                        "name": "end_lat"
                                    },
                                    {
                                        "name": "end_lng"
                                    },
                                    {
                                        "name": "member_casual"
                                    },
                                    {
                                        "name": "ride_length"
                                    },
                                    {
                                        "name": "day_of_week"
                                    },
                                    {
                                        "name": "F16"
                                    },
                                    {
                                        "name": "number_members"
                                    },
                                    {
                                        "name": "number_casual"
                                    },
                                    {
                                        "name": "mean_ride_length"
                                    },
                                    {
                                        "name": "max_ride_length"
                                    },
                                    {
                                        "name": "mode_day"
                                    }
                                ]
                            },
                            "data": [
                                {
                                    "0": "B89639535028F8A8",
                                    "1": "classic_bike",
                                    "2": "2021-09-12 17:49:57.000",
                                    "3": "2021-09-12 19:41:25.000",
                                    "4": "Pine Grove Ave & Irving Park Rd",
                                    "5": "TA1308000022",
                                    "6": "Pine Grove Ave & Irving Park Rd",
                                    "7": "TA1308000022",
                                    "8": "41.954383",
                                    "9": "-87.648043",
                                    "10": "41.954383",
                                    "11": "-87.648043",
                                    "12": "casual",
                                    "13": "1899-12-30 01:51:28.000",
                                    "14": "1",
                                    "15": "NULL",
                                    "16": "NULL",
                                    "17": "NULL",
                                    "18": "NULL",
                                    "19": "NULL",
                                    "20": "NULL"
                                },
                                {
                                    "0": "869F9B901520E6F4",
                                    "1": "electric_bike",
                                    "2": "2021-09-06 17:27:31.000",
                                    "3": "2021-09-06 18:28:03.000",
                                    "4": "Troy St & North Ave",
                                    "5": "15653",
                                    "6": "Troy St & North Ave",
                                    "7": "15653",
                                    "8": "41.9098351666666",
                                    "9": "-87.7053775",
                                    "10": "41.9098543333333",
                                    "11": "-87.7053835",
                                    "12": "casual",
                                    "13": "1899-12-30 01:00:32.000",
                                    "14": "2",
                                    "15": "NULL",
                                    "16": "NULL",
                                    "17": "NULL",
                                    "18": "NULL",
                                    "19": "NULL",
                                    "20": "NULL"
                                },
                                {
                                    "0": "414BED1B55D60675",
                                    "1": "classic_bike",
                                    "2": "2021-09-27 13:41:40.000",
                                    "3": "2021-09-27 14:18:22.000",
                                    "4": "Marine Dr & Ainslie St",
                                    "5": "KA1504000171",
                                    "6": "Marine Dr & Ainslie St",
                                    "7": "KA1504000171",
                                    "8": "41.9716",
                                    "9": "-87.650154",
                                    "10": "41.9716",
                                    "11": "-87.650154",
                                    "12": "casual",
                                    "13": "1899-12-30 00:36:42.000",
                                    "14": "2",
                                    "15": "NULL",
                                    "16": "NULL",
                                    "17": "NULL",
                                    "18": "NULL",
                                    "19": "NULL",
                                    "20": "NULL"
                                },
                                {
                                    "0": "90EDB547332E2070",
                                    "1": "classic_bike",
                                    "2": "2021-09-11 15:38:56.000",
                                    "3": "2021-09-11 15:51:21.000",
                                    "4": "Pine Grove Ave & Irving Park Rd",
                                    "5": "TA1308000022",
                                    "6": "Marine Dr & Ainslie St",
                                    "7": "KA1504000171",
                                    "8": "41.954383",
                                    "9": "-87.648043",
                                    "10": "41.9716",
                                    "11": "-87.650154",
                                    "12": "casual",
                                    "13": "1899-12-30 00:12:25.000",
                                    "14": "7",
                                    "15": "NULL",
                                    "16": "NULL",
                                    "17": "NULL",
                                    "18": "NULL",
                                    "19": "NULL",
                                    "20": "NULL"
                                },
                                {
                                    "0": "57D7B7C12747009D",
                                    "1": "classic_bike",
                                    "2": "2021-09-19 19:55:16.000",
                                    "3": "2021-09-19 19:58:47.000",
                                    "4": "Sheffield Ave & Webster Ave",
                                    "5": "TA1309000033",
                                    "6": "Bissell St & Armitage Ave",
                                    "7": "13059",
                                    "8": "41.92154",
                                    "9": "-87.653818",
                                    "10": "41.91844",
                                    "11": "-87.65222",
                                    "12": "casual",
                                    "13": "1899-12-30 00:03:31.000",
                                    "14": "1",
                                    "15": "NULL",
                                    "16": "NULL",
                                    "17": "NULL",
                                    "18": "NULL",
                                    "19": "NULL",
                                    "20": "NULL"
                                },
                                {
                                    "0": "F9B959923F25703B",
                                    "1": "classic_bike",
                                    "2": "2021-09-20 17:46:40.000",
                                    "3": "2021-09-20 18:13:55.000",
                                    "4": "Troy St & North Ave",
                                    "5": "15653",
                                    "6": "Troy St & North Ave",
                                    "7": "15653",
                                    "8": "41.90976930169",
                                    "9": "-87.7052804871",
                                    "10": "41.90976930169",
                                    "11": "-87.7052804871",
                                    "12": "casual",
                                    "13": "1899-12-30 00:27:15.000",
                                    "14": "2",
                                    "15": "NULL",
                                    "16": "NULL",
                                    "17": "NULL",
                                    "18": "NULL",
                                    "19": "NULL",
                                    "20": "NULL"
                                },
                                {
                                    "0": "E3543080D97338EE",
                                    "1": "classic_bike",
                                    "2": "2021-09-19 09:51:32.000",
                                    "3": "2021-09-19 10:02:07.000",
                                    "4": "Marine Dr & Ainslie St",
                                    "5": "KA1504000171",
                                    "6": "Marine Dr & Ainslie St",
                                    "7": "KA1504000171",
                                    "8": "41.9716",
                                    "9": "-87.650154",
                                    "10": "41.9716",
                                    "11": "-87.650154",
                                    "12": "casual",
                                    "13": "1899-12-30 00:10:35.000",
                                    "14": "1",
                                    "15": "NULL",
                                    "16": "NULL",
                                    "17": "NULL",
                                    "18": "NULL",
                                    "19": "NULL",
                                    "20": "NULL"
                                },
                                {
                                    "0": "31572DF77EA77868",
                                    "1": "classic_bike",
                                    "2": "2021-09-26 13:06:39.000",
                                    "3": "2021-09-26 13:18:04.000",
                                    "4": "Marine Dr & Ainslie St",
                                    "5": "KA1504000171",
                                    "6": "Marine Dr & Ainslie St",
                                    "7": "KA1504000171",
                                    "8": "41.9716",
                                    "9": "-87.650154",
                                    "10": "41.9716",
                                    "11": "-87.650154",
                                    "12": "casual",
                                    "13": "1899-12-30 00:11:25.000",
                                    "14": "1",
                                    "15": "NULL",
                                    "16": "NULL",
                                    "17": "NULL",
                                    "18": "NULL",
                                    "19": "NULL",
                                    "20": "NULL"
                                },
                                {
                                    "0": "A529E2EDA96B4CA2",
                                    "1": "classic_bike",
                                    "2": "2021-09-06 12:14:05.000",
                                    "3": "2021-09-06 12:48:40.000",
                                    "4": "Troy St & North Ave",
                                    "5": "15653",
                                    "6": "Troy St & North Ave",
                                    "7": "15653",
                                    "8": "41.90976930169",
                                    "9": "-87.7052804871",
                                    "10": "41.90976930169",
                                    "11": "-87.7052804871",
                                    "12": "casual",
                                    "13": "1899-12-30 00:34:35.000",
                                    "14": "2",
                                    "15": "NULL",
                                    "16": "NULL",
                                    "17": "NULL",
                                    "18": "NULL",
                                    "19": "NULL",
                                    "20": "NULL"
                                },
                                {
                                    "0": "7147006750C9E020",
                                    "1": "classic_bike",
                                    "2": "2021-09-05 19:02:01.000",
                                    "3": "2021-09-05 19:26:40.000",
                                    "4": "Marine Dr & Ainslie St",
                                    "5": "KA1504000171",
                                    "6": "Marine Dr & Ainslie St",
                                    "7": "KA1504000171",
                                    "8": "41.9716",
                                    "9": "-87.650154",
                                    "10": "41.9716",
                                    "11": "-87.650154",
                                    "12": "casual",
                                    "13": "1899-12-30 00:24:39.000",
                                    "14": "1",
                                    "15": "NULL",
                                    "16": "NULL",
                                    "17": "NULL",
                                    "18": "NULL",
                                    "19": "NULL",
                                    "20": "NULL"
                                }
                            ]
                        },
                        "text/html": "<table><tr><th>ride_id</th><th>rideable_type</th><th>started_at</th><th>ended_at</th><th>start_station_name</th><th>start_station_id</th><th>end_station_name</th><th>end_station_id</th><th>start_lat</th><th>start_lng</th><th>end_lat</th><th>end_lng</th><th>member_casual</th><th>ride_length</th><th>day_of_week</th><th>F16</th><th>number_members</th><th>number_casual</th><th>mean_ride_length</th><th>max_ride_length</th><th>mode_day</th></tr><tr><td>B89639535028F8A8</td><td>classic_bike</td><td>2021-09-12 17:49:57.000</td><td>2021-09-12 19:41:25.000</td><td>Pine Grove Ave &amp; Irving Park Rd</td><td>TA1308000022</td><td>Pine Grove Ave &amp; Irving Park Rd</td><td>TA1308000022</td><td>41.954383</td><td>-87.648043</td><td>41.954383</td><td>-87.648043</td><td>casual</td><td>1899-12-30 01:51:28.000</td><td>1</td><td>NULL</td><td>NULL</td><td>NULL</td><td>NULL</td><td>NULL</td><td>NULL</td></tr><tr><td>869F9B901520E6F4</td><td>electric_bike</td><td>2021-09-06 17:27:31.000</td><td>2021-09-06 18:28:03.000</td><td>Troy St &amp; North Ave</td><td>15653</td><td>Troy St &amp; North Ave</td><td>15653</td><td>41.9098351666666</td><td>-87.7053775</td><td>41.9098543333333</td><td>-87.7053835</td><td>casual</td><td>1899-12-30 01:00:32.000</td><td>2</td><td>NULL</td><td>NULL</td><td>NULL</td><td>NULL</td><td>NULL</td><td>NULL</td></tr><tr><td>414BED1B55D60675</td><td>classic_bike</td><td>2021-09-27 13:41:40.000</td><td>2021-09-27 14:18:22.000</td><td>Marine Dr &amp; Ainslie St</td><td>KA1504000171</td><td>Marine Dr &amp; Ainslie St</td><td>KA1504000171</td><td>41.9716</td><td>-87.650154</td><td>41.9716</td><td>-87.650154</td><td>casual</td><td>1899-12-30 00:36:42.000</td><td>2</td><td>NULL</td><td>NULL</td><td>NULL</td><td>NULL</td><td>NULL</td><td>NULL</td></tr><tr><td>90EDB547332E2070</td><td>classic_bike</td><td>2021-09-11 15:38:56.000</td><td>2021-09-11 15:51:21.000</td><td>Pine Grove Ave &amp; Irving Park Rd</td><td>TA1308000022</td><td>Marine Dr &amp; Ainslie St</td><td>KA1504000171</td><td>41.954383</td><td>-87.648043</td><td>41.9716</td><td>-87.650154</td><td>casual</td><td>1899-12-30 00:12:25.000</td><td>7</td><td>NULL</td><td>NULL</td><td>NULL</td><td>NULL</td><td>NULL</td><td>NULL</td></tr><tr><td>57D7B7C12747009D</td><td>classic_bike</td><td>2021-09-19 19:55:16.000</td><td>2021-09-19 19:58:47.000</td><td>Sheffield Ave &amp; Webster Ave</td><td>TA1309000033</td><td>Bissell St &amp; Armitage Ave</td><td>13059</td><td>41.92154</td><td>-87.653818</td><td>41.91844</td><td>-87.65222</td><td>casual</td><td>1899-12-30 00:03:31.000</td><td>1</td><td>NULL</td><td>NULL</td><td>NULL</td><td>NULL</td><td>NULL</td><td>NULL</td></tr><tr><td>F9B959923F25703B</td><td>classic_bike</td><td>2021-09-20 17:46:40.000</td><td>2021-09-20 18:13:55.000</td><td>Troy St &amp; North Ave</td><td>15653</td><td>Troy St &amp; North Ave</td><td>15653</td><td>41.90976930169</td><td>-87.7052804871</td><td>41.90976930169</td><td>-87.7052804871</td><td>casual</td><td>1899-12-30 00:27:15.000</td><td>2</td><td>NULL</td><td>NULL</td><td>NULL</td><td>NULL</td><td>NULL</td><td>NULL</td></tr><tr><td>E3543080D97338EE</td><td>classic_bike</td><td>2021-09-19 09:51:32.000</td><td>2021-09-19 10:02:07.000</td><td>Marine Dr &amp; Ainslie St</td><td>KA1504000171</td><td>Marine Dr &amp; Ainslie St</td><td>KA1504000171</td><td>41.9716</td><td>-87.650154</td><td>41.9716</td><td>-87.650154</td><td>casual</td><td>1899-12-30 00:10:35.000</td><td>1</td><td>NULL</td><td>NULL</td><td>NULL</td><td>NULL</td><td>NULL</td><td>NULL</td></tr><tr><td>31572DF77EA77868</td><td>classic_bike</td><td>2021-09-26 13:06:39.000</td><td>2021-09-26 13:18:04.000</td><td>Marine Dr &amp; Ainslie St</td><td>KA1504000171</td><td>Marine Dr &amp; Ainslie St</td><td>KA1504000171</td><td>41.9716</td><td>-87.650154</td><td>41.9716</td><td>-87.650154</td><td>casual</td><td>1899-12-30 00:11:25.000</td><td>1</td><td>NULL</td><td>NULL</td><td>NULL</td><td>NULL</td><td>NULL</td><td>NULL</td></tr><tr><td>A529E2EDA96B4CA2</td><td>classic_bike</td><td>2021-09-06 12:14:05.000</td><td>2021-09-06 12:48:40.000</td><td>Troy St &amp; North Ave</td><td>15653</td><td>Troy St &amp; North Ave</td><td>15653</td><td>41.90976930169</td><td>-87.7052804871</td><td>41.90976930169</td><td>-87.7052804871</td><td>casual</td><td>1899-12-30 00:34:35.000</td><td>2</td><td>NULL</td><td>NULL</td><td>NULL</td><td>NULL</td><td>NULL</td><td>NULL</td></tr><tr><td>7147006750C9E020</td><td>classic_bike</td><td>2021-09-05 19:02:01.000</td><td>2021-09-05 19:26:40.000</td><td>Marine Dr &amp; Ainslie St</td><td>KA1504000171</td><td>Marine Dr &amp; Ainslie St</td><td>KA1504000171</td><td>41.9716</td><td>-87.650154</td><td>41.9716</td><td>-87.650154</td><td>casual</td><td>1899-12-30 00:24:39.000</td><td>1</td><td>NULL</td><td>NULL</td><td>NULL</td><td>NULL</td><td>NULL</td><td>NULL</td></tr></table>"
                    },
                    "metadata": {}
                }
            ],
            "execution_count": 1
        },
        {
            "cell_type": "code",
            "source": [
                "-------------------------------------- Create a CTE of yearly data by combining all data for all months --------------------------------------\r\n",
                "\r\n",
                "WITH yearly_data as \r\n",
                "(\r\n",
                "SELECT *\r\n",
                "FROM Cyclistic_202109\r\n",
                "UNION all\r\n",
                "SELECT *\r\n",
                "FROM Cyclistic_202110\r\n",
                "UNION all\r\n",
                "SELECT *\r\n",
                "FROM Cyclistic_202111\r\n",
                "UNION all\r\n",
                "SELECT *\r\n",
                "FROM Cyclistic_202112\r\n",
                "UNION all\r\n",
                "SELECT *\r\n",
                "FROM Cyclistic_202201\r\n",
                "UNION all\r\n",
                "SELECT *\r\n",
                "FROM Cyclistic_202202\r\n",
                "UNION all\r\n",
                "SELECT *\r\n",
                "FROM Cyclistic_202203\r\n",
                "UNION all\r\n",
                "SELECT *\r\n",
                "FROM Cyclistic_202204\r\n",
                "UNION all\r\n",
                "SELECT *\r\n",
                "FROM Cyclistic_202205\r\n",
                "UNION all\r\n",
                "SELECT *\r\n",
                "FROM Cyclistic_202206\r\n",
                "UNION all\r\n",
                "SELECT *\r\n",
                "FROM Cyclistic_202207\r\n",
                "UNION all\r\n",
                "SELECT *\r\n",
                "FROM Cyclistic_202208\r\n",
                "),\r\n",
                "\r\n",
                "\r\n",
                "-------------------------------------- Remove all data points with NULL values --------------------------------------\r\n",
                "\r\n",
                "NULL_cleaned AS\r\n",
                "(\r\n",
                "\tSELECT *\r\n",
                "\tFROM yearly_data WHERE start_station_name   NOT LIKE '%NULL%'\r\n",
                "\t\t\t\t\t\tAND end_station_name  NOT LIKE '%NULL%'\r\n",
                "\t\t\t\t\t\t\tAND start_lat  NOT LIKE '%NULL%'\r\n",
                "\t\t\t\t\t\t\t\tAND start_lng  NOT LIKE '%NULL%'\r\n",
                "\t\t\t\t\t\t\t\t\tAND end_lat  NOT LIKE '%NULL%'\r\n",
                "\t\t\t\t\t\t\t\t\t\tAND end_lng NOT LIKE'%NULL%'\r\n",
                "\t\t\t\t\t\t\t\t\t\t\tAND start_station_id NOT LIKE'%NULL%'\r\n",
                "),\r\n",
                "\r\n",
                "\r\n",
                "-------------------------------------- Calculate the total ride length in minutes and assign day of the weel names --------------------------------------\r\n",
                "\r\n",
                "aggre_data AS (\r\n",
                "\tSELECT *,\r\n",
                "    DATEDIFF(MINUTE,started_at, ended_at) as TotalMinutes,\r\n",
                "    CASE\r\n",
                "      WHEN day_of_week = 2 THEN 'Monday'\r\n",
                "      WHEN day_of_week = 3 THEN 'Tuesday'\r\n",
                "      WHEN day_of_week = 4 THEN 'Wednesday'\r\n",
                "      WHEN day_of_week = 5 THEN 'Thursday'\r\n",
                "      WHEN day_of_week = 6 THEN 'Friday'\r\n",
                "      WHEN day_of_week = 7 THEN 'Saturday'\r\n",
                "\t  WHEN day_of_week = 1 THEN 'Sunday'\r\n",
                "\tEND\r\n",
                "    AS Day_Week\r\n",
                "FROM NULL_cleaned\r\n",
                "),\r\n",
                "\r\n",
                "\r\n",
                "-------------------------------------- Retain only ride ids with 16 alphanumerics with ride lengths above 1 minute --------------------------------------\r\n",
                "\r\n",
                "clean_ride_id_data AS\r\n",
                "(\r\n",
                "\tSELECT *\r\n",
                "\tFROM aggre_data\r\n",
                "\tWHERE LEN(ride_id) = 16 AND TotalMinutes > 1\r\n",
                "),\r\n",
                "\r\n",
                "\r\n",
                "-------------------------------------- Clean end & start stations names --------------------------------------\r\n",
                "\r\n",
                "Clean_Table AS\r\n",
                "(\r\n",
                "\tSELECT *,\r\n",
                "\tTRIM(REPLACE\r\n",
                "\t\t(REPLACE\r\n",
                "\t\t\t(end_station_name, '(*)',''),\r\n",
                "\t\t\t\t'(TEMP)','')) as cln_end_station_name,\r\n",
                "\r\n",
                "\tTRIM(REPLACE\r\n",
                "\t\t(REPLACE\r\n",
                "\t\t\t(start_station_name, '(*)',''),\r\n",
                "\t\t\t\t'(TEMP)','')) as cln_start_station_name\r\n",
                "\r\n",
                "\tFROM clean_ride_id_data\r\n",
                "\tWHERE end_station_name NOT LIKE '%(LBS-WH-TEST)%' and start_station_name NOT LIKE '%(LBS-WH-TEST)%' \r\n",
                ")\r\n",
                "\r\n",
                "Select *\r\n",
                "Into Final_Table\r\n",
                "From Clean_Table"
            ],
            "metadata": {
                "azdata_cell_guid": "c7943a21-59e7-44f0-8679-0e1399af4db6",
                "language": "sql"
            },
            "outputs": [
                {
                    "output_type": "display_data",
                    "data": {
                        "text/html": "(3908105 rows affected)"
                    },
                    "metadata": {}
                },
                {
                    "output_type": "display_data",
                    "data": {
                        "text/html": "Total execution time: 00:00:54.552"
                    },
                    "metadata": {}
                }
            ],
            "execution_count": 3
        },
        {
            "cell_type": "code",
            "source": [
                "--Count the total number of Casual & Members\r\n",
                "\r\n",
                "Select member_casual as User_type, count(member_casual) as Count\r\n",
                "FROM Final_Table\r\n",
                "group by member_casual"
            ],
            "metadata": {
                "azdata_cell_guid": "ee4d02ae-267c-4ba3-a53c-1e92c02b9993",
                "language": "sql"
            },
            "outputs": [
                {
                    "output_type": "display_data",
                    "data": {
                        "text/html": "(2 rows affected)"
                    },
                    "metadata": {}
                },
                {
                    "output_type": "display_data",
                    "data": {
                        "text/html": "Total execution time: 00:00:03.574"
                    },
                    "metadata": {}
                },
                {
                    "output_type": "execute_result",
                    "execution_count": 4,
                    "data": {
                        "application/vnd.dataresource+json": {
                            "schema": {
                                "fields": [
                                    {
                                        "name": "User_type"
                                    },
                                    {
                                        "name": "Count"
                                    }
                                ]
                            },
                            "data": [
                                {
                                    "0": "member",
                                    "1": "2293609"
                                },
                                {
                                    "0": "casual",
                                    "1": "1614496"
                                }
                            ]
                        },
                        "text/html": "<table><tr><th>User_type</th><th>Count</th></tr><tr><td>member</td><td>2293609</td></tr><tr><td>casual</td><td>1614496</td></tr></table>"
                    },
                    "metadata": {}
                }
            ],
            "execution_count": 4
        },
        {
            "cell_type": "code",
            "source": [
                "-- Daily trend of members\r\n",
                "\r\n",
                "Select top 10 cast(started_at as date) as Rides_Date, member_casual as User_type, sum(TotalMinutes)/60 as total_ride\r\n",
                "From Final_Table\r\n",
                "group by cast(started_at as date), member_casual"
            ],
            "metadata": {
                "azdata_cell_guid": "44146aa2-1b31-48d9-aa47-a0e260bc041f",
                "language": "sql"
            },
            "outputs": [
                {
                    "output_type": "display_data",
                    "data": {
                        "text/html": "(10 rows affected)"
                    },
                    "metadata": {}
                },
                {
                    "output_type": "display_data",
                    "data": {
                        "text/html": "Total execution time: 00:00:05.574"
                    },
                    "metadata": {}
                },
                {
                    "output_type": "execute_result",
                    "metadata": {},
                    "execution_count": 1,
                    "data": {
                        "application/vnd.dataresource+json": {
                            "schema": {
                                "fields": [
                                    {
                                        "name": "Rides_Date"
                                    },
                                    {
                                        "name": "User_type"
                                    },
                                    {
                                        "name": "total_ride"
                                    }
                                ]
                            },
                            "data": [
                                {
                                    "0": "2021-09-01",
                                    "1": "casual",
                                    "2": "3158"
                                },
                                {
                                    "0": "2021-09-02",
                                    "1": "casual",
                                    "2": "3863"
                                },
                                {
                                    "0": "2021-09-03",
                                    "1": "casual",
                                    "2": "4363"
                                },
                                {
                                    "0": "2021-09-04",
                                    "1": "casual",
                                    "2": "7822"
                                },
                                {
                                    "0": "2021-09-05",
                                    "1": "casual",
                                    "2": "12734"
                                },
                                {
                                    "0": "2021-09-06",
                                    "1": "casual",
                                    "2": "9354"
                                },
                                {
                                    "0": "2021-09-07",
                                    "1": "casual",
                                    "2": "2264"
                                },
                                {
                                    "0": "2021-09-08",
                                    "1": "casual",
                                    "2": "3180"
                                },
                                {
                                    "0": "2021-09-09",
                                    "1": "casual",
                                    "2": "3210"
                                },
                                {
                                    "0": "2021-09-10",
                                    "1": "casual",
                                    "2": "4469"
                                }
                            ]
                        },
                        "text/html": [
                            "<table>",
                            "<tr><th>Rides_Date</th><th>User_type</th><th>total_ride</th></tr>",
                            "<tr><td>2021-09-01</td><td>casual</td><td>3158</td></tr>",
                            "<tr><td>2021-09-02</td><td>casual</td><td>3863</td></tr>",
                            "<tr><td>2021-09-03</td><td>casual</td><td>4363</td></tr>",
                            "<tr><td>2021-09-04</td><td>casual</td><td>7822</td></tr>",
                            "<tr><td>2021-09-05</td><td>casual</td><td>12734</td></tr>",
                            "<tr><td>2021-09-06</td><td>casual</td><td>9354</td></tr>",
                            "<tr><td>2021-09-07</td><td>casual</td><td>2264</td></tr>",
                            "<tr><td>2021-09-08</td><td>casual</td><td>3180</td></tr>",
                            "<tr><td>2021-09-09</td><td>casual</td><td>3210</td></tr>",
                            "<tr><td>2021-09-10</td><td>casual</td><td>4469</td></tr>",
                            "</table>"
                        ]
                    }
                }
            ],
            "execution_count": 1
        },
        {
            "cell_type": "code",
            "source": [
                "-- Daily number of rides by week day \r\n",
                "\r\n",
                "Select top 10 cast(started_at as date) as Rides_Date, member_casual as User_type, count(ride_id) as num_rides\r\n",
                "From Final_Table\r\n",
                "group by cast(started_at as date), member_casual"
            ],
            "metadata": {
                "azdata_cell_guid": "af3d4a7e-cca4-4dc7-8482-6c5ebfc4d62b",
                "language": "sql"
            },
            "outputs": [
                {
                    "output_type": "display_data",
                    "data": {
                        "text/html": "(10 rows affected)"
                    },
                    "metadata": {}
                },
                {
                    "output_type": "display_data",
                    "data": {
                        "text/html": "Total execution time: 00:00:05.882"
                    },
                    "metadata": {}
                },
                {
                    "output_type": "execute_result",
                    "metadata": {},
                    "execution_count": 2,
                    "data": {
                        "application/vnd.dataresource+json": {
                            "schema": {
                                "fields": [
                                    {
                                        "name": "Rides_Date"
                                    },
                                    {
                                        "name": "User_type"
                                    },
                                    {
                                        "name": "num_rides"
                                    }
                                ]
                            },
                            "data": [
                                {
                                    "0": "2021-09-01",
                                    "1": "casual",
                                    "2": "8146"
                                },
                                {
                                    "0": "2021-09-02",
                                    "1": "casual",
                                    "2": "8651"
                                },
                                {
                                    "0": "2021-09-03",
                                    "1": "casual",
                                    "2": "9375"
                                },
                                {
                                    "0": "2021-09-04",
                                    "1": "casual",
                                    "2": "14341"
                                },
                                {
                                    "0": "2021-09-05",
                                    "1": "casual",
                                    "2": "18518"
                                },
                                {
                                    "0": "2021-09-06",
                                    "1": "casual",
                                    "2": "15215"
                                },
                                {
                                    "0": "2021-09-07",
                                    "1": "casual",
                                    "2": "5969"
                                },
                                {
                                    "0": "2021-09-08",
                                    "1": "casual",
                                    "2": "7632"
                                },
                                {
                                    "0": "2021-09-09",
                                    "1": "casual",
                                    "2": "8187"
                                },
                                {
                                    "0": "2021-09-10",
                                    "1": "casual",
                                    "2": "10125"
                                }
                            ]
                        },
                        "text/html": [
                            "<table>",
                            "<tr><th>Rides_Date</th><th>User_type</th><th>num_rides</th></tr>",
                            "<tr><td>2021-09-01</td><td>casual</td><td>8146</td></tr>",
                            "<tr><td>2021-09-02</td><td>casual</td><td>8651</td></tr>",
                            "<tr><td>2021-09-03</td><td>casual</td><td>9375</td></tr>",
                            "<tr><td>2021-09-04</td><td>casual</td><td>14341</td></tr>",
                            "<tr><td>2021-09-05</td><td>casual</td><td>18518</td></tr>",
                            "<tr><td>2021-09-06</td><td>casual</td><td>15215</td></tr>",
                            "<tr><td>2021-09-07</td><td>casual</td><td>5969</td></tr>",
                            "<tr><td>2021-09-08</td><td>casual</td><td>7632</td></tr>",
                            "<tr><td>2021-09-09</td><td>casual</td><td>8187</td></tr>",
                            "<tr><td>2021-09-10</td><td>casual</td><td>10125</td></tr>",
                            "</table>"
                        ]
                    }
                }
            ],
            "execution_count": 2
        },
        {
            "cell_type": "code",
            "source": [
                "-- Most visited stations\r\n",
                "with station_names as\r\n",
                "(\r\n",
                "select cln_start_station_name + cln_end_station_name as station_name, member_casual\r\n",
                "from Final_Table\r\n",
                ")\r\n",
                "\r\n",
                "select top 20 station_name, count(station_name) as Count_visits, member_casual as User_type\r\n",
                "from station_names\r\n",
                "group by station_name, member_casual\r\n",
                "order by Count_visits desc"
            ],
            "metadata": {
                "azdata_cell_guid": "3373e463-91d6-4f29-bb1b-ee51745ce603",
                "language": "sql"
            },
            "outputs": [
                {
                    "output_type": "display_data",
                    "data": {
                        "text/html": "(20 rows affected)"
                    },
                    "metadata": {}
                },
                {
                    "output_type": "display_data",
                    "data": {
                        "text/html": "Total execution time: 00:00:04.294"
                    },
                    "metadata": {}
                },
                {
                    "output_type": "execute_result",
                    "execution_count": 7,
                    "data": {
                        "application/vnd.dataresource+json": {
                            "schema": {
                                "fields": [
                                    {
                                        "name": "station_name"
                                    },
                                    {
                                        "name": "Count_visits"
                                    },
                                    {
                                        "name": "User_type"
                                    }
                                ]
                            },
                            "data": [
                                {
                                    "0": "Streeter Dr & Grand AveStreeter Dr & Grand Ave",
                                    "1": "9704",
                                    "2": "casual"
                                },
                                {
                                    "0": "DuSable Lake Shore Dr & Monroe StDuSable Lake Shore Dr & Monroe St",
                                    "1": "6020",
                                    "2": "casual"
                                },
                                {
                                    "0": "DuSable Lake Shore Dr & Monroe StStreeter Dr & Grand Ave",
                                    "1": "5365",
                                    "2": "casual"
                                },
                                {
                                    "0": "Michigan Ave & Oak StMichigan Ave & Oak St",
                                    "1": "4402",
                                    "2": "casual"
                                },
                                {
                                    "0": "Ellis Ave & 60th StUniversity Ave & 57th St",
                                    "1": "4212",
                                    "2": "member"
                                },
                                {
                                    "0": "Ellis Ave & 60th StEllis Ave & 55th St",
                                    "1": "4076",
                                    "2": "member"
                                },
                                {
                                    "0": "University Ave & 57th StEllis Ave & 60th St",
                                    "1": "4069",
                                    "2": "member"
                                },
                                {
                                    "0": "Millennium ParkMillennium Park",
                                    "1": "3896",
                                    "2": "casual"
                                },
                                {
                                    "0": "Ellis Ave & 55th StEllis Ave & 60th St",
                                    "1": "3484",
                                    "2": "member"
                                },
                                {
                                    "0": "Streeter Dr & Grand AveDuSable Lake Shore Dr & Monroe St",
                                    "1": "2980",
                                    "2": "casual"
                                },
                                {
                                    "0": "Streeter Dr & Grand AveMillennium Park",
                                    "1": "2962",
                                    "2": "casual"
                                },
                                {
                                    "0": "Calumet Ave & 33rd StState St & 33rd St",
                                    "1": "2697",
                                    "2": "member"
                                },
                                {
                                    "0": "Millennium ParkStreeter Dr & Grand Ave",
                                    "1": "2579",
                                    "2": "casual"
                                },
                                {
                                    "0": "State St & 33rd StCalumet Ave & 33rd St",
                                    "1": "2577",
                                    "2": "member"
                                },
                                {
                                    "0": "Shedd AquariumStreeter Dr & Grand Ave",
                                    "1": "2515",
                                    "2": "casual"
                                },
                                {
                                    "0": "Streeter Dr & Grand AveMichigan Ave & Oak St",
                                    "1": "2417",
                                    "2": "casual"
                                },
                                {
                                    "0": "Loomis St & Lexington StMorgan St & Polk St",
                                    "1": "2388",
                                    "2": "member"
                                },
                                {
                                    "0": "Streeter Dr & Grand AveDuSable Lake Shore Dr & North Blvd",
                                    "1": "2232",
                                    "2": "casual"
                                },
                                {
                                    "0": "Montrose HarborMontrose Harbor",
                                    "1": "2083",
                                    "2": "casual"
                                },
                                {
                                    "0": "Shedd AquariumShedd Aquarium",
                                    "1": "2043",
                                    "2": "casual"
                                }
                            ]
                        },
                        "text/html": "<table><tr><th>station_name</th><th>Count_visits</th><th>User_type</th></tr><tr><td>Streeter Dr &amp; Grand AveStreeter Dr &amp; Grand Ave</td><td>9704</td><td>casual</td></tr><tr><td>DuSable Lake Shore Dr &amp; Monroe StDuSable Lake Shore Dr &amp; Monroe St</td><td>6020</td><td>casual</td></tr><tr><td>DuSable Lake Shore Dr &amp; Monroe StStreeter Dr &amp; Grand Ave</td><td>5365</td><td>casual</td></tr><tr><td>Michigan Ave &amp; Oak StMichigan Ave &amp; Oak St</td><td>4402</td><td>casual</td></tr><tr><td>Ellis Ave &amp; 60th StUniversity Ave &amp; 57th St</td><td>4212</td><td>member</td></tr><tr><td>Ellis Ave &amp; 60th StEllis Ave &amp; 55th St</td><td>4076</td><td>member</td></tr><tr><td>University Ave &amp; 57th StEllis Ave &amp; 60th St</td><td>4069</td><td>member</td></tr><tr><td>Millennium ParkMillennium Park</td><td>3896</td><td>casual</td></tr><tr><td>Ellis Ave &amp; 55th StEllis Ave &amp; 60th St</td><td>3484</td><td>member</td></tr><tr><td>Streeter Dr &amp; Grand AveDuSable Lake Shore Dr &amp; Monroe St</td><td>2980</td><td>casual</td></tr><tr><td>Streeter Dr &amp; Grand AveMillennium Park</td><td>2962</td><td>casual</td></tr><tr><td>Calumet Ave &amp; 33rd StState St &amp; 33rd St</td><td>2697</td><td>member</td></tr><tr><td>Millennium ParkStreeter Dr &amp; Grand Ave</td><td>2579</td><td>casual</td></tr><tr><td>State St &amp; 33rd StCalumet Ave &amp; 33rd St</td><td>2577</td><td>member</td></tr><tr><td>Shedd AquariumStreeter Dr &amp; Grand Ave</td><td>2515</td><td>casual</td></tr><tr><td>Streeter Dr &amp; Grand AveMichigan Ave &amp; Oak St</td><td>2417</td><td>casual</td></tr><tr><td>Loomis St &amp; Lexington StMorgan St &amp; Polk St</td><td>2388</td><td>member</td></tr><tr><td>Streeter Dr &amp; Grand AveDuSable Lake Shore Dr &amp; North Blvd</td><td>2232</td><td>casual</td></tr><tr><td>Montrose HarborMontrose Harbor</td><td>2083</td><td>casual</td></tr><tr><td>Shedd AquariumShedd Aquarium</td><td>2043</td><td>casual</td></tr></table>"
                    },
                    "metadata": {}
                }
            ],
            "execution_count": 7
        },
        {
            "cell_type": "code",
            "source": [
                "-- Choice of ride by memebrship type\r\n",
                "Select rideable_type, member_casual, COUNT(rideable_type) as count_rideable_type\r\n",
                "From Final_table\r\n",
                "group by rideable_type, member_casual"
            ],
            "metadata": {
                "azdata_cell_guid": "a0180f27-98b0-4d74-af24-47460d23e0a1",
                "language": "sql"
            },
            "outputs": [
                {
                    "output_type": "display_data",
                    "data": {
                        "text/html": "(5 rows affected)"
                    },
                    "metadata": {}
                },
                {
                    "output_type": "display_data",
                    "data": {
                        "text/html": "Total execution time: 00:00:02.679"
                    },
                    "metadata": {}
                },
                {
                    "output_type": "execute_result",
                    "execution_count": 8,
                    "data": {
                        "application/vnd.dataresource+json": {
                            "schema": {
                                "fields": [
                                    {
                                        "name": "rideable_type"
                                    },
                                    {
                                        "name": "member_casual"
                                    },
                                    {
                                        "name": "count_rideable_type"
                                    }
                                ]
                            },
                            "data": [
                                {
                                    "0": "classic_bike",
                                    "1": "member",
                                    "2": "1607083"
                                },
                                {
                                    "0": "docked_bike",
                                    "1": "casual",
                                    "2": "181621"
                                },
                                {
                                    "0": "electric_bike",
                                    "1": "member",
                                    "2": "686526"
                                },
                                {
                                    "0": "classic_bike",
                                    "1": "casual",
                                    "2": "892523"
                                },
                                {
                                    "0": "electric_bike",
                                    "1": "casual",
                                    "2": "540352"
                                }
                            ]
                        },
                        "text/html": "<table><tr><th>rideable_type</th><th>member_casual</th><th>count_rideable_type</th></tr><tr><td>classic_bike</td><td>member</td><td>1607083</td></tr><tr><td>docked_bike</td><td>casual</td><td>181621</td></tr><tr><td>electric_bike</td><td>member</td><td>686526</td></tr><tr><td>classic_bike</td><td>casual</td><td>892523</td></tr><tr><td>electric_bike</td><td>casual</td><td>540352</td></tr></table>"
                    },
                    "metadata": {}
                }
            ],
            "execution_count": 8
        }
    ]
}