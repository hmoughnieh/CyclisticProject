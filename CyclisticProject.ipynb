{
    "metadata": {
        "kernelspec": {
            "name": "SQL",
            "display_name": "SQL",
            "language": "sql"
        },
        "language_info": {
            "name": "sql",
            "version": ""
        }
    },
    "nbformat_minor": 2,
    "nbformat": 4,
    "cells": [
        {
            "cell_type": "code",
            "source": [
                "SELECT top 10 *\r\n",
                "FROM Cyclistic_202109"
            ],
            "metadata": {
                "azdata_cell_guid": "5c7f0bf9-7abe-4c4b-9568-985c1d6502a3",
                "language": "sql"
            },
            "outputs": [
                {
                    "output_type": "display_data",
                    "data": {
                        "text/html": "(10 rows affected)"
                    },
                    "metadata": {}
                },
                {
                    "output_type": "display_data",
                    "data": {
                        "text/html": "Total execution time: 00:00:00.008"
                    },
                    "metadata": {}
                },
                {
                    "output_type": "execute_result",
                    "metadata": {},
                    "execution_count": 1,
                    "data": {
                        "application/vnd.dataresource+json": {
                            "schema": {
                                "fields": [
                                    {
                                        "name": "ride_id"
                                    },
                                    {
                                        "name": "rideable_type"
                                    },
                                    {
                                        "name": "started_at"
                                    },
                                    {
                                        "name": "ended_at"
                                    },
                                    {
                                        "name": "start_station_name"
                                    },
                                    {
                                        "name": "start_station_id"
                                    },
                                    {
                                        "name": "end_station_name"
                                    },
                                    {
                                        "name": "end_station_id"
                                    },
                                    {
                                        "name": "start_lat"
                                    },
                                    {
                                        "name": "start_lng"
                                    },
                                    {
                                        "name": "end_lat"
                                    },
                                    {
                                        "name": "end_lng"
                                    },
                                    {
                                        "name": "member_casual"
                                    },
                                    {
                                        "name": "ride_length"
                                    },
                                    {
                                        "name": "day_of_week"
                                    },
                                    {
                                        "name": "F16"
                                    },
                                    {
                                        "name": "number_members"
                                    },
                                    {
                                        "name": "number_casual"
                                    },
                                    {
                                        "name": "mean_ride_length"
                                    },
                                    {
                                        "name": "max_ride_length"
                                    },
                                    {
                                        "name": "mode_day"
                                    }
                                ]
                            },
                            "data": [
                                {
                                    "0": "B89639535028F8A8",
                                    "1": "classic_bike",
                                    "2": "2021-09-12 17:49:57.000",
                                    "3": "2021-09-12 19:41:25.000",
                                    "4": "Pine Grove Ave & Irving Park Rd",
                                    "5": "TA1308000022",
                                    "6": "Pine Grove Ave & Irving Park Rd",
                                    "7": "TA1308000022",
                                    "8": "41.954383",
                                    "9": "-87.648043",
                                    "10": "41.954383",
                                    "11": "-87.648043",
                                    "12": "casual",
                                    "13": "1899-12-30 01:51:28.000",
                                    "14": "1",
                                    "15": "NULL",
                                    "16": "NULL",
                                    "17": "NULL",
                                    "18": "NULL",
                                    "19": "NULL",
                                    "20": "NULL"
                                },
                                {
                                    "0": "869F9B901520E6F4",
                                    "1": "electric_bike",
                                    "2": "2021-09-06 17:27:31.000",
                                    "3": "2021-09-06 18:28:03.000",
                                    "4": "Troy St & North Ave",
                                    "5": "15653",
                                    "6": "Troy St & North Ave",
                                    "7": "15653",
                                    "8": "41.9098351666666",
                                    "9": "-87.7053775",
                                    "10": "41.9098543333333",
                                    "11": "-87.7053835",
                                    "12": "casual",
                                    "13": "1899-12-30 01:00:32.000",
                                    "14": "2",
                                    "15": "NULL",
                                    "16": "NULL",
                                    "17": "NULL",
                                    "18": "NULL",
                                    "19": "NULL",
                                    "20": "NULL"
                                },
                                {
                                    "0": "414BED1B55D60675",
                                    "1": "classic_bike",
                                    "2": "2021-09-27 13:41:40.000",
                                    "3": "2021-09-27 14:18:22.000",
                                    "4": "Marine Dr & Ainslie St",
                                    "5": "KA1504000171",
                                    "6": "Marine Dr & Ainslie St",
                                    "7": "KA1504000171",
                                    "8": "41.9716",
                                    "9": "-87.650154",
                                    "10": "41.9716",
                                    "11": "-87.650154",
                                    "12": "casual",
                                    "13": "1899-12-30 00:36:42.000",
                                    "14": "2",
                                    "15": "NULL",
                                    "16": "NULL",
                                    "17": "NULL",
                                    "18": "NULL",
                                    "19": "NULL",
                                    "20": "NULL"
                                },
                                {
                                    "0": "90EDB547332E2070",
                                    "1": "classic_bike",
                                    "2": "2021-09-11 15:38:56.000",
                                    "3": "2021-09-11 15:51:21.000",
                                    "4": "Pine Grove Ave & Irving Park Rd",
                                    "5": "TA1308000022",
                                    "6": "Marine Dr & Ainslie St",
                                    "7": "KA1504000171",
                                    "8": "41.954383",
                                    "9": "-87.648043",
                                    "10": "41.9716",
                                    "11": "-87.650154",
                                    "12": "casual",
                                    "13": "1899-12-30 00:12:25.000",
                                    "14": "7",
                                    "15": "NULL",
                                    "16": "NULL",
                                    "17": "NULL",
                                    "18": "NULL",
                                    "19": "NULL",
                                    "20": "NULL"
                                },
                                {
                                    "0": "57D7B7C12747009D",
                                    "1": "classic_bike",
                                    "2": "2021-09-19 19:55:16.000",
                                    "3": "2021-09-19 19:58:47.000",
                                    "4": "Sheffield Ave & Webster Ave",
                                    "5": "TA1309000033",
                                    "6": "Bissell St & Armitage Ave",
                                    "7": "13059",
                                    "8": "41.92154",
                                    "9": "-87.653818",
                                    "10": "41.91844",
                                    "11": "-87.65222",
                                    "12": "casual",
                                    "13": "1899-12-30 00:03:31.000",
                                    "14": "1",
                                    "15": "NULL",
                                    "16": "NULL",
                                    "17": "NULL",
                                    "18": "NULL",
                                    "19": "NULL",
                                    "20": "NULL"
                                },
                                {
                                    "0": "F9B959923F25703B",
                                    "1": "classic_bike",
                                    "2": "2021-09-20 17:46:40.000",
                                    "3": "2021-09-20 18:13:55.000",
                                    "4": "Troy St & North Ave",
                                    "5": "15653",
                                    "6": "Troy St & North Ave",
                                    "7": "15653",
                                    "8": "41.90976930169",
                                    "9": "-87.7052804871",
                                    "10": "41.90976930169",
                                    "11": "-87.7052804871",
                                    "12": "casual",
                                    "13": "1899-12-30 00:27:15.000",
                                    "14": "2",
                                    "15": "NULL",
                                    "16": "NULL",
                                    "17": "NULL",
                                    "18": "NULL",
                                    "19": "NULL",
                                    "20": "NULL"
                                },
                                {
                                    "0": "E3543080D97338EE",
                                    "1": "classic_bike",
                                    "2": "2021-09-19 09:51:32.000",
                                    "3": "2021-09-19 10:02:07.000",
                                    "4": "Marine Dr & Ainslie St",
                                    "5": "KA1504000171",
                                    "6": "Marine Dr & Ainslie St",
                                    "7": "KA1504000171",
                                    "8": "41.9716",
                                    "9": "-87.650154",
                                    "10": "41.9716",
                                    "11": "-87.650154",
                                    "12": "casual",
                                    "13": "1899-12-30 00:10:35.000",
                                    "14": "1",
                                    "15": "NULL",
                                    "16": "NULL",
                                    "17": "NULL",
                                    "18": "NULL",
                                    "19": "NULL",
                                    "20": "NULL"
                                },
                                {
                                    "0": "31572DF77EA77868",
                                    "1": "classic_bike",
                                    "2": "2021-09-26 13:06:39.000",
                                    "3": "2021-09-26 13:18:04.000",
                                    "4": "Marine Dr & Ainslie St",
                                    "5": "KA1504000171",
                                    "6": "Marine Dr & Ainslie St",
                                    "7": "KA1504000171",
                                    "8": "41.9716",
                                    "9": "-87.650154",
                                    "10": "41.9716",
                                    "11": "-87.650154",
                                    "12": "casual",
                                    "13": "1899-12-30 00:11:25.000",
                                    "14": "1",
                                    "15": "NULL",
                                    "16": "NULL",
                                    "17": "NULL",
                                    "18": "NULL",
                                    "19": "NULL",
                                    "20": "NULL"
                                },
                                {
                                    "0": "A529E2EDA96B4CA2",
                                    "1": "classic_bike",
                                    "2": "2021-09-06 12:14:05.000",
                                    "3": "2021-09-06 12:48:40.000",
                                    "4": "Troy St & North Ave",
                                    "5": "15653",
                                    "6": "Troy St & North Ave",
                                    "7": "15653",
                                    "8": "41.90976930169",
                                    "9": "-87.7052804871",
                                    "10": "41.90976930169",
                                    "11": "-87.7052804871",
                                    "12": "casual",
                                    "13": "1899-12-30 00:34:35.000",
                                    "14": "2",
                                    "15": "NULL",
                                    "16": "NULL",
                                    "17": "NULL",
                                    "18": "NULL",
                                    "19": "NULL",
                                    "20": "NULL"
                                },
                                {
                                    "0": "7147006750C9E020",
                                    "1": "classic_bike",
                                    "2": "2021-09-05 19:02:01.000",
                                    "3": "2021-09-05 19:26:40.000",
                                    "4": "Marine Dr & Ainslie St",
                                    "5": "KA1504000171",
                                    "6": "Marine Dr & Ainslie St",
                                    "7": "KA1504000171",
                                    "8": "41.9716",
                                    "9": "-87.650154",
                                    "10": "41.9716",
                                    "11": "-87.650154",
                                    "12": "casual",
                                    "13": "1899-12-30 00:24:39.000",
                                    "14": "1",
                                    "15": "NULL",
                                    "16": "NULL",
                                    "17": "NULL",
                                    "18": "NULL",
                                    "19": "NULL",
                                    "20": "NULL"
                                }
                            ]
                        },
                        "text/html": [
                            "<table>",
                            "<tr><th>ride_id</th><th>rideable_type</th><th>started_at</th><th>ended_at</th><th>start_station_name</th><th>start_station_id</th><th>end_station_name</th><th>end_station_id</th><th>start_lat</th><th>start_lng</th><th>end_lat</th><th>end_lng</th><th>member_casual</th><th>ride_length</th><th>day_of_week</th><th>F16</th><th>number_members</th><th>number_casual</th><th>mean_ride_length</th><th>max_ride_length</th><th>mode_day</th></tr>",
                            "<tr><td>B89639535028F8A8</td><td>classic_bike</td><td>2021-09-12 17:49:57.000</td><td>2021-09-12 19:41:25.000</td><td>Pine Grove Ave &amp; Irving Park Rd</td><td>TA1308000022</td><td>Pine Grove Ave &amp; Irving Park Rd</td><td>TA1308000022</td><td>41.954383</td><td>-87.648043</td><td>41.954383</td><td>-87.648043</td><td>casual</td><td>1899-12-30 01:51:28.000</td><td>1</td><td>NULL</td><td>NULL</td><td>NULL</td><td>NULL</td><td>NULL</td><td>NULL</td></tr>",
                            "<tr><td>869F9B901520E6F4</td><td>electric_bike</td><td>2021-09-06 17:27:31.000</td><td>2021-09-06 18:28:03.000</td><td>Troy St &amp; North Ave</td><td>15653</td><td>Troy St &amp; North Ave</td><td>15653</td><td>41.9098351666666</td><td>-87.7053775</td><td>41.9098543333333</td><td>-87.7053835</td><td>casual</td><td>1899-12-30 01:00:32.000</td><td>2</td><td>NULL</td><td>NULL</td><td>NULL</td><td>NULL</td><td>NULL</td><td>NULL</td></tr>",
                            "<tr><td>414BED1B55D60675</td><td>classic_bike</td><td>2021-09-27 13:41:40.000</td><td>2021-09-27 14:18:22.000</td><td>Marine Dr &amp; Ainslie St</td><td>KA1504000171</td><td>Marine Dr &amp; Ainslie St</td><td>KA1504000171</td><td>41.9716</td><td>-87.650154</td><td>41.9716</td><td>-87.650154</td><td>casual</td><td>1899-12-30 00:36:42.000</td><td>2</td><td>NULL</td><td>NULL</td><td>NULL</td><td>NULL</td><td>NULL</td><td>NULL</td></tr>",
                            "<tr><td>90EDB547332E2070</td><td>classic_bike</td><td>2021-09-11 15:38:56.000</td><td>2021-09-11 15:51:21.000</td><td>Pine Grove Ave &amp; Irving Park Rd</td><td>TA1308000022</td><td>Marine Dr &amp; Ainslie St</td><td>KA1504000171</td><td>41.954383</td><td>-87.648043</td><td>41.9716</td><td>-87.650154</td><td>casual</td><td>1899-12-30 00:12:25.000</td><td>7</td><td>NULL</td><td>NULL</td><td>NULL</td><td>NULL</td><td>NULL</td><td>NULL</td></tr>",
                            "<tr><td>57D7B7C12747009D</td><td>classic_bike</td><td>2021-09-19 19:55:16.000</td><td>2021-09-19 19:58:47.000</td><td>Sheffield Ave &amp; Webster Ave</td><td>TA1309000033</td><td>Bissell St &amp; Armitage Ave</td><td>13059</td><td>41.92154</td><td>-87.653818</td><td>41.91844</td><td>-87.65222</td><td>casual</td><td>1899-12-30 00:03:31.000</td><td>1</td><td>NULL</td><td>NULL</td><td>NULL</td><td>NULL</td><td>NULL</td><td>NULL</td></tr>",
                            "<tr><td>F9B959923F25703B</td><td>classic_bike</td><td>2021-09-20 17:46:40.000</td><td>2021-09-20 18:13:55.000</td><td>Troy St &amp; North Ave</td><td>15653</td><td>Troy St &amp; North Ave</td><td>15653</td><td>41.90976930169</td><td>-87.7052804871</td><td>41.90976930169</td><td>-87.7052804871</td><td>casual</td><td>1899-12-30 00:27:15.000</td><td>2</td><td>NULL</td><td>NULL</td><td>NULL</td><td>NULL</td><td>NULL</td><td>NULL</td></tr>",
                            "<tr><td>E3543080D97338EE</td><td>classic_bike</td><td>2021-09-19 09:51:32.000</td><td>2021-09-19 10:02:07.000</td><td>Marine Dr &amp; Ainslie St</td><td>KA1504000171</td><td>Marine Dr &amp; Ainslie St</td><td>KA1504000171</td><td>41.9716</td><td>-87.650154</td><td>41.9716</td><td>-87.650154</td><td>casual</td><td>1899-12-30 00:10:35.000</td><td>1</td><td>NULL</td><td>NULL</td><td>NULL</td><td>NULL</td><td>NULL</td><td>NULL</td></tr>",
                            "<tr><td>31572DF77EA77868</td><td>classic_bike</td><td>2021-09-26 13:06:39.000</td><td>2021-09-26 13:18:04.000</td><td>Marine Dr &amp; Ainslie St</td><td>KA1504000171</td><td>Marine Dr &amp; Ainslie St</td><td>KA1504000171</td><td>41.9716</td><td>-87.650154</td><td>41.9716</td><td>-87.650154</td><td>casual</td><td>1899-12-30 00:11:25.000</td><td>1</td><td>NULL</td><td>NULL</td><td>NULL</td><td>NULL</td><td>NULL</td><td>NULL</td></tr>",
                            "<tr><td>A529E2EDA96B4CA2</td><td>classic_bike</td><td>2021-09-06 12:14:05.000</td><td>2021-09-06 12:48:40.000</td><td>Troy St &amp; North Ave</td><td>15653</td><td>Troy St &amp; North Ave</td><td>15653</td><td>41.90976930169</td><td>-87.7052804871</td><td>41.90976930169</td><td>-87.7052804871</td><td>casual</td><td>1899-12-30 00:34:35.000</td><td>2</td><td>NULL</td><td>NULL</td><td>NULL</td><td>NULL</td><td>NULL</td><td>NULL</td></tr>",
                            "<tr><td>7147006750C9E020</td><td>classic_bike</td><td>2021-09-05 19:02:01.000</td><td>2021-09-05 19:26:40.000</td><td>Marine Dr &amp; Ainslie St</td><td>KA1504000171</td><td>Marine Dr &amp; Ainslie St</td><td>KA1504000171</td><td>41.9716</td><td>-87.650154</td><td>41.9716</td><td>-87.650154</td><td>casual</td><td>1899-12-30 00:24:39.000</td><td>1</td><td>NULL</td><td>NULL</td><td>NULL</td><td>NULL</td><td>NULL</td><td>NULL</td></tr>",
                            "</table>"
                        ]
                    }
                }
            ],
            "execution_count": 1
        },
        {
            "cell_type": "code",
            "source": [
                "-------------------------------------- Create a CTE of yearly data by combining all data for all months --------------------------------------\r\n",
                "\r\n",
                "WITH yearly_data as \r\n",
                "(\r\n",
                "SELECT *\r\n",
                "FROM Cyclistic_202109\r\n",
                "UNION all\r\n",
                "SELECT *\r\n",
                "FROM Cyclistic_202110\r\n",
                "UNION all\r\n",
                "SELECT *\r\n",
                "FROM Cyclistic_202111\r\n",
                "UNION all\r\n",
                "SELECT *\r\n",
                "FROM Cyclistic_202112\r\n",
                "UNION all\r\n",
                "SELECT *\r\n",
                "FROM Cyclistic_202201\r\n",
                "UNION all\r\n",
                "SELECT *\r\n",
                "FROM Cyclistic_202202\r\n",
                "UNION all\r\n",
                "SELECT *\r\n",
                "FROM Cyclistic_202203\r\n",
                "UNION all\r\n",
                "SELECT *\r\n",
                "FROM Cyclistic_202204\r\n",
                "UNION all\r\n",
                "SELECT *\r\n",
                "FROM Cyclistic_202205\r\n",
                "UNION all\r\n",
                "SELECT *\r\n",
                "FROM Cyclistic_202206\r\n",
                "UNION all\r\n",
                "SELECT *\r\n",
                "FROM Cyclistic_202207\r\n",
                "UNION all\r\n",
                "SELECT *\r\n",
                "FROM Cyclistic_202208\r\n",
                "),\r\n",
                "\r\n",
                "\r\n",
                "-------------------------------------- Remove all data points with NULL values --------------------------------------\r\n",
                "\r\n",
                "NULL_cleaned AS\r\n",
                "(\r\n",
                "\tSELECT *\r\n",
                "\tFROM yearly_data WHERE start_station_name   NOT LIKE '%NULL%'\r\n",
                "\t\t\t\t\t\tAND end_station_name  NOT LIKE '%NULL%'\r\n",
                "\t\t\t\t\t\t\tAND start_lat  NOT LIKE '%NULL%'\r\n",
                "\t\t\t\t\t\t\t\tAND start_lng  NOT LIKE '%NULL%'\r\n",
                "\t\t\t\t\t\t\t\t\tAND end_lat  NOT LIKE '%NULL%'\r\n",
                "\t\t\t\t\t\t\t\t\t\tAND end_lng NOT LIKE'%NULL%'\r\n",
                "\t\t\t\t\t\t\t\t\t\t\tAND start_station_id NOT LIKE'%NULL%'\r\n",
                "),\r\n",
                "\r\n",
                "\r\n",
                "-------------------------------------- Calculate the total ride length in minutes and assign day of the weel names --------------------------------------\r\n",
                "\r\n",
                "aggre_data AS (\r\n",
                "\tSELECT *,\r\n",
                "    DATEDIFF(MINUTE,started_at, ended_at) as TotalMinutes,\r\n",
                "    CASE\r\n",
                "      WHEN day_of_week = 2 THEN 'Monday'\r\n",
                "      WHEN day_of_week = 3 THEN 'Tuesday'\r\n",
                "      WHEN day_of_week = 4 THEN 'Wednesday'\r\n",
                "      WHEN day_of_week = 5 THEN 'Thursday'\r\n",
                "      WHEN day_of_week = 6 THEN 'Friday'\r\n",
                "      WHEN day_of_week = 7 THEN 'Saturday'\r\n",
                "\t  WHEN day_of_week = 1 THEN 'Sunday'\r\n",
                "\tEND\r\n",
                "    AS Day_Week\r\n",
                "FROM NULL_cleaned\r\n",
                "),\r\n",
                "\r\n",
                "\r\n",
                "-------------------------------------- Retain only ride ids with 16 alphanumerics with ride lengths above 1 minute --------------------------------------\r\n",
                "\r\n",
                "clean_ride_id_data AS\r\n",
                "(\r\n",
                "\tSELECT *\r\n",
                "\tFROM aggre_data\r\n",
                "\tWHERE LEN(ride_id) = 16 AND TotalMinutes > 1\r\n",
                "),\r\n",
                "\r\n",
                "\r\n",
                "-------------------------------------- Clean end & start stations names --------------------------------------\r\n",
                "\r\n",
                "Clean_Table AS\r\n",
                "(\r\n",
                "\tSELECT *,\r\n",
                "\tTRIM(REPLACE\r\n",
                "\t\t(REPLACE\r\n",
                "\t\t\t(end_station_name, '(*)',''),\r\n",
                "\t\t\t\t'(TEMP)','')) as cln_end_station_name,\r\n",
                "\r\n",
                "\tTRIM(REPLACE\r\n",
                "\t\t(REPLACE\r\n",
                "\t\t\t(start_station_name, '(*)',''),\r\n",
                "\t\t\t\t'(TEMP)','')) as cln_start_station_name\r\n",
                "\r\n",
                "\tFROM clean_ride_id_data\r\n",
                "\tWHERE end_station_name NOT LIKE '%(LBS-WH-TEST)%' and start_station_name NOT LIKE '%(LBS-WH-TEST)%' \r\n",
                ")\r\n",
                "\r\n",
                "Select *\r\n",
                "Into Final_Table\r\n",
                "From Clean_Table"
            ],
            "metadata": {
                "azdata_cell_guid": "c7943a21-59e7-44f0-8679-0e1399af4db6",
                "language": "sql"
            },
            "outputs": [
                {
                    "output_type": "display_data",
                    "data": {
                        "text/html": "(3908105 rows affected)"
                    },
                    "metadata": {}
                },
                {
                    "output_type": "display_data",
                    "data": {
                        "text/html": "Total execution time: 00:00:54.552"
                    },
                    "metadata": {}
                }
            ],
            "execution_count": 3
        },
        {
            "cell_type": "code",
            "source": [
                "--Count the total number of Casual & Members\r\n",
                "\r\n",
                "Select member_casual as User_type, count(member_casual) as Count\r\n",
                "FROM Final_Table\r\n",
                "group by member_casual"
            ],
            "metadata": {
                "azdata_cell_guid": "ee4d02ae-267c-4ba3-a53c-1e92c02b9993",
                "language": "sql"
            },
            "outputs": [
                {
                    "output_type": "display_data",
                    "data": {
                        "text/html": "(2 rows affected)"
                    },
                    "metadata": {}
                },
                {
                    "output_type": "display_data",
                    "data": {
                        "text/html": "Total execution time: 00:00:03.574"
                    },
                    "metadata": {}
                },
                {
                    "output_type": "execute_result",
                    "metadata": {},
                    "execution_count": 4,
                    "data": {
                        "application/vnd.dataresource+json": {
                            "schema": {
                                "fields": [
                                    {
                                        "name": "User_type"
                                    },
                                    {
                                        "name": "Count"
                                    }
                                ]
                            },
                            "data": [
                                {
                                    "0": "member",
                                    "1": "2293609"
                                },
                                {
                                    "0": "casual",
                                    "1": "1614496"
                                }
                            ]
                        },
                        "text/html": [
                            "<table>",
                            "<tr><th>User_type</th><th>Count</th></tr>",
                            "<tr><td>member</td><td>2293609</td></tr>",
                            "<tr><td>casual</td><td>1614496</td></tr>",
                            "</table>"
                        ]
                    }
                }
            ],
            "execution_count": 4
        },
        {
            "cell_type": "code",
            "source": [
                "-- Daily trend of members\r\n",
                "\r\n",
                "Select cast(started_at as date) as Rides_Date, member_casual as User_type, sum(TotalMinutes)/60 as total_ride\r\n",
                "From Final_Table\r\n",
                "group by cast(started_at as date), member_casual"
            ],
            "metadata": {
                "azdata_cell_guid": "44146aa2-1b31-48d9-aa47-a0e260bc041f",
                "language": "sql"
            },
            "outputs": [
                {
                    "output_type": "display_data",
                    "data": {
                        "text/html": "(730 rows affected)"
                    },
                    "metadata": {}
                },
                {
                    "output_type": "display_data",
                    "data": {
                        "text/html": "Total execution time: 00:00:06.704"
                    },
                    "metadata": {}
                },
                {
                    "output_type": "execute_result",
                    "metadata": {},
                    "execution_count": 5,
                    "data": {
                        "application/vnd.dataresource+json": {
                            "schema": {
                                "fields": [
                                    {
                                        "name": "Rides_Date"
                                    },
                                    {
                                        "name": "User_type"
                                    },
                                    {
                                        "name": "total_ride"
                                    }
                                ]
                            },
                            "data": [
                                {
                                    "0": "2021-09-01",
                                    "1": "casual",
                                    "2": "3158"
                                },
                                {
                                    "0": "2021-09-02",
                                    "1": "casual",
                                    "2": "3863"
                                },
                                {
                                    "0": "2021-09-03",
                                    "1": "casual",
                                    "2": "4363"
                                },
                                {
                                    "0": "2021-09-04",
                                    "1": "casual",
                                    "2": "7822"
                                },
                                {
                                    "0": "2021-09-05",
                                    "1": "casual",
                                    "2": "12734"
                                },
                                {
                                    "0": "2021-09-06",
                                    "1": "casual",
                                    "2": "9354"
                                },
                                {
                                    "0": "2021-09-07",
                                    "1": "casual",
                                    "2": "2264"
                                },
                                {
                                    "0": "2021-09-08",
                                    "1": "casual",
                                    "2": "3180"
                                },
                                {
                                    "0": "2021-09-09",
                                    "1": "casual",
                                    "2": "3210"
                                },
                                {
                                    "0": "2021-09-10",
                                    "1": "casual",
                                    "2": "4469"
                                },
                                {
                                    "0": "2021-09-11",
                                    "1": "casual",
                                    "2": "8702"
                                },
                                {
                                    "0": "2021-09-12",
                                    "1": "casual",
                                    "2": "6490"
                                },
                                {
                                    "0": "2021-09-13",
                                    "1": "casual",
                                    "2": "3143"
                                },
                                {
                                    "0": "2021-09-14",
                                    "1": "casual",
                                    "2": "2663"
                                },
                                {
                                    "0": "2021-09-15",
                                    "1": "casual",
                                    "2": "3633"
                                },
                                {
                                    "0": "2021-09-16",
                                    "1": "casual",
                                    "2": "4046"
                                },
                                {
                                    "0": "2021-09-17",
                                    "1": "casual",
                                    "2": "5032"
                                },
                                {
                                    "0": "2021-09-18",
                                    "1": "casual",
                                    "2": "8435"
                                },
                                {
                                    "0": "2021-09-19",
                                    "1": "casual",
                                    "2": "6808"
                                },
                                {
                                    "0": "2021-09-20",
                                    "1": "casual",
                                    "2": "2312"
                                },
                                {
                                    "0": "2021-09-21",
                                    "1": "casual",
                                    "2": "1744"
                                },
                                {
                                    "0": "2021-09-22",
                                    "1": "casual",
                                    "2": "1319"
                                },
                                {
                                    "0": "2021-09-23",
                                    "1": "casual",
                                    "2": "1886"
                                },
                                {
                                    "0": "2021-09-24",
                                    "1": "casual",
                                    "2": "3695"
                                },
                                {
                                    "0": "2021-09-25",
                                    "1": "casual",
                                    "2": "6800"
                                },
                                {
                                    "0": "2021-09-26",
                                    "1": "casual",
                                    "2": "6141"
                                },
                                {
                                    "0": "2021-09-27",
                                    "1": "casual",
                                    "2": "2656"
                                },
                                {
                                    "0": "2021-09-28",
                                    "1": "casual",
                                    "2": "2318"
                                },
                                {
                                    "0": "2021-09-29",
                                    "1": "casual",
                                    "2": "2369"
                                },
                                {
                                    "0": "2021-09-30",
                                    "1": "casual",
                                    "2": "2465"
                                },
                                {
                                    "0": "2021-10-01",
                                    "1": "casual",
                                    "2": "4457"
                                },
                                {
                                    "0": "2021-10-02",
                                    "1": "casual",
                                    "2": "5720"
                                },
                                {
                                    "0": "2021-10-03",
                                    "1": "casual",
                                    "2": "3722"
                                },
                                {
                                    "0": "2021-10-04",
                                    "1": "casual",
                                    "2": "1672"
                                },
                                {
                                    "0": "2021-10-05",
                                    "1": "casual",
                                    "2": "1858"
                                },
                                {
                                    "0": "2021-10-06",
                                    "1": "casual",
                                    "2": "1801"
                                },
                                {
                                    "0": "2021-10-07",
                                    "1": "casual",
                                    "2": "1399"
                                },
                                {
                                    "0": "2021-10-08",
                                    "1": "casual",
                                    "2": "2533"
                                },
                                {
                                    "0": "2021-10-09",
                                    "1": "casual",
                                    "2": "8142"
                                },
                                {
                                    "0": "2021-10-10",
                                    "1": "casual",
                                    "2": "9293"
                                },
                                {
                                    "0": "2021-10-11",
                                    "1": "casual",
                                    "2": "1986"
                                },
                                {
                                    "0": "2021-10-12",
                                    "1": "casual",
                                    "2": "1960"
                                },
                                {
                                    "0": "2021-10-13",
                                    "1": "casual",
                                    "2": "1496"
                                },
                                {
                                    "0": "2021-10-14",
                                    "1": "casual",
                                    "2": "1869"
                                },
                                {
                                    "0": "2021-10-15",
                                    "1": "casual",
                                    "2": "2312"
                                },
                                {
                                    "0": "2021-10-16",
                                    "1": "casual",
                                    "2": "5037"
                                },
                                {
                                    "0": "2021-10-17",
                                    "1": "casual",
                                    "2": "5220"
                                },
                                {
                                    "0": "2021-10-18",
                                    "1": "casual",
                                    "2": "2406"
                                },
                                {
                                    "0": "2021-10-19",
                                    "1": "casual",
                                    "2": "2020"
                                },
                                {
                                    "0": "2021-10-20",
                                    "1": "casual",
                                    "2": "1998"
                                },
                                {
                                    "0": "2021-10-21",
                                    "1": "casual",
                                    "2": "928"
                                },
                                {
                                    "0": "2021-10-22",
                                    "1": "casual",
                                    "2": "1987"
                                },
                                {
                                    "0": "2021-10-23",
                                    "1": "casual",
                                    "2": "3799"
                                },
                                {
                                    "0": "2021-10-24",
                                    "1": "casual",
                                    "2": "521"
                                },
                                {
                                    "0": "2021-10-25",
                                    "1": "casual",
                                    "2": "431"
                                },
                                {
                                    "0": "2021-10-26",
                                    "1": "casual",
                                    "2": "1252"
                                },
                                {
                                    "0": "2021-10-27",
                                    "1": "casual",
                                    "2": "1111"
                                },
                                {
                                    "0": "2021-10-28",
                                    "1": "casual",
                                    "2": "446"
                                },
                                {
                                    "0": "2021-10-29",
                                    "1": "casual",
                                    "2": "337"
                                },
                                {
                                    "0": "2021-10-30",
                                    "1": "casual",
                                    "2": "2741"
                                },
                                {
                                    "0": "2021-10-31",
                                    "1": "casual",
                                    "2": "2431"
                                },
                                {
                                    "0": "2021-11-01",
                                    "1": "casual",
                                    "2": "399"
                                },
                                {
                                    "0": "2021-11-02",
                                    "1": "casual",
                                    "2": "350"
                                },
                                {
                                    "0": "2021-11-03",
                                    "1": "casual",
                                    "2": "304"
                                },
                                {
                                    "0": "2021-11-04",
                                    "1": "casual",
                                    "2": "815"
                                },
                                {
                                    "0": "2021-11-05",
                                    "1": "casual",
                                    "2": "618"
                                },
                                {
                                    "0": "2021-11-06",
                                    "1": "casual",
                                    "2": "1338"
                                },
                                {
                                    "0": "2021-11-07",
                                    "1": "casual",
                                    "2": "1545"
                                },
                                {
                                    "0": "2021-11-08",
                                    "1": "casual",
                                    "2": "756"
                                },
                                {
                                    "0": "2021-11-09",
                                    "1": "casual",
                                    "2": "386"
                                },
                                {
                                    "0": "2021-11-10",
                                    "1": "casual",
                                    "2": "447"
                                },
                                {
                                    "0": "2021-11-11",
                                    "1": "casual",
                                    "2": "241"
                                },
                                {
                                    "0": "2021-11-12",
                                    "1": "casual",
                                    "2": "200"
                                },
                                {
                                    "0": "2021-11-13",
                                    "1": "casual",
                                    "2": "547"
                                },
                                {
                                    "0": "2021-11-14",
                                    "1": "casual",
                                    "2": "270"
                                },
                                {
                                    "0": "2021-11-15",
                                    "1": "casual",
                                    "2": "326"
                                },
                                {
                                    "0": "2021-11-16",
                                    "1": "casual",
                                    "2": "244"
                                },
                                {
                                    "0": "2021-11-17",
                                    "1": "casual",
                                    "2": "174"
                                },
                                {
                                    "0": "2021-11-18",
                                    "1": "casual",
                                    "2": "154"
                                },
                                {
                                    "0": "2021-11-19",
                                    "1": "casual",
                                    "2": "342"
                                },
                                {
                                    "0": "2021-11-20",
                                    "1": "casual",
                                    "2": "651"
                                },
                                {
                                    "0": "2021-11-21",
                                    "1": "casual",
                                    "2": "659"
                                },
                                {
                                    "0": "2021-11-22",
                                    "1": "casual",
                                    "2": "304"
                                },
                                {
                                    "0": "2021-11-23",
                                    "1": "casual",
                                    "2": "333"
                                },
                                {
                                    "0": "2021-11-24",
                                    "1": "casual",
                                    "2": "398"
                                },
                                {
                                    "0": "2021-11-25",
                                    "1": "casual",
                                    "2": "284"
                                },
                                {
                                    "0": "2021-11-26",
                                    "1": "casual",
                                    "2": "331"
                                },
                                {
                                    "0": "2021-11-27",
                                    "1": "casual",
                                    "2": "411"
                                },
                                {
                                    "0": "2021-11-28",
                                    "1": "casual",
                                    "2": "225"
                                },
                                {
                                    "0": "2021-11-29",
                                    "1": "casual",
                                    "2": "101"
                                },
                                {
                                    "0": "2021-11-30",
                                    "1": "casual",
                                    "2": "203"
                                },
                                {
                                    "0": "2021-12-01",
                                    "1": "casual",
                                    "2": "1010"
                                },
                                {
                                    "0": "2021-12-02",
                                    "1": "casual",
                                    "2": "1089"
                                },
                                {
                                    "0": "2021-12-03",
                                    "1": "casual",
                                    "2": "921"
                                },
                                {
                                    "0": "2021-12-04",
                                    "1": "casual",
                                    "2": "1208"
                                },
                                {
                                    "0": "2021-12-05",
                                    "1": "casual",
                                    "2": "363"
                                },
                                {
                                    "0": "2021-12-06",
                                    "1": "casual",
                                    "2": "281"
                                },
                                {
                                    "0": "2021-12-07",
                                    "1": "casual",
                                    "2": "143"
                                },
                                {
                                    "0": "2021-12-08",
                                    "1": "casual",
                                    "2": "465"
                                },
                                {
                                    "0": "2021-12-09",
                                    "1": "casual",
                                    "2": "413"
                                },
                                {
                                    "0": "2021-12-10",
                                    "1": "casual",
                                    "2": "422"
                                },
                                {
                                    "0": "2021-12-11",
                                    "1": "casual",
                                    "2": "641"
                                },
                                {
                                    "0": "2021-12-12",
                                    "1": "casual",
                                    "2": "1199"
                                },
                                {
                                    "0": "2021-12-13",
                                    "1": "casual",
                                    "2": "504"
                                },
                                {
                                    "0": "2021-12-14",
                                    "1": "casual",
                                    "2": "814"
                                },
                                {
                                    "0": "2021-12-15",
                                    "1": "casual",
                                    "2": "696"
                                },
                                {
                                    "0": "2021-12-16",
                                    "1": "casual",
                                    "2": "595"
                                },
                                {
                                    "0": "2021-12-17",
                                    "1": "casual",
                                    "2": "462"
                                },
                                {
                                    "0": "2021-12-18",
                                    "1": "casual",
                                    "2": "387"
                                },
                                {
                                    "0": "2021-12-19",
                                    "1": "casual",
                                    "2": "837"
                                },
                                {
                                    "0": "2021-12-20",
                                    "1": "casual",
                                    "2": "518"
                                },
                                {
                                    "0": "2021-12-21",
                                    "1": "casual",
                                    "2": "430"
                                },
                                {
                                    "0": "2021-12-22",
                                    "1": "casual",
                                    "2": "295"
                                },
                                {
                                    "0": "2021-12-23",
                                    "1": "casual",
                                    "2": "791"
                                },
                                {
                                    "0": "2021-12-24",
                                    "1": "casual",
                                    "2": "503"
                                },
                                {
                                    "0": "2021-12-25",
                                    "1": "casual",
                                    "2": "698"
                                },
                                {
                                    "0": "2021-12-26",
                                    "1": "casual",
                                    "2": "520"
                                },
                                {
                                    "0": "2021-12-27",
                                    "1": "casual",
                                    "2": "507"
                                },
                                {
                                    "0": "2021-12-28",
                                    "1": "casual",
                                    "2": "185"
                                },
                                {
                                    "0": "2021-12-29",
                                    "1": "casual",
                                    "2": "385"
                                },
                                {
                                    "0": "2021-12-30",
                                    "1": "casual",
                                    "2": "523"
                                },
                                {
                                    "0": "2021-12-31",
                                    "1": "casual",
                                    "2": "837"
                                },
                                {
                                    "0": "2022-01-01",
                                    "1": "casual",
                                    "2": "1470"
                                },
                                {
                                    "0": "2022-01-02",
                                    "1": "casual",
                                    "2": "373"
                                },
                                {
                                    "0": "2022-01-03",
                                    "1": "casual",
                                    "2": "187"
                                },
                                {
                                    "0": "2022-01-04",
                                    "1": "casual",
                                    "2": "242"
                                },
                                {
                                    "0": "2022-01-05",
                                    "1": "casual",
                                    "2": "143"
                                },
                                {
                                    "0": "2022-01-06",
                                    "1": "casual",
                                    "2": "1075"
                                },
                                {
                                    "0": "2022-01-07",
                                    "1": "casual",
                                    "2": "190"
                                },
                                {
                                    "0": "2022-01-08",
                                    "1": "casual",
                                    "2": "220"
                                },
                                {
                                    "0": "2022-01-09",
                                    "1": "casual",
                                    "2": "151"
                                },
                                {
                                    "0": "2022-01-10",
                                    "1": "casual",
                                    "2": "266"
                                },
                                {
                                    "0": "2022-01-11",
                                    "1": "casual",
                                    "2": "165"
                                },
                                {
                                    "0": "2022-01-12",
                                    "1": "casual",
                                    "2": "1261"
                                },
                                {
                                    "0": "2022-01-13",
                                    "1": "casual",
                                    "2": "864"
                                },
                                {
                                    "0": "2022-01-14",
                                    "1": "casual",
                                    "2": "497"
                                },
                                {
                                    "0": "2022-01-15",
                                    "1": "casual",
                                    "2": "348"
                                },
                                {
                                    "0": "2022-01-16",
                                    "1": "casual",
                                    "2": "469"
                                },
                                {
                                    "0": "2022-01-17",
                                    "1": "casual",
                                    "2": "361"
                                },
                                {
                                    "0": "2022-01-18",
                                    "1": "casual",
                                    "2": "327"
                                },
                                {
                                    "0": "2022-01-19",
                                    "1": "casual",
                                    "2": "278"
                                },
                                {
                                    "0": "2022-01-20",
                                    "1": "casual",
                                    "2": "149"
                                },
                                {
                                    "0": "2022-01-21",
                                    "1": "casual",
                                    "2": "253"
                                },
                                {
                                    "0": "2022-01-22",
                                    "1": "casual",
                                    "2": "502"
                                },
                                {
                                    "0": "2022-01-23",
                                    "1": "casual",
                                    "2": "110"
                                },
                                {
                                    "0": "2022-01-24",
                                    "1": "casual",
                                    "2": "141"
                                },
                                {
                                    "0": "2022-01-25",
                                    "1": "casual",
                                    "2": "113"
                                },
                                {
                                    "0": "2022-01-26",
                                    "1": "casual",
                                    "2": "89"
                                },
                                {
                                    "0": "2022-01-27",
                                    "1": "casual",
                                    "2": "233"
                                },
                                {
                                    "0": "2022-01-28",
                                    "1": "casual",
                                    "2": "248"
                                },
                                {
                                    "0": "2022-01-29",
                                    "1": "casual",
                                    "2": "234"
                                },
                                {
                                    "0": "2022-01-30",
                                    "1": "casual",
                                    "2": "274"
                                },
                                {
                                    "0": "2022-01-31",
                                    "1": "casual",
                                    "2": "239"
                                },
                                {
                                    "0": "2022-02-01",
                                    "1": "casual",
                                    "2": "125"
                                },
                                {
                                    "0": "2022-02-02",
                                    "1": "casual",
                                    "2": "28"
                                },
                                {
                                    "0": "2022-02-03",
                                    "1": "casual",
                                    "2": "98"
                                },
                                {
                                    "0": "2022-02-04",
                                    "1": "casual",
                                    "2": "94"
                                },
                                {
                                    "0": "2022-02-05",
                                    "1": "casual",
                                    "2": "86"
                                },
                                {
                                    "0": "2022-02-06",
                                    "1": "casual",
                                    "2": "267"
                                },
                                {
                                    "0": "2022-02-07",
                                    "1": "casual",
                                    "2": "91"
                                },
                                {
                                    "0": "2022-02-08",
                                    "1": "casual",
                                    "2": "313"
                                },
                                {
                                    "0": "2022-02-09",
                                    "1": "casual",
                                    "2": "167"
                                },
                                {
                                    "0": "2022-02-10",
                                    "1": "casual",
                                    "2": "137"
                                },
                                {
                                    "0": "2022-02-11",
                                    "1": "casual",
                                    "2": "229"
                                },
                                {
                                    "0": "2022-02-12",
                                    "1": "casual",
                                    "2": "159"
                                },
                                {
                                    "0": "2022-02-13",
                                    "1": "casual",
                                    "2": "421"
                                },
                                {
                                    "0": "2022-02-14",
                                    "1": "casual",
                                    "2": "161"
                                },
                                {
                                    "0": "2022-02-15",
                                    "1": "casual",
                                    "2": "263"
                                },
                                {
                                    "0": "2022-02-16",
                                    "1": "casual",
                                    "2": "216"
                                },
                                {
                                    "0": "2022-02-17",
                                    "1": "casual",
                                    "2": "67"
                                },
                                {
                                    "0": "2022-02-18",
                                    "1": "casual",
                                    "2": "104"
                                },
                                {
                                    "0": "2022-02-19",
                                    "1": "casual",
                                    "2": "152"
                                },
                                {
                                    "0": "2022-02-20",
                                    "1": "casual",
                                    "2": "509"
                                },
                                {
                                    "0": "2022-02-21",
                                    "1": "casual",
                                    "2": "598"
                                },
                                {
                                    "0": "2022-02-22",
                                    "1": "casual",
                                    "2": "111"
                                },
                                {
                                    "0": "2022-02-23",
                                    "1": "casual",
                                    "2": "165"
                                },
                                {
                                    "0": "2022-02-24",
                                    "1": "casual",
                                    "2": "117"
                                },
                                {
                                    "0": "2022-02-25",
                                    "1": "casual",
                                    "2": "197"
                                },
                                {
                                    "0": "2022-02-26",
                                    "1": "casual",
                                    "2": "344"
                                },
                                {
                                    "0": "2022-02-27",
                                    "1": "casual",
                                    "2": "553"
                                },
                                {
                                    "0": "2022-02-28",
                                    "1": "casual",
                                    "2": "475"
                                },
                                {
                                    "0": "2022-03-01",
                                    "1": "casual",
                                    "2": "618"
                                },
                                {
                                    "0": "2022-03-02",
                                    "1": "casual",
                                    "2": "679"
                                },
                                {
                                    "0": "2022-03-03",
                                    "1": "casual",
                                    "2": "352"
                                },
                                {
                                    "0": "2022-03-04",
                                    "1": "casual",
                                    "2": "607"
                                },
                                {
                                    "0": "2022-03-05",
                                    "1": "casual",
                                    "2": "5497"
                                },
                                {
                                    "0": "2022-03-06",
                                    "1": "casual",
                                    "2": "824"
                                },
                                {
                                    "0": "2022-03-07",
                                    "1": "casual",
                                    "2": "197"
                                },
                                {
                                    "0": "2022-03-08",
                                    "1": "casual",
                                    "2": "432"
                                },
                                {
                                    "0": "2022-03-09",
                                    "1": "casual",
                                    "2": "523"
                                },
                                {
                                    "0": "2022-03-10",
                                    "1": "casual",
                                    "2": "267"
                                },
                                {
                                    "0": "2022-03-11",
                                    "1": "casual",
                                    "2": "261"
                                },
                                {
                                    "0": "2022-03-12",
                                    "1": "casual",
                                    "2": "468"
                                },
                                {
                                    "0": "2022-03-13",
                                    "1": "casual",
                                    "2": "1594"
                                },
                                {
                                    "0": "2022-03-14",
                                    "1": "casual",
                                    "2": "1428"
                                },
                                {
                                    "0": "2022-03-15",
                                    "1": "casual",
                                    "2": "782"
                                },
                                {
                                    "0": "2022-03-16",
                                    "1": "casual",
                                    "2": "2919"
                                },
                                {
                                    "0": "2022-03-17",
                                    "1": "casual",
                                    "2": "2075"
                                },
                                {
                                    "0": "2022-03-18",
                                    "1": "casual",
                                    "2": "265"
                                },
                                {
                                    "0": "2022-03-19",
                                    "1": "casual",
                                    "2": "450"
                                },
                                {
                                    "0": "2022-03-20",
                                    "1": "casual",
                                    "2": "3867"
                                },
                                {
                                    "0": "2022-03-21",
                                    "1": "casual",
                                    "2": "3710"
                                },
                                {
                                    "0": "2022-03-22",
                                    "1": "casual",
                                    "2": "415"
                                },
                                {
                                    "0": "2022-03-23",
                                    "1": "casual",
                                    "2": "574"
                                },
                                {
                                    "0": "2022-03-24",
                                    "1": "casual",
                                    "2": "340"
                                },
                                {
                                    "0": "2022-03-25",
                                    "1": "casual",
                                    "2": "601"
                                },
                                {
                                    "0": "2022-03-26",
                                    "1": "casual",
                                    "2": "431"
                                },
                                {
                                    "0": "2022-03-27",
                                    "1": "casual",
                                    "2": "571"
                                },
                                {
                                    "0": "2022-03-28",
                                    "1": "casual",
                                    "2": "330"
                                },
                                {
                                    "0": "2022-03-29",
                                    "1": "casual",
                                    "2": "308"
                                },
                                {
                                    "0": "2022-03-30",
                                    "1": "casual",
                                    "2": "178"
                                },
                                {
                                    "0": "2022-03-31",
                                    "1": "casual",
                                    "2": "237"
                                },
                                {
                                    "0": "2022-04-01",
                                    "1": "casual",
                                    "2": "483"
                                },
                                {
                                    "0": "2022-04-02",
                                    "1": "casual",
                                    "2": "218"
                                },
                                {
                                    "0": "2022-04-03",
                                    "1": "casual",
                                    "2": "498"
                                },
                                {
                                    "0": "2022-04-04",
                                    "1": "casual",
                                    "2": "358"
                                },
                                {
                                    "0": "2022-04-05",
                                    "1": "casual",
                                    "2": "348"
                                },
                                {
                                    "0": "2022-04-06",
                                    "1": "casual",
                                    "2": "399"
                                },
                                {
                                    "0": "2022-04-07",
                                    "1": "casual",
                                    "2": "203"
                                },
                                {
                                    "0": "2022-04-08",
                                    "1": "casual",
                                    "2": "128"
                                },
                                {
                                    "0": "2022-04-09",
                                    "1": "casual",
                                    "2": "631"
                                },
                                {
                                    "0": "2022-04-10",
                                    "1": "casual",
                                    "2": "1423"
                                },
                                {
                                    "0": "2022-04-11",
                                    "1": "casual",
                                    "2": "743"
                                },
                                {
                                    "0": "2022-04-12",
                                    "1": "casual",
                                    "2": "997"
                                },
                                {
                                    "0": "2022-04-13",
                                    "1": "casual",
                                    "2": "287"
                                },
                                {
                                    "0": "2022-04-14",
                                    "1": "casual",
                                    "2": "466"
                                },
                                {
                                    "0": "2022-04-15",
                                    "1": "casual",
                                    "2": "552"
                                },
                                {
                                    "0": "2022-04-16",
                                    "1": "casual",
                                    "2": "1202"
                                },
                                {
                                    "0": "2022-04-17",
                                    "1": "casual",
                                    "2": "432"
                                },
                                {
                                    "0": "2022-04-18",
                                    "1": "casual",
                                    "2": "138"
                                },
                                {
                                    "0": "2022-04-19",
                                    "1": "casual",
                                    "2": "298"
                                },
                                {
                                    "0": "2022-04-20",
                                    "1": "casual",
                                    "2": "212"
                                },
                                {
                                    "0": "2022-04-21",
                                    "1": "casual",
                                    "2": "1363"
                                },
                                {
                                    "0": "2022-04-22",
                                    "1": "casual",
                                    "2": "212"
                                },
                                {
                                    "0": "2022-04-23",
                                    "1": "casual",
                                    "2": "4987"
                                },
                                {
                                    "0": "2022-04-24",
                                    "1": "casual",
                                    "2": "1077"
                                },
                                {
                                    "0": "2022-04-25",
                                    "1": "casual",
                                    "2": "475"
                                },
                                {
                                    "0": "2022-04-26",
                                    "1": "casual",
                                    "2": "334"
                                },
                                {
                                    "0": "2022-04-27",
                                    "1": "casual",
                                    "2": "206"
                                },
                                {
                                    "0": "2022-04-28",
                                    "1": "casual",
                                    "2": "271"
                                },
                                {
                                    "0": "2022-04-29",
                                    "1": "casual",
                                    "2": "830"
                                },
                                {
                                    "0": "2022-04-30",
                                    "1": "casual",
                                    "2": "639"
                                },
                                {
                                    "0": "2022-05-01",
                                    "1": "casual",
                                    "2": "1534"
                                },
                                {
                                    "0": "2022-05-02",
                                    "1": "casual",
                                    "2": "925"
                                },
                                {
                                    "0": "2022-05-03",
                                    "1": "casual",
                                    "2": "192"
                                },
                                {
                                    "0": "2022-05-04",
                                    "1": "casual",
                                    "2": "976"
                                },
                                {
                                    "0": "2022-05-05",
                                    "1": "casual",
                                    "2": "397"
                                },
                                {
                                    "0": "2022-05-06",
                                    "1": "casual",
                                    "2": "390"
                                },
                                {
                                    "0": "2022-05-07",
                                    "1": "casual",
                                    "2": "3782"
                                },
                                {
                                    "0": "2022-05-08",
                                    "1": "casual",
                                    "2": "2844"
                                },
                                {
                                    "0": "2022-05-09",
                                    "1": "casual",
                                    "2": "3423"
                                },
                                {
                                    "0": "2022-05-10",
                                    "1": "casual",
                                    "2": "4125"
                                },
                                {
                                    "0": "2022-05-11",
                                    "1": "casual",
                                    "2": "3503"
                                },
                                {
                                    "0": "2022-05-12",
                                    "1": "casual",
                                    "2": "3934"
                                },
                                {
                                    "0": "2022-05-13",
                                    "1": "casual",
                                    "2": "5147"
                                },
                                {
                                    "0": "2022-05-14",
                                    "1": "casual",
                                    "2": "7467"
                                },
                                {
                                    "0": "2022-05-15",
                                    "1": "casual",
                                    "2": "4048"
                                },
                                {
                                    "0": "2022-05-16",
                                    "1": "casual",
                                    "2": "3713"
                                },
                                {
                                    "0": "2022-05-17",
                                    "1": "casual",
                                    "2": "1802"
                                },
                                {
                                    "0": "2022-05-18",
                                    "1": "casual",
                                    "2": "1144"
                                },
                                {
                                    "0": "2022-05-19",
                                    "1": "casual",
                                    "2": "3920"
                                },
                                {
                                    "0": "2022-05-20",
                                    "1": "casual",
                                    "2": "2864"
                                },
                                {
                                    "0": "2022-05-21",
                                    "1": "casual",
                                    "2": "1798"
                                },
                                {
                                    "0": "2022-05-22",
                                    "1": "casual",
                                    "2": "4663"
                                },
                                {
                                    "0": "2022-05-23",
                                    "1": "casual",
                                    "2": "2243"
                                },
                                {
                                    "0": "2022-05-24",
                                    "1": "casual",
                                    "2": "2111"
                                },
                                {
                                    "0": "2022-05-25",
                                    "1": "casual",
                                    "2": "1274"
                                },
                                {
                                    "0": "2022-05-26",
                                    "1": "casual",
                                    "2": "2448"
                                },
                                {
                                    "0": "2022-05-27",
                                    "1": "casual",
                                    "2": "1715"
                                },
                                {
                                    "0": "2022-05-28",
                                    "1": "casual",
                                    "2": "8146"
                                },
                                {
                                    "0": "2022-05-29",
                                    "1": "casual",
                                    "2": "9731"
                                },
                                {
                                    "0": "2022-05-30",
                                    "1": "casual",
                                    "2": "8397"
                                },
                                {
                                    "0": "2022-05-31",
                                    "1": "casual",
                                    "2": "2971"
                                },
                                {
                                    "0": "2022-06-01",
                                    "1": "casual",
                                    "2": "2534"
                                },
                                {
                                    "0": "2022-06-02",
                                    "1": "casual",
                                    "2": "3190"
                                },
                                {
                                    "0": "2022-06-03",
                                    "1": "casual",
                                    "2": "4790"
                                },
                                {
                                    "0": "2022-06-04",
                                    "1": "casual",
                                    "2": "4600"
                                },
                                {
                                    "0": "2022-06-05",
                                    "1": "casual",
                                    "2": "6083"
                                },
                                {
                                    "0": "2022-06-06",
                                    "1": "casual",
                                    "2": "1394"
                                },
                                {
                                    "0": "2022-06-07",
                                    "1": "casual",
                                    "2": "2407"
                                },
                                {
                                    "0": "2022-06-08",
                                    "1": "casual",
                                    "2": "1193"
                                },
                                {
                                    "0": "2022-06-09",
                                    "1": "casual",
                                    "2": "3663"
                                },
                                {
                                    "0": "2022-06-10",
                                    "1": "casual",
                                    "2": "3082"
                                },
                                {
                                    "0": "2022-06-11",
                                    "1": "casual",
                                    "2": "6789"
                                },
                                {
                                    "0": "2022-06-12",
                                    "1": "casual",
                                    "2": "4751"
                                },
                                {
                                    "0": "2022-06-13",
                                    "1": "casual",
                                    "2": "2561"
                                },
                                {
                                    "0": "2022-06-14",
                                    "1": "casual",
                                    "2": "3290"
                                },
                                {
                                    "0": "2022-06-15",
                                    "1": "casual",
                                    "2": "3119"
                                },
                                {
                                    "0": "2022-06-16",
                                    "1": "casual",
                                    "2": "3287"
                                },
                                {
                                    "0": "2022-06-17",
                                    "1": "casual",
                                    "2": "5228"
                                },
                                {
                                    "0": "2022-06-18",
                                    "1": "casual",
                                    "2": "8080"
                                },
                                {
                                    "0": "2022-06-19",
                                    "1": "casual",
                                    "2": "7014"
                                },
                                {
                                    "0": "2022-06-20",
                                    "1": "casual",
                                    "2": "4862"
                                },
                                {
                                    "0": "2022-06-21",
                                    "1": "casual",
                                    "2": "2936"
                                },
                                {
                                    "0": "2022-06-22",
                                    "1": "casual",
                                    "2": "3295"
                                },
                                {
                                    "0": "2022-06-23",
                                    "1": "casual",
                                    "2": "3692"
                                },
                                {
                                    "0": "2022-06-24",
                                    "1": "casual",
                                    "2": "4799"
                                },
                                {
                                    "0": "2022-06-25",
                                    "1": "casual",
                                    "2": "3779"
                                },
                                {
                                    "0": "2022-06-26",
                                    "1": "casual",
                                    "2": "7468"
                                },
                                {
                                    "0": "2022-06-27",
                                    "1": "casual",
                                    "2": "3610"
                                },
                                {
                                    "0": "2022-06-28",
                                    "1": "casual",
                                    "2": "3062"
                                },
                                {
                                    "0": "2022-06-29",
                                    "1": "casual",
                                    "2": "3559"
                                },
                                {
                                    "0": "2022-06-30",
                                    "1": "casual",
                                    "2": "3575"
                                },
                                {
                                    "0": "2022-07-01",
                                    "1": "casual",
                                    "2": "1627"
                                },
                                {
                                    "0": "2022-07-02",
                                    "1": "casual",
                                    "2": "3824"
                                },
                                {
                                    "0": "2022-07-03",
                                    "1": "casual",
                                    "2": "3858"
                                },
                                {
                                    "0": "2022-07-04",
                                    "1": "casual",
                                    "2": "3362"
                                },
                                {
                                    "0": "2022-07-05",
                                    "1": "casual",
                                    "2": "1287"
                                },
                                {
                                    "0": "2022-07-06",
                                    "1": "casual",
                                    "2": "1434"
                                },
                                {
                                    "0": "2022-07-07",
                                    "1": "casual",
                                    "2": "1427"
                                },
                                {
                                    "0": "2022-07-08",
                                    "1": "casual",
                                    "2": "1474"
                                },
                                {
                                    "0": "2022-07-09",
                                    "1": "casual",
                                    "2": "3968"
                                },
                                {
                                    "0": "2022-07-10",
                                    "1": "casual",
                                    "2": "3235"
                                },
                                {
                                    "0": "2022-07-11",
                                    "1": "casual",
                                    "2": "1453"
                                },
                                {
                                    "0": "2022-07-12",
                                    "1": "casual",
                                    "2": "1580"
                                },
                                {
                                    "0": "2022-07-13",
                                    "1": "casual",
                                    "2": "1568"
                                },
                                {
                                    "0": "2022-07-14",
                                    "1": "casual",
                                    "2": "1708"
                                },
                                {
                                    "0": "2022-07-15",
                                    "1": "casual",
                                    "2": "517"
                                },
                                {
                                    "0": "2022-07-16",
                                    "1": "casual",
                                    "2": "3302"
                                },
                                {
                                    "0": "2022-07-17",
                                    "1": "casual",
                                    "2": "2083"
                                },
                                {
                                    "0": "2022-07-18",
                                    "1": "casual",
                                    "2": "1567"
                                },
                                {
                                    "0": "2022-07-19",
                                    "1": "casual",
                                    "2": "1479"
                                },
                                {
                                    "0": "2022-07-20",
                                    "1": "casual",
                                    "2": "1560"
                                },
                                {
                                    "0": "2022-07-21",
                                    "1": "casual",
                                    "2": "1417"
                                },
                                {
                                    "0": "2022-07-22",
                                    "1": "casual",
                                    "2": "1917"
                                },
                                {
                                    "0": "2022-07-23",
                                    "1": "casual",
                                    "2": "3029"
                                },
                                {
                                    "0": "2022-07-24",
                                    "1": "casual",
                                    "2": "2570"
                                },
                                {
                                    "0": "2022-07-25",
                                    "1": "casual",
                                    "2": "1610"
                                },
                                {
                                    "0": "2022-07-26",
                                    "1": "casual",
                                    "2": "1506"
                                },
                                {
                                    "0": "2022-07-27",
                                    "1": "casual",
                                    "2": "1395"
                                },
                                {
                                    "0": "2022-07-28",
                                    "1": "casual",
                                    "2": "1595"
                                },
                                {
                                    "0": "2022-07-29",
                                    "1": "casual",
                                    "2": "2224"
                                },
                                {
                                    "0": "2022-07-30",
                                    "1": "casual",
                                    "2": "3113"
                                },
                                {
                                    "0": "2022-07-31",
                                    "1": "casual",
                                    "2": "2716"
                                },
                                {
                                    "0": "2022-08-01",
                                    "1": "casual",
                                    "2": "3045"
                                },
                                {
                                    "0": "2022-08-02",
                                    "1": "casual",
                                    "2": "3201"
                                },
                                {
                                    "0": "2022-08-03",
                                    "1": "casual",
                                    "2": "2044"
                                },
                                {
                                    "0": "2022-08-04",
                                    "1": "casual",
                                    "2": "3028"
                                },
                                {
                                    "0": "2022-08-05",
                                    "1": "casual",
                                    "2": "4407"
                                },
                                {
                                    "0": "2022-08-06",
                                    "1": "casual",
                                    "2": "6146"
                                },
                                {
                                    "0": "2022-08-07",
                                    "1": "casual",
                                    "2": "2411"
                                },
                                {
                                    "0": "2022-08-08",
                                    "1": "casual",
                                    "2": "1129"
                                },
                                {
                                    "0": "2022-08-09",
                                    "1": "casual",
                                    "2": "3198"
                                },
                                {
                                    "0": "2022-08-10",
                                    "1": "casual",
                                    "2": "3340"
                                },
                                {
                                    "0": "2022-08-11",
                                    "1": "casual",
                                    "2": "3198"
                                },
                                {
                                    "0": "2022-08-12",
                                    "1": "casual",
                                    "2": "3922"
                                },
                                {
                                    "0": "2022-08-13",
                                    "1": "casual",
                                    "2": "5669"
                                },
                                {
                                    "0": "2022-08-14",
                                    "1": "casual",
                                    "2": "4428"
                                },
                                {
                                    "0": "2022-08-15",
                                    "1": "casual",
                                    "2": "3131"
                                },
                                {
                                    "0": "2022-08-16",
                                    "1": "casual",
                                    "2": "3035"
                                },
                                {
                                    "0": "2022-08-17",
                                    "1": "casual",
                                    "2": "2709"
                                },
                                {
                                    "0": "2022-08-18",
                                    "1": "casual",
                                    "2": "3191"
                                },
                                {
                                    "0": "2022-08-19",
                                    "1": "casual",
                                    "2": "4736"
                                },
                                {
                                    "0": "2022-08-20",
                                    "1": "casual",
                                    "2": "3619"
                                },
                                {
                                    "0": "2022-08-21",
                                    "1": "casual",
                                    "2": "4887"
                                },
                                {
                                    "0": "2022-08-22",
                                    "1": "casual",
                                    "2": "2845"
                                },
                                {
                                    "0": "2022-08-23",
                                    "1": "casual",
                                    "2": "2626"
                                },
                                {
                                    "0": "2022-08-24",
                                    "1": "casual",
                                    "2": "2870"
                                },
                                {
                                    "0": "2022-08-25",
                                    "1": "casual",
                                    "2": "1896"
                                },
                                {
                                    "0": "2022-08-26",
                                    "1": "casual",
                                    "2": "3598"
                                },
                                {
                                    "0": "2022-08-27",
                                    "1": "casual",
                                    "2": "6068"
                                },
                                {
                                    "0": "2022-08-28",
                                    "1": "casual",
                                    "2": "4080"
                                },
                                {
                                    "0": "2022-08-29",
                                    "1": "casual",
                                    "2": "1631"
                                },
                                {
                                    "0": "2022-08-30",
                                    "1": "casual",
                                    "2": "2335"
                                },
                                {
                                    "0": "2022-08-31",
                                    "1": "casual",
                                    "2": "2299"
                                },
                                {
                                    "0": "2021-09-01",
                                    "1": "member",
                                    "2": "2711"
                                },
                                {
                                    "0": "2021-09-02",
                                    "1": "member",
                                    "2": "2488"
                                },
                                {
                                    "0": "2021-09-03",
                                    "1": "member",
                                    "2": "2142"
                                },
                                {
                                    "0": "2021-09-04",
                                    "1": "member",
                                    "2": "2138"
                                },
                                {
                                    "0": "2021-09-05",
                                    "1": "member",
                                    "2": "2634"
                                },
                                {
                                    "0": "2021-09-06",
                                    "1": "member",
                                    "2": "2543"
                                },
                                {
                                    "0": "2021-09-07",
                                    "1": "member",
                                    "2": "1916"
                                },
                                {
                                    "0": "2021-09-08",
                                    "1": "member",
                                    "2": "2635"
                                },
                                {
                                    "0": "2021-09-09",
                                    "1": "member",
                                    "2": "2572"
                                },
                                {
                                    "0": "2021-09-10",
                                    "1": "member",
                                    "2": "2624"
                                },
                                {
                                    "0": "2021-09-11",
                                    "1": "member",
                                    "2": "2740"
                                },
                                {
                                    "0": "2021-09-12",
                                    "1": "member",
                                    "2": "2407"
                                },
                                {
                                    "0": "2021-09-13",
                                    "1": "member",
                                    "2": "2255"
                                },
                                {
                                    "0": "2021-09-14",
                                    "1": "member",
                                    "2": "2470"
                                },
                                {
                                    "0": "2021-09-15",
                                    "1": "member",
                                    "2": "2624"
                                },
                                {
                                    "0": "2021-09-16",
                                    "1": "member",
                                    "2": "2757"
                                },
                                {
                                    "0": "2021-09-17",
                                    "1": "member",
                                    "2": "2430"
                                },
                                {
                                    "0": "2021-09-18",
                                    "1": "member",
                                    "2": "2802"
                                },
                                {
                                    "0": "2021-09-19",
                                    "1": "member",
                                    "2": "2511"
                                },
                                {
                                    "0": "2021-09-20",
                                    "1": "member",
                                    "2": "1982"
                                },
                                {
                                    "0": "2021-09-21",
                                    "1": "member",
                                    "2": "1806"
                                },
                                {
                                    "0": "2021-09-22",
                                    "1": "member",
                                    "2": "1708"
                                },
                                {
                                    "0": "2021-09-23",
                                    "1": "member",
                                    "2": "2104"
                                },
                                {
                                    "0": "2021-09-24",
                                    "1": "member",
                                    "2": "2348"
                                },
                                {
                                    "0": "2021-09-25",
                                    "1": "member",
                                    "2": "2501"
                                },
                                {
                                    "0": "2021-09-26",
                                    "1": "member",
                                    "2": "2350"
                                },
                                {
                                    "0": "2021-09-27",
                                    "1": "member",
                                    "2": "2168"
                                },
                                {
                                    "0": "2021-09-28",
                                    "1": "member",
                                    "2": "2395"
                                },
                                {
                                    "0": "2021-09-29",
                                    "1": "member",
                                    "2": "2534"
                                },
                                {
                                    "0": "2021-09-30",
                                    "1": "member",
                                    "2": "2445"
                                },
                                {
                                    "0": "2021-10-01",
                                    "1": "member",
                                    "2": "2576"
                                },
                                {
                                    "0": "2021-10-02",
                                    "1": "member",
                                    "2": "2154"
                                },
                                {
                                    "0": "2021-10-03",
                                    "1": "member",
                                    "2": "1730"
                                },
                                {
                                    "0": "2021-10-04",
                                    "1": "member",
                                    "2": "1905"
                                },
                                {
                                    "0": "2021-10-05",
                                    "1": "member",
                                    "2": "2179"
                                },
                                {
                                    "0": "2021-10-06",
                                    "1": "member",
                                    "2": "2310"
                                },
                                {
                                    "0": "2021-10-07",
                                    "1": "member",
                                    "2": "1691"
                                },
                                {
                                    "0": "2021-10-08",
                                    "1": "member",
                                    "2": "2086"
                                },
                                {
                                    "0": "2021-10-09",
                                    "1": "member",
                                    "2": "2872"
                                },
                                {
                                    "0": "2021-10-10",
                                    "1": "member",
                                    "2": "2613"
                                },
                                {
                                    "0": "2021-10-11",
                                    "1": "member",
                                    "2": "1172"
                                },
                                {
                                    "0": "2021-10-12",
                                    "1": "member",
                                    "2": "2093"
                                },
                                {
                                    "0": "2021-10-13",
                                    "1": "member",
                                    "2": "1939"
                                },
                                {
                                    "0": "2021-10-14",
                                    "1": "member",
                                    "2": "2090"
                                },
                                {
                                    "0": "2021-10-15",
                                    "1": "member",
                                    "2": "1868"
                                },
                                {
                                    "0": "2021-10-16",
                                    "1": "member",
                                    "2": "2163"
                                },
                                {
                                    "0": "2021-10-17",
                                    "1": "member",
                                    "2": "2157"
                                },
                                {
                                    "0": "2021-10-18",
                                    "1": "member",
                                    "2": "2161"
                                },
                                {
                                    "0": "2021-10-19",
                                    "1": "member",
                                    "2": "2478"
                                },
                                {
                                    "0": "2021-10-20",
                                    "1": "member",
                                    "2": "2404"
                                },
                                {
                                    "0": "2021-10-21",
                                    "1": "member",
                                    "2": "1648"
                                },
                                {
                                    "0": "2021-10-22",
                                    "1": "member",
                                    "2": "1773"
                                },
                                {
                                    "0": "2021-10-23",
                                    "1": "member",
                                    "2": "1992"
                                },
                                {
                                    "0": "2021-10-24",
                                    "1": "member",
                                    "2": "416"
                                },
                                {
                                    "0": "2021-10-25",
                                    "1": "member",
                                    "2": "792"
                                },
                                {
                                    "0": "2021-10-26",
                                    "1": "member",
                                    "2": "1818"
                                },
                                {
                                    "0": "2021-10-27",
                                    "1": "member",
                                    "2": "1937"
                                },
                                {
                                    "0": "2021-10-28",
                                    "1": "member",
                                    "2": "979"
                                },
                                {
                                    "0": "2021-10-29",
                                    "1": "member",
                                    "2": "583"
                                },
                                {
                                    "0": "2021-10-30",
                                    "1": "member",
                                    "2": "1689"
                                },
                                {
                                    "0": "2021-10-31",
                                    "1": "member",
                                    "2": "1478"
                                },
                                {
                                    "0": "2021-11-01",
                                    "1": "member",
                                    "2": "632"
                                },
                                {
                                    "0": "2021-11-02",
                                    "1": "member",
                                    "2": "595"
                                },
                                {
                                    "0": "2021-11-03",
                                    "1": "member",
                                    "2": "663"
                                },
                                {
                                    "0": "2021-11-04",
                                    "1": "member",
                                    "2": "604"
                                },
                                {
                                    "0": "2021-11-05",
                                    "1": "member",
                                    "2": "614"
                                },
                                {
                                    "0": "2021-11-06",
                                    "1": "member",
                                    "2": "760"
                                },
                                {
                                    "0": "2021-11-07",
                                    "1": "member",
                                    "2": "788"
                                },
                                {
                                    "0": "2021-11-08",
                                    "1": "member",
                                    "2": "831"
                                },
                                {
                                    "0": "2021-11-09",
                                    "1": "member",
                                    "2": "706"
                                },
                                {
                                    "0": "2021-11-10",
                                    "1": "member",
                                    "2": "743"
                                },
                                {
                                    "0": "2021-11-11",
                                    "1": "member",
                                    "2": "480"
                                },
                                {
                                    "0": "2021-11-12",
                                    "1": "member",
                                    "2": "396"
                                },
                                {
                                    "0": "2021-11-13",
                                    "1": "member",
                                    "2": "389"
                                },
                                {
                                    "0": "2021-11-14",
                                    "1": "member",
                                    "2": "263"
                                },
                                {
                                    "0": "2021-11-15",
                                    "1": "member",
                                    "2": "397"
                                },
                                {
                                    "0": "2021-11-16",
                                    "1": "member",
                                    "2": "610"
                                },
                                {
                                    "0": "2021-11-17",
                                    "1": "member",
                                    "2": "507"
                                },
                                {
                                    "0": "2021-11-18",
                                    "1": "member",
                                    "2": "453"
                                },
                                {
                                    "0": "2021-11-19",
                                    "1": "member",
                                    "2": "442"
                                },
                                {
                                    "0": "2021-11-20",
                                    "1": "member",
                                    "2": "509"
                                },
                                {
                                    "0": "2021-11-21",
                                    "1": "member",
                                    "2": "426"
                                },
                                {
                                    "0": "2021-11-22",
                                    "1": "member",
                                    "2": "370"
                                },
                                {
                                    "0": "2021-11-23",
                                    "1": "member",
                                    "2": "428"
                                },
                                {
                                    "0": "2021-11-24",
                                    "1": "member",
                                    "2": "356"
                                },
                                {
                                    "0": "2021-11-25",
                                    "1": "member",
                                    "2": "142"
                                },
                                {
                                    "0": "2021-11-26",
                                    "1": "member",
                                    "2": "161"
                                },
                                {
                                    "0": "2021-11-27",
                                    "1": "member",
                                    "2": "220"
                                },
                                {
                                    "0": "2021-11-28",
                                    "1": "member",
                                    "2": "247"
                                },
                                {
                                    "0": "2021-11-29",
                                    "1": "member",
                                    "2": "374"
                                },
                                {
                                    "0": "2021-11-30",
                                    "1": "member",
                                    "2": "504"
                                },
                                {
                                    "0": "2021-12-01",
                                    "1": "member",
                                    "2": "1229"
                                },
                                {
                                    "0": "2021-12-02",
                                    "1": "member",
                                    "2": "1476"
                                },
                                {
                                    "0": "2021-12-03",
                                    "1": "member",
                                    "2": "1224"
                                },
                                {
                                    "0": "2021-12-04",
                                    "1": "member",
                                    "2": "1017"
                                },
                                {
                                    "0": "2021-12-05",
                                    "1": "member",
                                    "2": "350"
                                },
                                {
                                    "0": "2021-12-06",
                                    "1": "member",
                                    "2": "704"
                                },
                                {
                                    "0": "2021-12-07",
                                    "1": "member",
                                    "2": "690"
                                },
                                {
                                    "0": "2021-12-08",
                                    "1": "member",
                                    "2": "874"
                                },
                                {
                                    "0": "2021-12-09",
                                    "1": "member",
                                    "2": "1049"
                                },
                                {
                                    "0": "2021-12-10",
                                    "1": "member",
                                    "2": "725"
                                },
                                {
                                    "0": "2021-12-11",
                                    "1": "member",
                                    "2": "755"
                                },
                                {
                                    "0": "2021-12-12",
                                    "1": "member",
                                    "2": "831"
                                },
                                {
                                    "0": "2021-12-13",
                                    "1": "member",
                                    "2": "1021"
                                },
                                {
                                    "0": "2021-12-14",
                                    "1": "member",
                                    "2": "1163"
                                },
                                {
                                    "0": "2021-12-15",
                                    "1": "member",
                                    "2": "1260"
                                },
                                {
                                    "0": "2021-12-16",
                                    "1": "member",
                                    "2": "895"
                                },
                                {
                                    "0": "2021-12-17",
                                    "1": "member",
                                    "2": "852"
                                },
                                {
                                    "0": "2021-12-18",
                                    "1": "member",
                                    "2": "549"
                                },
                                {
                                    "0": "2021-12-19",
                                    "1": "member",
                                    "2": "582"
                                },
                                {
                                    "0": "2021-12-20",
                                    "1": "member",
                                    "2": "729"
                                },
                                {
                                    "0": "2021-12-21",
                                    "1": "member",
                                    "2": "667"
                                },
                                {
                                    "0": "2021-12-22",
                                    "1": "member",
                                    "2": "472"
                                },
                                {
                                    "0": "2021-12-23",
                                    "1": "member",
                                    "2": "574"
                                },
                                {
                                    "0": "2021-12-24",
                                    "1": "member",
                                    "2": "410"
                                },
                                {
                                    "0": "2021-12-25",
                                    "1": "member",
                                    "2": "264"
                                },
                                {
                                    "0": "2021-12-26",
                                    "1": "member",
                                    "2": "327"
                                },
                                {
                                    "0": "2021-12-27",
                                    "1": "member",
                                    "2": "448"
                                },
                                {
                                    "0": "2021-12-28",
                                    "1": "member",
                                    "2": "279"
                                },
                                {
                                    "0": "2021-12-29",
                                    "1": "member",
                                    "2": "524"
                                },
                                {
                                    "0": "2021-12-30",
                                    "1": "member",
                                    "2": "579"
                                },
                                {
                                    "0": "2021-12-31",
                                    "1": "member",
                                    "2": "586"
                                },
                                {
                                    "0": "2022-01-01",
                                    "1": "member",
                                    "2": "369"
                                },
                                {
                                    "0": "2022-01-02",
                                    "1": "member",
                                    "2": "424"
                                },
                                {
                                    "0": "2022-01-03",
                                    "1": "member",
                                    "2": "702"
                                },
                                {
                                    "0": "2022-01-04",
                                    "1": "member",
                                    "2": "1019"
                                },
                                {
                                    "0": "2022-01-05",
                                    "1": "member",
                                    "2": "583"
                                },
                                {
                                    "0": "2022-01-06",
                                    "1": "member",
                                    "2": "586"
                                },
                                {
                                    "0": "2022-01-07",
                                    "1": "member",
                                    "2": "542"
                                },
                                {
                                    "0": "2022-01-08",
                                    "1": "member",
                                    "2": "579"
                                },
                                {
                                    "0": "2022-01-09",
                                    "1": "member",
                                    "2": "459"
                                },
                                {
                                    "0": "2022-01-10",
                                    "1": "member",
                                    "2": "552"
                                },
                                {
                                    "0": "2022-01-11",
                                    "1": "member",
                                    "2": "756"
                                },
                                {
                                    "0": "2022-01-12",
                                    "1": "member",
                                    "2": "1317"
                                },
                                {
                                    "0": "2022-01-13",
                                    "1": "member",
                                    "2": "1343"
                                },
                                {
                                    "0": "2022-01-14",
                                    "1": "member",
                                    "2": "1101"
                                },
                                {
                                    "0": "2022-01-15",
                                    "1": "member",
                                    "2": "627"
                                },
                                {
                                    "0": "2022-01-16",
                                    "1": "member",
                                    "2": "702"
                                },
                                {
                                    "0": "2022-01-17",
                                    "1": "member",
                                    "2": "781"
                                },
                                {
                                    "0": "2022-01-18",
                                    "1": "member",
                                    "2": "1315"
                                },
                                {
                                    "0": "2022-01-19",
                                    "1": "member",
                                    "2": "1049"
                                },
                                {
                                    "0": "2022-01-20",
                                    "1": "member",
                                    "2": "819"
                                },
                                {
                                    "0": "2022-01-21",
                                    "1": "member",
                                    "2": "959"
                                },
                                {
                                    "0": "2022-01-22",
                                    "1": "member",
                                    "2": "861"
                                },
                                {
                                    "0": "2022-01-23",
                                    "1": "member",
                                    "2": "356"
                                },
                                {
                                    "0": "2022-01-24",
                                    "1": "member",
                                    "2": "501"
                                },
                                {
                                    "0": "2022-01-25",
                                    "1": "member",
                                    "2": "591"
                                },
                                {
                                    "0": "2022-01-26",
                                    "1": "member",
                                    "2": "554"
                                },
                                {
                                    "0": "2022-01-27",
                                    "1": "member",
                                    "2": "945"
                                },
                                {
                                    "0": "2022-01-28",
                                    "1": "member",
                                    "2": "511"
                                },
                                {
                                    "0": "2022-01-29",
                                    "1": "member",
                                    "2": "521"
                                },
                                {
                                    "0": "2022-01-30",
                                    "1": "member",
                                    "2": "573"
                                },
                                {
                                    "0": "2022-01-31",
                                    "1": "member",
                                    "2": "1072"
                                },
                                {
                                    "0": "2022-02-01",
                                    "1": "member",
                                    "2": "553"
                                },
                                {
                                    "0": "2022-02-02",
                                    "1": "member",
                                    "2": "86"
                                },
                                {
                                    "0": "2022-02-03",
                                    "1": "member",
                                    "2": "289"
                                },
                                {
                                    "0": "2022-02-04",
                                    "1": "member",
                                    "2": "342"
                                },
                                {
                                    "0": "2022-02-05",
                                    "1": "member",
                                    "2": "235"
                                },
                                {
                                    "0": "2022-02-06",
                                    "1": "member",
                                    "2": "300"
                                },
                                {
                                    "0": "2022-02-07",
                                    "1": "member",
                                    "2": "428"
                                },
                                {
                                    "0": "2022-02-08",
                                    "1": "member",
                                    "2": "591"
                                },
                                {
                                    "0": "2022-02-09",
                                    "1": "member",
                                    "2": "605"
                                },
                                {
                                    "0": "2022-02-10",
                                    "1": "member",
                                    "2": "561"
                                },
                                {
                                    "0": "2022-02-11",
                                    "1": "member",
                                    "2": "608"
                                },
                                {
                                    "0": "2022-02-12",
                                    "1": "member",
                                    "2": "323"
                                },
                                {
                                    "0": "2022-02-13",
                                    "1": "member",
                                    "2": "278"
                                },
                                {
                                    "0": "2022-02-14",
                                    "1": "member",
                                    "2": "475"
                                },
                                {
                                    "0": "2022-02-15",
                                    "1": "member",
                                    "2": "654"
                                },
                                {
                                    "0": "2022-02-16",
                                    "1": "member",
                                    "2": "673"
                                },
                                {
                                    "0": "2022-02-17",
                                    "1": "member",
                                    "2": "303"
                                },
                                {
                                    "0": "2022-02-18",
                                    "1": "member",
                                    "2": "325"
                                },
                                {
                                    "0": "2022-02-19",
                                    "1": "member",
                                    "2": "292"
                                },
                                {
                                    "0": "2022-02-20",
                                    "1": "member",
                                    "2": "567"
                                },
                                {
                                    "0": "2022-02-21",
                                    "1": "member",
                                    "2": "735"
                                },
                                {
                                    "0": "2022-02-22",
                                    "1": "member",
                                    "2": "398"
                                },
                                {
                                    "0": "2022-02-23",
                                    "1": "member",
                                    "2": "581"
                                },
                                {
                                    "0": "2022-02-24",
                                    "1": "member",
                                    "2": "443"
                                },
                                {
                                    "0": "2022-02-25",
                                    "1": "member",
                                    "2": "415"
                                },
                                {
                                    "0": "2022-02-26",
                                    "1": "member",
                                    "2": "470"
                                },
                                {
                                    "0": "2022-02-27",
                                    "1": "member",
                                    "2": "592"
                                },
                                {
                                    "0": "2022-02-28",
                                    "1": "member",
                                    "2": "973"
                                },
                                {
                                    "0": "2022-03-01",
                                    "1": "member",
                                    "2": "999"
                                },
                                {
                                    "0": "2022-03-02",
                                    "1": "member",
                                    "2": "1093"
                                },
                                {
                                    "0": "2022-03-03",
                                    "1": "member",
                                    "2": "742"
                                },
                                {
                                    "0": "2022-03-04",
                                    "1": "member",
                                    "2": "841"
                                },
                                {
                                    "0": "2022-03-05",
                                    "1": "member",
                                    "2": "2031"
                                },
                                {
                                    "0": "2022-03-06",
                                    "1": "member",
                                    "2": "587"
                                },
                                {
                                    "0": "2022-03-07",
                                    "1": "member",
                                    "2": "498"
                                },
                                {
                                    "0": "2022-03-08",
                                    "1": "member",
                                    "2": "938"
                                },
                                {
                                    "0": "2022-03-09",
                                    "1": "member",
                                    "2": "1066"
                                },
                                {
                                    "0": "2022-03-10",
                                    "1": "member",
                                    "2": "755"
                                },
                                {
                                    "0": "2022-03-11",
                                    "1": "member",
                                    "2": "546"
                                },
                                {
                                    "0": "2022-03-12",
                                    "1": "member",
                                    "2": "433"
                                },
                                {
                                    "0": "2022-03-13",
                                    "1": "member",
                                    "2": "886"
                                },
                                {
                                    "0": "2022-03-14",
                                    "1": "member",
                                    "2": "1361"
                                },
                                {
                                    "0": "2022-03-15",
                                    "1": "member",
                                    "2": "1182"
                                },
                                {
                                    "0": "2022-03-16",
                                    "1": "member",
                                    "2": "2034"
                                },
                                {
                                    "0": "2022-03-17",
                                    "1": "member",
                                    "2": "1492"
                                },
                                {
                                    "0": "2022-03-18",
                                    "1": "member",
                                    "2": "451"
                                },
                                {
                                    "0": "2022-03-19",
                                    "1": "member",
                                    "2": "457"
                                },
                                {
                                    "0": "2022-03-20",
                                    "1": "member",
                                    "2": "1727"
                                },
                                {
                                    "0": "2022-03-21",
                                    "1": "member",
                                    "2": "2094"
                                },
                                {
                                    "0": "2022-03-22",
                                    "1": "member",
                                    "2": "733"
                                },
                                {
                                    "0": "2022-03-23",
                                    "1": "member",
                                    "2": "749"
                                },
                                {
                                    "0": "2022-03-24",
                                    "1": "member",
                                    "2": "698"
                                },
                                {
                                    "0": "2022-03-25",
                                    "1": "member",
                                    "2": "933"
                                },
                                {
                                    "0": "2022-03-26",
                                    "1": "member",
                                    "2": "477"
                                },
                                {
                                    "0": "2022-03-27",
                                    "1": "member",
                                    "2": "548"
                                },
                                {
                                    "0": "2022-03-28",
                                    "1": "member",
                                    "2": "755"
                                },
                                {
                                    "0": "2022-03-29",
                                    "1": "member",
                                    "2": "886"
                                },
                                {
                                    "0": "2022-03-30",
                                    "1": "member",
                                    "2": "537"
                                },
                                {
                                    "0": "2022-03-31",
                                    "1": "member",
                                    "2": "674"
                                },
                                {
                                    "0": "2022-04-01",
                                    "1": "member",
                                    "2": "440"
                                },
                                {
                                    "0": "2022-04-02",
                                    "1": "member",
                                    "2": "219"
                                },
                                {
                                    "0": "2022-04-03",
                                    "1": "member",
                                    "2": "358"
                                },
                                {
                                    "0": "2022-04-04",
                                    "1": "member",
                                    "2": "482"
                                },
                                {
                                    "0": "2022-04-05",
                                    "1": "member",
                                    "2": "534"
                                },
                                {
                                    "0": "2022-04-06",
                                    "1": "member",
                                    "2": "525"
                                },
                                {
                                    "0": "2022-04-07",
                                    "1": "member",
                                    "2": "389"
                                },
                                {
                                    "0": "2022-04-08",
                                    "1": "member",
                                    "2": "269"
                                },
                                {
                                    "0": "2022-04-09",
                                    "1": "member",
                                    "2": "405"
                                },
                                {
                                    "0": "2022-04-10",
                                    "1": "member",
                                    "2": "700"
                                },
                                {
                                    "0": "2022-04-11",
                                    "1": "member",
                                    "2": "650"
                                },
                                {
                                    "0": "2022-04-12",
                                    "1": "member",
                                    "2": "752"
                                },
                                {
                                    "0": "2022-04-13",
                                    "1": "member",
                                    "2": "379"
                                },
                                {
                                    "0": "2022-04-14",
                                    "1": "member",
                                    "2": "484"
                                },
                                {
                                    "0": "2022-04-15",
                                    "1": "member",
                                    "2": "412"
                                },
                                {
                                    "0": "2022-04-16",
                                    "1": "member",
                                    "2": "480"
                                },
                                {
                                    "0": "2022-04-17",
                                    "1": "member",
                                    "2": "279"
                                },
                                {
                                    "0": "2022-04-18",
                                    "1": "member",
                                    "2": "330"
                                },
                                {
                                    "0": "2022-04-19",
                                    "1": "member",
                                    "2": "524"
                                },
                                {
                                    "0": "2022-04-20",
                                    "1": "member",
                                    "2": "481"
                                },
                                {
                                    "0": "2022-04-21",
                                    "1": "member",
                                    "2": "995"
                                },
                                {
                                    "0": "2022-04-22",
                                    "1": "member",
                                    "2": "320"
                                },
                                {
                                    "0": "2022-04-23",
                                    "1": "member",
                                    "2": "1459"
                                },
                                {
                                    "0": "2022-04-24",
                                    "1": "member",
                                    "2": "450"
                                },
                                {
                                    "0": "2022-04-25",
                                    "1": "member",
                                    "2": "564"
                                },
                                {
                                    "0": "2022-04-26",
                                    "1": "member",
                                    "2": "550"
                                },
                                {
                                    "0": "2022-04-27",
                                    "1": "member",
                                    "2": "478"
                                },
                                {
                                    "0": "2022-04-28",
                                    "1": "member",
                                    "2": "480"
                                },
                                {
                                    "0": "2022-04-29",
                                    "1": "member",
                                    "2": "630"
                                },
                                {
                                    "0": "2022-04-30",
                                    "1": "member",
                                    "2": "361"
                                },
                                {
                                    "0": "2022-05-01",
                                    "1": "member",
                                    "2": "1149"
                                },
                                {
                                    "0": "2022-05-02",
                                    "1": "member",
                                    "2": "1373"
                                },
                                {
                                    "0": "2022-05-03",
                                    "1": "member",
                                    "2": "531"
                                },
                                {
                                    "0": "2022-05-04",
                                    "1": "member",
                                    "2": "1547"
                                },
                                {
                                    "0": "2022-05-05",
                                    "1": "member",
                                    "2": "835"
                                },
                                {
                                    "0": "2022-05-06",
                                    "1": "member",
                                    "2": "649"
                                },
                                {
                                    "0": "2022-05-07",
                                    "1": "member",
                                    "2": "1877"
                                },
                                {
                                    "0": "2022-05-08",
                                    "1": "member",
                                    "2": "1471"
                                },
                                {
                                    "0": "2022-05-09",
                                    "1": "member",
                                    "2": "2360"
                                },
                                {
                                    "0": "2022-05-10",
                                    "1": "member",
                                    "2": "2832"
                                },
                                {
                                    "0": "2022-05-11",
                                    "1": "member",
                                    "2": "2652"
                                },
                                {
                                    "0": "2022-05-12",
                                    "1": "member",
                                    "2": "2708"
                                },
                                {
                                    "0": "2022-05-13",
                                    "1": "member",
                                    "2": "2831"
                                },
                                {
                                    "0": "2022-05-14",
                                    "1": "member",
                                    "2": "3035"
                                },
                                {
                                    "0": "2022-05-15",
                                    "1": "member",
                                    "2": "1834"
                                },
                                {
                                    "0": "2022-05-16",
                                    "1": "member",
                                    "2": "2628"
                                },
                                {
                                    "0": "2022-05-17",
                                    "1": "member",
                                    "2": "2018"
                                },
                                {
                                    "0": "2022-05-18",
                                    "1": "member",
                                    "2": "1563"
                                },
                                {
                                    "0": "2022-05-19",
                                    "1": "member",
                                    "2": "2966"
                                },
                                {
                                    "0": "2022-05-20",
                                    "1": "member",
                                    "2": "2050"
                                },
                                {
                                    "0": "2022-05-21",
                                    "1": "member",
                                    "2": "1203"
                                },
                                {
                                    "0": "2022-05-22",
                                    "1": "member",
                                    "2": "2201"
                                },
                                {
                                    "0": "2022-05-23",
                                    "1": "member",
                                    "2": "1966"
                                },
                                {
                                    "0": "2022-05-24",
                                    "1": "member",
                                    "2": "2188"
                                },
                                {
                                    "0": "2022-05-25",
                                    "1": "member",
                                    "2": "1571"
                                },
                                {
                                    "0": "2022-05-26",
                                    "1": "member",
                                    "2": "2412"
                                },
                                {
                                    "0": "2022-05-27",
                                    "1": "member",
                                    "2": "1491"
                                },
                                {
                                    "0": "2022-05-28",
                                    "1": "member",
                                    "2": "2704"
                                },
                                {
                                    "0": "2022-05-29",
                                    "1": "member",
                                    "2": "2642"
                                },
                                {
                                    "0": "2022-05-30",
                                    "1": "member",
                                    "2": "2696"
                                },
                                {
                                    "0": "2022-05-31",
                                    "1": "member",
                                    "2": "2510"
                                },
                                {
                                    "0": "2022-06-01",
                                    "1": "member",
                                    "2": "2417"
                                },
                                {
                                    "0": "2022-06-02",
                                    "1": "member",
                                    "2": "2657"
                                },
                                {
                                    "0": "2022-06-03",
                                    "1": "member",
                                    "2": "2789"
                                },
                                {
                                    "0": "2022-06-04",
                                    "1": "member",
                                    "2": "2163"
                                },
                                {
                                    "0": "2022-06-05",
                                    "1": "member",
                                    "2": "2600"
                                },
                                {
                                    "0": "2022-06-06",
                                    "1": "member",
                                    "2": "1479"
                                },
                                {
                                    "0": "2022-06-07",
                                    "1": "member",
                                    "2": "2467"
                                },
                                {
                                    "0": "2022-06-08",
                                    "1": "member",
                                    "2": "1783"
                                },
                                {
                                    "0": "2022-06-09",
                                    "1": "member",
                                    "2": "2872"
                                },
                                {
                                    "0": "2022-06-10",
                                    "1": "member",
                                    "2": "2180"
                                },
                                {
                                    "0": "2022-06-11",
                                    "1": "member",
                                    "2": "2901"
                                },
                                {
                                    "0": "2022-06-12",
                                    "1": "member",
                                    "2": "2218"
                                },
                                {
                                    "0": "2022-06-13",
                                    "1": "member",
                                    "2": "1876"
                                },
                                {
                                    "0": "2022-06-14",
                                    "1": "member",
                                    "2": "2491"
                                },
                                {
                                    "0": "2022-06-15",
                                    "1": "member",
                                    "2": "2362"
                                },
                                {
                                    "0": "2022-06-16",
                                    "1": "member",
                                    "2": "2419"
                                },
                                {
                                    "0": "2022-06-17",
                                    "1": "member",
                                    "2": "2843"
                                },
                                {
                                    "0": "2022-06-18",
                                    "1": "member",
                                    "2": "3093"
                                },
                                {
                                    "0": "2022-06-19",
                                    "1": "member",
                                    "2": "2612"
                                },
                                {
                                    "0": "2022-06-20",
                                    "1": "member",
                                    "2": "2553"
                                },
                                {
                                    "0": "2022-06-21",
                                    "1": "member",
                                    "2": "2445"
                                },
                                {
                                    "0": "2022-06-22",
                                    "1": "member",
                                    "2": "2816"
                                },
                                {
                                    "0": "2022-06-23",
                                    "1": "member",
                                    "2": "2841"
                                },
                                {
                                    "0": "2022-06-24",
                                    "1": "member",
                                    "2": "2750"
                                },
                                {
                                    "0": "2022-06-25",
                                    "1": "member",
                                    "2": "1849"
                                },
                                {
                                    "0": "2022-06-26",
                                    "1": "member",
                                    "2": "2914"
                                },
                                {
                                    "0": "2022-06-27",
                                    "1": "member",
                                    "2": "2453"
                                },
                                {
                                    "0": "2022-06-28",
                                    "1": "member",
                                    "2": "2649"
                                },
                                {
                                    "0": "2022-06-29",
                                    "1": "member",
                                    "2": "2799"
                                },
                                {
                                    "0": "2022-06-30",
                                    "1": "member",
                                    "2": "2469"
                                },
                                {
                                    "0": "2022-07-01",
                                    "1": "member",
                                    "2": "1006"
                                },
                                {
                                    "0": "2022-07-02",
                                    "1": "member",
                                    "2": "1248"
                                },
                                {
                                    "0": "2022-07-03",
                                    "1": "member",
                                    "2": "1078"
                                },
                                {
                                    "0": "2022-07-04",
                                    "1": "member",
                                    "2": "827"
                                },
                                {
                                    "0": "2022-07-05",
                                    "1": "member",
                                    "2": "867"
                                },
                                {
                                    "0": "2022-07-06",
                                    "1": "member",
                                    "2": "1058"
                                },
                                {
                                    "0": "2022-07-07",
                                    "1": "member",
                                    "2": "1173"
                                },
                                {
                                    "0": "2022-07-08",
                                    "1": "member",
                                    "2": "952"
                                },
                                {
                                    "0": "2022-07-09",
                                    "1": "member",
                                    "2": "1473"
                                },
                                {
                                    "0": "2022-07-10",
                                    "1": "member",
                                    "2": "1198"
                                },
                                {
                                    "0": "2022-07-11",
                                    "1": "member",
                                    "2": "1034"
                                },
                                {
                                    "0": "2022-07-12",
                                    "1": "member",
                                    "2": "1243"
                                },
                                {
                                    "0": "2022-07-13",
                                    "1": "member",
                                    "2": "1292"
                                },
                                {
                                    "0": "2022-07-14",
                                    "1": "member",
                                    "2": "1244"
                                },
                                {
                                    "0": "2022-07-15",
                                    "1": "member",
                                    "2": "428"
                                },
                                {
                                    "0": "2022-07-16",
                                    "1": "member",
                                    "2": "1265"
                                },
                                {
                                    "0": "2022-07-17",
                                    "1": "member",
                                    "2": "918"
                                },
                                {
                                    "0": "2022-07-18",
                                    "1": "member",
                                    "2": "1093"
                                },
                                {
                                    "0": "2022-07-19",
                                    "1": "member",
                                    "2": "1160"
                                },
                                {
                                    "0": "2022-07-20",
                                    "1": "member",
                                    "2": "1147"
                                },
                                {
                                    "0": "2022-07-21",
                                    "1": "member",
                                    "2": "1117"
                                },
                                {
                                    "0": "2022-07-22",
                                    "1": "member",
                                    "2": "1109"
                                },
                                {
                                    "0": "2022-07-23",
                                    "1": "member",
                                    "2": "1096"
                                },
                                {
                                    "0": "2022-07-24",
                                    "1": "member",
                                    "2": "916"
                                },
                                {
                                    "0": "2022-07-25",
                                    "1": "member",
                                    "2": "1095"
                                },
                                {
                                    "0": "2022-07-26",
                                    "1": "member",
                                    "2": "1155"
                                },
                                {
                                    "0": "2022-07-27",
                                    "1": "member",
                                    "2": "1132"
                                },
                                {
                                    "0": "2022-07-28",
                                    "1": "member",
                                    "2": "1156"
                                },
                                {
                                    "0": "2022-07-29",
                                    "1": "member",
                                    "2": "1180"
                                },
                                {
                                    "0": "2022-07-30",
                                    "1": "member",
                                    "2": "1308"
                                },
                                {
                                    "0": "2022-07-31",
                                    "1": "member",
                                    "2": "1105"
                                },
                                {
                                    "0": "2022-08-01",
                                    "1": "member",
                                    "2": "2343"
                                },
                                {
                                    "0": "2022-08-02",
                                    "1": "member",
                                    "2": "2542"
                                },
                                {
                                    "0": "2022-08-03",
                                    "1": "member",
                                    "2": "2081"
                                },
                                {
                                    "0": "2022-08-04",
                                    "1": "member",
                                    "2": "2510"
                                },
                                {
                                    "0": "2022-08-05",
                                    "1": "member",
                                    "2": "2460"
                                },
                                {
                                    "0": "2022-08-06",
                                    "1": "member",
                                    "2": "2342"
                                },
                                {
                                    "0": "2022-08-07",
                                    "1": "member",
                                    "2": "1407"
                                },
                                {
                                    "0": "2022-08-08",
                                    "1": "member",
                                    "2": "1296"
                                },
                                {
                                    "0": "2022-08-09",
                                    "1": "member",
                                    "2": "2697"
                                },
                                {
                                    "0": "2022-08-10",
                                    "1": "member",
                                    "2": "2729"
                                },
                                {
                                    "0": "2022-08-11",
                                    "1": "member",
                                    "2": "2532"
                                },
                                {
                                    "0": "2022-08-12",
                                    "1": "member",
                                    "2": "2429"
                                },
                                {
                                    "0": "2022-08-13",
                                    "1": "member",
                                    "2": "2511"
                                },
                                {
                                    "0": "2022-08-14",
                                    "1": "member",
                                    "2": "2066"
                                },
                                {
                                    "0": "2022-08-15",
                                    "1": "member",
                                    "2": "2388"
                                },
                                {
                                    "0": "2022-08-16",
                                    "1": "member",
                                    "2": "2604"
                                },
                                {
                                    "0": "2022-08-17",
                                    "1": "member",
                                    "2": "2631"
                                },
                                {
                                    "0": "2022-08-18",
                                    "1": "member",
                                    "2": "2525"
                                },
                                {
                                    "0": "2022-08-19",
                                    "1": "member",
                                    "2": "2627"
                                },
                                {
                                    "0": "2022-08-20",
                                    "1": "member",
                                    "2": "1806"
                                },
                                {
                                    "0": "2022-08-21",
                                    "1": "member",
                                    "2": "2370"
                                },
                                {
                                    "0": "2022-08-22",
                                    "1": "member",
                                    "2": "2409"
                                },
                                {
                                    "0": "2022-08-23",
                                    "1": "member",
                                    "2": "2573"
                                },
                                {
                                    "0": "2022-08-24",
                                    "1": "member",
                                    "2": "2670"
                                },
                                {
                                    "0": "2022-08-25",
                                    "1": "member",
                                    "2": "2027"
                                },
                                {
                                    "0": "2022-08-26",
                                    "1": "member",
                                    "2": "2507"
                                },
                                {
                                    "0": "2022-08-27",
                                    "1": "member",
                                    "2": "2773"
                                },
                                {
                                    "0": "2022-08-28",
                                    "1": "member",
                                    "2": "1958"
                                },
                                {
                                    "0": "2022-08-29",
                                    "1": "member",
                                    "2": "1920"
                                },
                                {
                                    "0": "2022-08-30",
                                    "1": "member",
                                    "2": "2645"
                                },
                                {
                                    "0": "2022-08-31",
                                    "1": "member",
                                    "2": "2734"
                                }
                            ]
                        },
                        "text/html": [
                            "<table>",
                            "<tr><th>Rides_Date</th><th>User_type</th><th>total_ride</th></tr>",
                            "<tr><td>2021-09-01</td><td>casual</td><td>3158</td></tr>",
                            "<tr><td>2021-09-02</td><td>casual</td><td>3863</td></tr>",
                            "<tr><td>2021-09-03</td><td>casual</td><td>4363</td></tr>",
                            "<tr><td>2021-09-04</td><td>casual</td><td>7822</td></tr>",
                            "<tr><td>2021-09-05</td><td>casual</td><td>12734</td></tr>",
                            "<tr><td>2021-09-06</td><td>casual</td><td>9354</td></tr>",
                            "<tr><td>2021-09-07</td><td>casual</td><td>2264</td></tr>",
                            "<tr><td>2021-09-08</td><td>casual</td><td>3180</td></tr>",
                            "<tr><td>2021-09-09</td><td>casual</td><td>3210</td></tr>",
                            "<tr><td>2021-09-10</td><td>casual</td><td>4469</td></tr>",
                            "<tr><td>2021-09-11</td><td>casual</td><td>8702</td></tr>",
                            "<tr><td>2021-09-12</td><td>casual</td><td>6490</td></tr>",
                            "<tr><td>2021-09-13</td><td>casual</td><td>3143</td></tr>",
                            "<tr><td>2021-09-14</td><td>casual</td><td>2663</td></tr>",
                            "<tr><td>2021-09-15</td><td>casual</td><td>3633</td></tr>",
                            "<tr><td>2021-09-16</td><td>casual</td><td>4046</td></tr>",
                            "<tr><td>2021-09-17</td><td>casual</td><td>5032</td></tr>",
                            "<tr><td>2021-09-18</td><td>casual</td><td>8435</td></tr>",
                            "<tr><td>2021-09-19</td><td>casual</td><td>6808</td></tr>",
                            "<tr><td>2021-09-20</td><td>casual</td><td>2312</td></tr>",
                            "<tr><td>2021-09-21</td><td>casual</td><td>1744</td></tr>",
                            "<tr><td>2021-09-22</td><td>casual</td><td>1319</td></tr>",
                            "<tr><td>2021-09-23</td><td>casual</td><td>1886</td></tr>",
                            "<tr><td>2021-09-24</td><td>casual</td><td>3695</td></tr>",
                            "<tr><td>2021-09-25</td><td>casual</td><td>6800</td></tr>",
                            "<tr><td>2021-09-26</td><td>casual</td><td>6141</td></tr>",
                            "<tr><td>2021-09-27</td><td>casual</td><td>2656</td></tr>",
                            "<tr><td>2021-09-28</td><td>casual</td><td>2318</td></tr>",
                            "<tr><td>2021-09-29</td><td>casual</td><td>2369</td></tr>",
                            "<tr><td>2021-09-30</td><td>casual</td><td>2465</td></tr>",
                            "<tr><td>2021-10-01</td><td>casual</td><td>4457</td></tr>",
                            "<tr><td>2021-10-02</td><td>casual</td><td>5720</td></tr>",
                            "<tr><td>2021-10-03</td><td>casual</td><td>3722</td></tr>",
                            "<tr><td>2021-10-04</td><td>casual</td><td>1672</td></tr>",
                            "<tr><td>2021-10-05</td><td>casual</td><td>1858</td></tr>",
                            "<tr><td>2021-10-06</td><td>casual</td><td>1801</td></tr>",
                            "<tr><td>2021-10-07</td><td>casual</td><td>1399</td></tr>",
                            "<tr><td>2021-10-08</td><td>casual</td><td>2533</td></tr>",
                            "<tr><td>2021-10-09</td><td>casual</td><td>8142</td></tr>",
                            "<tr><td>2021-10-10</td><td>casual</td><td>9293</td></tr>",
                            "<tr><td>2021-10-11</td><td>casual</td><td>1986</td></tr>",
                            "<tr><td>2021-10-12</td><td>casual</td><td>1960</td></tr>",
                            "<tr><td>2021-10-13</td><td>casual</td><td>1496</td></tr>",
                            "<tr><td>2021-10-14</td><td>casual</td><td>1869</td></tr>",
                            "<tr><td>2021-10-15</td><td>casual</td><td>2312</td></tr>",
                            "<tr><td>2021-10-16</td><td>casual</td><td>5037</td></tr>",
                            "<tr><td>2021-10-17</td><td>casual</td><td>5220</td></tr>",
                            "<tr><td>2021-10-18</td><td>casual</td><td>2406</td></tr>",
                            "<tr><td>2021-10-19</td><td>casual</td><td>2020</td></tr>",
                            "<tr><td>2021-10-20</td><td>casual</td><td>1998</td></tr>",
                            "<tr><td>2021-10-21</td><td>casual</td><td>928</td></tr>",
                            "<tr><td>2021-10-22</td><td>casual</td><td>1987</td></tr>",
                            "<tr><td>2021-10-23</td><td>casual</td><td>3799</td></tr>",
                            "<tr><td>2021-10-24</td><td>casual</td><td>521</td></tr>",
                            "<tr><td>2021-10-25</td><td>casual</td><td>431</td></tr>",
                            "<tr><td>2021-10-26</td><td>casual</td><td>1252</td></tr>",
                            "<tr><td>2021-10-27</td><td>casual</td><td>1111</td></tr>",
                            "<tr><td>2021-10-28</td><td>casual</td><td>446</td></tr>",
                            "<tr><td>2021-10-29</td><td>casual</td><td>337</td></tr>",
                            "<tr><td>2021-10-30</td><td>casual</td><td>2741</td></tr>",
                            "<tr><td>2021-10-31</td><td>casual</td><td>2431</td></tr>",
                            "<tr><td>2021-11-01</td><td>casual</td><td>399</td></tr>",
                            "<tr><td>2021-11-02</td><td>casual</td><td>350</td></tr>",
                            "<tr><td>2021-11-03</td><td>casual</td><td>304</td></tr>",
                            "<tr><td>2021-11-04</td><td>casual</td><td>815</td></tr>",
                            "<tr><td>2021-11-05</td><td>casual</td><td>618</td></tr>",
                            "<tr><td>2021-11-06</td><td>casual</td><td>1338</td></tr>",
                            "<tr><td>2021-11-07</td><td>casual</td><td>1545</td></tr>",
                            "<tr><td>2021-11-08</td><td>casual</td><td>756</td></tr>",
                            "<tr><td>2021-11-09</td><td>casual</td><td>386</td></tr>",
                            "<tr><td>2021-11-10</td><td>casual</td><td>447</td></tr>",
                            "<tr><td>2021-11-11</td><td>casual</td><td>241</td></tr>",
                            "<tr><td>2021-11-12</td><td>casual</td><td>200</td></tr>",
                            "<tr><td>2021-11-13</td><td>casual</td><td>547</td></tr>",
                            "<tr><td>2021-11-14</td><td>casual</td><td>270</td></tr>",
                            "<tr><td>2021-11-15</td><td>casual</td><td>326</td></tr>",
                            "<tr><td>2021-11-16</td><td>casual</td><td>244</td></tr>",
                            "<tr><td>2021-11-17</td><td>casual</td><td>174</td></tr>",
                            "<tr><td>2021-11-18</td><td>casual</td><td>154</td></tr>",
                            "<tr><td>2021-11-19</td><td>casual</td><td>342</td></tr>",
                            "<tr><td>2021-11-20</td><td>casual</td><td>651</td></tr>",
                            "<tr><td>2021-11-21</td><td>casual</td><td>659</td></tr>",
                            "<tr><td>2021-11-22</td><td>casual</td><td>304</td></tr>",
                            "<tr><td>2021-11-23</td><td>casual</td><td>333</td></tr>",
                            "<tr><td>2021-11-24</td><td>casual</td><td>398</td></tr>",
                            "<tr><td>2021-11-25</td><td>casual</td><td>284</td></tr>",
                            "<tr><td>2021-11-26</td><td>casual</td><td>331</td></tr>",
                            "<tr><td>2021-11-27</td><td>casual</td><td>411</td></tr>",
                            "<tr><td>2021-11-28</td><td>casual</td><td>225</td></tr>",
                            "<tr><td>2021-11-29</td><td>casual</td><td>101</td></tr>",
                            "<tr><td>2021-11-30</td><td>casual</td><td>203</td></tr>",
                            "<tr><td>2021-12-01</td><td>casual</td><td>1010</td></tr>",
                            "<tr><td>2021-12-02</td><td>casual</td><td>1089</td></tr>",
                            "<tr><td>2021-12-03</td><td>casual</td><td>921</td></tr>",
                            "<tr><td>2021-12-04</td><td>casual</td><td>1208</td></tr>",
                            "<tr><td>2021-12-05</td><td>casual</td><td>363</td></tr>",
                            "<tr><td>2021-12-06</td><td>casual</td><td>281</td></tr>",
                            "<tr><td>2021-12-07</td><td>casual</td><td>143</td></tr>",
                            "<tr><td>2021-12-08</td><td>casual</td><td>465</td></tr>",
                            "<tr><td>2021-12-09</td><td>casual</td><td>413</td></tr>",
                            "<tr><td>2021-12-10</td><td>casual</td><td>422</td></tr>",
                            "<tr><td>2021-12-11</td><td>casual</td><td>641</td></tr>",
                            "<tr><td>2021-12-12</td><td>casual</td><td>1199</td></tr>",
                            "<tr><td>2021-12-13</td><td>casual</td><td>504</td></tr>",
                            "<tr><td>2021-12-14</td><td>casual</td><td>814</td></tr>",
                            "<tr><td>2021-12-15</td><td>casual</td><td>696</td></tr>",
                            "<tr><td>2021-12-16</td><td>casual</td><td>595</td></tr>",
                            "<tr><td>2021-12-17</td><td>casual</td><td>462</td></tr>",
                            "<tr><td>2021-12-18</td><td>casual</td><td>387</td></tr>",
                            "<tr><td>2021-12-19</td><td>casual</td><td>837</td></tr>",
                            "<tr><td>2021-12-20</td><td>casual</td><td>518</td></tr>",
                            "<tr><td>2021-12-21</td><td>casual</td><td>430</td></tr>",
                            "<tr><td>2021-12-22</td><td>casual</td><td>295</td></tr>",
                            "<tr><td>2021-12-23</td><td>casual</td><td>791</td></tr>",
                            "<tr><td>2021-12-24</td><td>casual</td><td>503</td></tr>",
                            "<tr><td>2021-12-25</td><td>casual</td><td>698</td></tr>",
                            "<tr><td>2021-12-26</td><td>casual</td><td>520</td></tr>",
                            "<tr><td>2021-12-27</td><td>casual</td><td>507</td></tr>",
                            "<tr><td>2021-12-28</td><td>casual</td><td>185</td></tr>",
                            "<tr><td>2021-12-29</td><td>casual</td><td>385</td></tr>",
                            "<tr><td>2021-12-30</td><td>casual</td><td>523</td></tr>",
                            "<tr><td>2021-12-31</td><td>casual</td><td>837</td></tr>",
                            "<tr><td>2022-01-01</td><td>casual</td><td>1470</td></tr>",
                            "<tr><td>2022-01-02</td><td>casual</td><td>373</td></tr>",
                            "<tr><td>2022-01-03</td><td>casual</td><td>187</td></tr>",
                            "<tr><td>2022-01-04</td><td>casual</td><td>242</td></tr>",
                            "<tr><td>2022-01-05</td><td>casual</td><td>143</td></tr>",
                            "<tr><td>2022-01-06</td><td>casual</td><td>1075</td></tr>",
                            "<tr><td>2022-01-07</td><td>casual</td><td>190</td></tr>",
                            "<tr><td>2022-01-08</td><td>casual</td><td>220</td></tr>",
                            "<tr><td>2022-01-09</td><td>casual</td><td>151</td></tr>",
                            "<tr><td>2022-01-10</td><td>casual</td><td>266</td></tr>",
                            "<tr><td>2022-01-11</td><td>casual</td><td>165</td></tr>",
                            "<tr><td>2022-01-12</td><td>casual</td><td>1261</td></tr>",
                            "<tr><td>2022-01-13</td><td>casual</td><td>864</td></tr>",
                            "<tr><td>2022-01-14</td><td>casual</td><td>497</td></tr>",
                            "<tr><td>2022-01-15</td><td>casual</td><td>348</td></tr>",
                            "<tr><td>2022-01-16</td><td>casual</td><td>469</td></tr>",
                            "<tr><td>2022-01-17</td><td>casual</td><td>361</td></tr>",
                            "<tr><td>2022-01-18</td><td>casual</td><td>327</td></tr>",
                            "<tr><td>2022-01-19</td><td>casual</td><td>278</td></tr>",
                            "<tr><td>2022-01-20</td><td>casual</td><td>149</td></tr>",
                            "<tr><td>2022-01-21</td><td>casual</td><td>253</td></tr>",
                            "<tr><td>2022-01-22</td><td>casual</td><td>502</td></tr>",
                            "<tr><td>2022-01-23</td><td>casual</td><td>110</td></tr>",
                            "<tr><td>2022-01-24</td><td>casual</td><td>141</td></tr>",
                            "<tr><td>2022-01-25</td><td>casual</td><td>113</td></tr>",
                            "<tr><td>2022-01-26</td><td>casual</td><td>89</td></tr>",
                            "<tr><td>2022-01-27</td><td>casual</td><td>233</td></tr>",
                            "<tr><td>2022-01-28</td><td>casual</td><td>248</td></tr>",
                            "<tr><td>2022-01-29</td><td>casual</td><td>234</td></tr>",
                            "<tr><td>2022-01-30</td><td>casual</td><td>274</td></tr>",
                            "<tr><td>2022-01-31</td><td>casual</td><td>239</td></tr>",
                            "<tr><td>2022-02-01</td><td>casual</td><td>125</td></tr>",
                            "<tr><td>2022-02-02</td><td>casual</td><td>28</td></tr>",
                            "<tr><td>2022-02-03</td><td>casual</td><td>98</td></tr>",
                            "<tr><td>2022-02-04</td><td>casual</td><td>94</td></tr>",
                            "<tr><td>2022-02-05</td><td>casual</td><td>86</td></tr>",
                            "<tr><td>2022-02-06</td><td>casual</td><td>267</td></tr>",
                            "<tr><td>2022-02-07</td><td>casual</td><td>91</td></tr>",
                            "<tr><td>2022-02-08</td><td>casual</td><td>313</td></tr>",
                            "<tr><td>2022-02-09</td><td>casual</td><td>167</td></tr>",
                            "<tr><td>2022-02-10</td><td>casual</td><td>137</td></tr>",
                            "<tr><td>2022-02-11</td><td>casual</td><td>229</td></tr>",
                            "<tr><td>2022-02-12</td><td>casual</td><td>159</td></tr>",
                            "<tr><td>2022-02-13</td><td>casual</td><td>421</td></tr>",
                            "<tr><td>2022-02-14</td><td>casual</td><td>161</td></tr>",
                            "<tr><td>2022-02-15</td><td>casual</td><td>263</td></tr>",
                            "<tr><td>2022-02-16</td><td>casual</td><td>216</td></tr>",
                            "<tr><td>2022-02-17</td><td>casual</td><td>67</td></tr>",
                            "<tr><td>2022-02-18</td><td>casual</td><td>104</td></tr>",
                            "<tr><td>2022-02-19</td><td>casual</td><td>152</td></tr>",
                            "<tr><td>2022-02-20</td><td>casual</td><td>509</td></tr>",
                            "<tr><td>2022-02-21</td><td>casual</td><td>598</td></tr>",
                            "<tr><td>2022-02-22</td><td>casual</td><td>111</td></tr>",
                            "<tr><td>2022-02-23</td><td>casual</td><td>165</td></tr>",
                            "<tr><td>2022-02-24</td><td>casual</td><td>117</td></tr>",
                            "<tr><td>2022-02-25</td><td>casual</td><td>197</td></tr>",
                            "<tr><td>2022-02-26</td><td>casual</td><td>344</td></tr>",
                            "<tr><td>2022-02-27</td><td>casual</td><td>553</td></tr>",
                            "<tr><td>2022-02-28</td><td>casual</td><td>475</td></tr>",
                            "<tr><td>2022-03-01</td><td>casual</td><td>618</td></tr>",
                            "<tr><td>2022-03-02</td><td>casual</td><td>679</td></tr>",
                            "<tr><td>2022-03-03</td><td>casual</td><td>352</td></tr>",
                            "<tr><td>2022-03-04</td><td>casual</td><td>607</td></tr>",
                            "<tr><td>2022-03-05</td><td>casual</td><td>5497</td></tr>",
                            "<tr><td>2022-03-06</td><td>casual</td><td>824</td></tr>",
                            "<tr><td>2022-03-07</td><td>casual</td><td>197</td></tr>",
                            "<tr><td>2022-03-08</td><td>casual</td><td>432</td></tr>",
                            "<tr><td>2022-03-09</td><td>casual</td><td>523</td></tr>",
                            "<tr><td>2022-03-10</td><td>casual</td><td>267</td></tr>",
                            "<tr><td>2022-03-11</td><td>casual</td><td>261</td></tr>",
                            "<tr><td>2022-03-12</td><td>casual</td><td>468</td></tr>",
                            "<tr><td>2022-03-13</td><td>casual</td><td>1594</td></tr>",
                            "<tr><td>2022-03-14</td><td>casual</td><td>1428</td></tr>",
                            "<tr><td>2022-03-15</td><td>casual</td><td>782</td></tr>",
                            "<tr><td>2022-03-16</td><td>casual</td><td>2919</td></tr>",
                            "<tr><td>2022-03-17</td><td>casual</td><td>2075</td></tr>",
                            "<tr><td>2022-03-18</td><td>casual</td><td>265</td></tr>",
                            "<tr><td>2022-03-19</td><td>casual</td><td>450</td></tr>",
                            "<tr><td>2022-03-20</td><td>casual</td><td>3867</td></tr>",
                            "<tr><td>2022-03-21</td><td>casual</td><td>3710</td></tr>",
                            "<tr><td>2022-03-22</td><td>casual</td><td>415</td></tr>",
                            "<tr><td>2022-03-23</td><td>casual</td><td>574</td></tr>",
                            "<tr><td>2022-03-24</td><td>casual</td><td>340</td></tr>",
                            "<tr><td>2022-03-25</td><td>casual</td><td>601</td></tr>",
                            "<tr><td>2022-03-26</td><td>casual</td><td>431</td></tr>",
                            "<tr><td>2022-03-27</td><td>casual</td><td>571</td></tr>",
                            "<tr><td>2022-03-28</td><td>casual</td><td>330</td></tr>",
                            "<tr><td>2022-03-29</td><td>casual</td><td>308</td></tr>",
                            "<tr><td>2022-03-30</td><td>casual</td><td>178</td></tr>",
                            "<tr><td>2022-03-31</td><td>casual</td><td>237</td></tr>",
                            "<tr><td>2022-04-01</td><td>casual</td><td>483</td></tr>",
                            "<tr><td>2022-04-02</td><td>casual</td><td>218</td></tr>",
                            "<tr><td>2022-04-03</td><td>casual</td><td>498</td></tr>",
                            "<tr><td>2022-04-04</td><td>casual</td><td>358</td></tr>",
                            "<tr><td>2022-04-05</td><td>casual</td><td>348</td></tr>",
                            "<tr><td>2022-04-06</td><td>casual</td><td>399</td></tr>",
                            "<tr><td>2022-04-07</td><td>casual</td><td>203</td></tr>",
                            "<tr><td>2022-04-08</td><td>casual</td><td>128</td></tr>",
                            "<tr><td>2022-04-09</td><td>casual</td><td>631</td></tr>",
                            "<tr><td>2022-04-10</td><td>casual</td><td>1423</td></tr>",
                            "<tr><td>2022-04-11</td><td>casual</td><td>743</td></tr>",
                            "<tr><td>2022-04-12</td><td>casual</td><td>997</td></tr>",
                            "<tr><td>2022-04-13</td><td>casual</td><td>287</td></tr>",
                            "<tr><td>2022-04-14</td><td>casual</td><td>466</td></tr>",
                            "<tr><td>2022-04-15</td><td>casual</td><td>552</td></tr>",
                            "<tr><td>2022-04-16</td><td>casual</td><td>1202</td></tr>",
                            "<tr><td>2022-04-17</td><td>casual</td><td>432</td></tr>",
                            "<tr><td>2022-04-18</td><td>casual</td><td>138</td></tr>",
                            "<tr><td>2022-04-19</td><td>casual</td><td>298</td></tr>",
                            "<tr><td>2022-04-20</td><td>casual</td><td>212</td></tr>",
                            "<tr><td>2022-04-21</td><td>casual</td><td>1363</td></tr>",
                            "<tr><td>2022-04-22</td><td>casual</td><td>212</td></tr>",
                            "<tr><td>2022-04-23</td><td>casual</td><td>4987</td></tr>",
                            "<tr><td>2022-04-24</td><td>casual</td><td>1077</td></tr>",
                            "<tr><td>2022-04-25</td><td>casual</td><td>475</td></tr>",
                            "<tr><td>2022-04-26</td><td>casual</td><td>334</td></tr>",
                            "<tr><td>2022-04-27</td><td>casual</td><td>206</td></tr>",
                            "<tr><td>2022-04-28</td><td>casual</td><td>271</td></tr>",
                            "<tr><td>2022-04-29</td><td>casual</td><td>830</td></tr>",
                            "<tr><td>2022-04-30</td><td>casual</td><td>639</td></tr>",
                            "<tr><td>2022-05-01</td><td>casual</td><td>1534</td></tr>",
                            "<tr><td>2022-05-02</td><td>casual</td><td>925</td></tr>",
                            "<tr><td>2022-05-03</td><td>casual</td><td>192</td></tr>",
                            "<tr><td>2022-05-04</td><td>casual</td><td>976</td></tr>",
                            "<tr><td>2022-05-05</td><td>casual</td><td>397</td></tr>",
                            "<tr><td>2022-05-06</td><td>casual</td><td>390</td></tr>",
                            "<tr><td>2022-05-07</td><td>casual</td><td>3782</td></tr>",
                            "<tr><td>2022-05-08</td><td>casual</td><td>2844</td></tr>",
                            "<tr><td>2022-05-09</td><td>casual</td><td>3423</td></tr>",
                            "<tr><td>2022-05-10</td><td>casual</td><td>4125</td></tr>",
                            "<tr><td>2022-05-11</td><td>casual</td><td>3503</td></tr>",
                            "<tr><td>2022-05-12</td><td>casual</td><td>3934</td></tr>",
                            "<tr><td>2022-05-13</td><td>casual</td><td>5147</td></tr>",
                            "<tr><td>2022-05-14</td><td>casual</td><td>7467</td></tr>",
                            "<tr><td>2022-05-15</td><td>casual</td><td>4048</td></tr>",
                            "<tr><td>2022-05-16</td><td>casual</td><td>3713</td></tr>",
                            "<tr><td>2022-05-17</td><td>casual</td><td>1802</td></tr>",
                            "<tr><td>2022-05-18</td><td>casual</td><td>1144</td></tr>",
                            "<tr><td>2022-05-19</td><td>casual</td><td>3920</td></tr>",
                            "<tr><td>2022-05-20</td><td>casual</td><td>2864</td></tr>",
                            "<tr><td>2022-05-21</td><td>casual</td><td>1798</td></tr>",
                            "<tr><td>2022-05-22</td><td>casual</td><td>4663</td></tr>",
                            "<tr><td>2022-05-23</td><td>casual</td><td>2243</td></tr>",
                            "<tr><td>2022-05-24</td><td>casual</td><td>2111</td></tr>",
                            "<tr><td>2022-05-25</td><td>casual</td><td>1274</td></tr>",
                            "<tr><td>2022-05-26</td><td>casual</td><td>2448</td></tr>",
                            "<tr><td>2022-05-27</td><td>casual</td><td>1715</td></tr>",
                            "<tr><td>2022-05-28</td><td>casual</td><td>8146</td></tr>",
                            "<tr><td>2022-05-29</td><td>casual</td><td>9731</td></tr>",
                            "<tr><td>2022-05-30</td><td>casual</td><td>8397</td></tr>",
                            "<tr><td>2022-05-31</td><td>casual</td><td>2971</td></tr>",
                            "<tr><td>2022-06-01</td><td>casual</td><td>2534</td></tr>",
                            "<tr><td>2022-06-02</td><td>casual</td><td>3190</td></tr>",
                            "<tr><td>2022-06-03</td><td>casual</td><td>4790</td></tr>",
                            "<tr><td>2022-06-04</td><td>casual</td><td>4600</td></tr>",
                            "<tr><td>2022-06-05</td><td>casual</td><td>6083</td></tr>",
                            "<tr><td>2022-06-06</td><td>casual</td><td>1394</td></tr>",
                            "<tr><td>2022-06-07</td><td>casual</td><td>2407</td></tr>",
                            "<tr><td>2022-06-08</td><td>casual</td><td>1193</td></tr>",
                            "<tr><td>2022-06-09</td><td>casual</td><td>3663</td></tr>",
                            "<tr><td>2022-06-10</td><td>casual</td><td>3082</td></tr>",
                            "<tr><td>2022-06-11</td><td>casual</td><td>6789</td></tr>",
                            "<tr><td>2022-06-12</td><td>casual</td><td>4751</td></tr>",
                            "<tr><td>2022-06-13</td><td>casual</td><td>2561</td></tr>",
                            "<tr><td>2022-06-14</td><td>casual</td><td>3290</td></tr>",
                            "<tr><td>2022-06-15</td><td>casual</td><td>3119</td></tr>",
                            "<tr><td>2022-06-16</td><td>casual</td><td>3287</td></tr>",
                            "<tr><td>2022-06-17</td><td>casual</td><td>5228</td></tr>",
                            "<tr><td>2022-06-18</td><td>casual</td><td>8080</td></tr>",
                            "<tr><td>2022-06-19</td><td>casual</td><td>7014</td></tr>",
                            "<tr><td>2022-06-20</td><td>casual</td><td>4862</td></tr>",
                            "<tr><td>2022-06-21</td><td>casual</td><td>2936</td></tr>",
                            "<tr><td>2022-06-22</td><td>casual</td><td>3295</td></tr>",
                            "<tr><td>2022-06-23</td><td>casual</td><td>3692</td></tr>",
                            "<tr><td>2022-06-24</td><td>casual</td><td>4799</td></tr>",
                            "<tr><td>2022-06-25</td><td>casual</td><td>3779</td></tr>",
                            "<tr><td>2022-06-26</td><td>casual</td><td>7468</td></tr>",
                            "<tr><td>2022-06-27</td><td>casual</td><td>3610</td></tr>",
                            "<tr><td>2022-06-28</td><td>casual</td><td>3062</td></tr>",
                            "<tr><td>2022-06-29</td><td>casual</td><td>3559</td></tr>",
                            "<tr><td>2022-06-30</td><td>casual</td><td>3575</td></tr>",
                            "<tr><td>2022-07-01</td><td>casual</td><td>1627</td></tr>",
                            "<tr><td>2022-07-02</td><td>casual</td><td>3824</td></tr>",
                            "<tr><td>2022-07-03</td><td>casual</td><td>3858</td></tr>",
                            "<tr><td>2022-07-04</td><td>casual</td><td>3362</td></tr>",
                            "<tr><td>2022-07-05</td><td>casual</td><td>1287</td></tr>",
                            "<tr><td>2022-07-06</td><td>casual</td><td>1434</td></tr>",
                            "<tr><td>2022-07-07</td><td>casual</td><td>1427</td></tr>",
                            "<tr><td>2022-07-08</td><td>casual</td><td>1474</td></tr>",
                            "<tr><td>2022-07-09</td><td>casual</td><td>3968</td></tr>",
                            "<tr><td>2022-07-10</td><td>casual</td><td>3235</td></tr>",
                            "<tr><td>2022-07-11</td><td>casual</td><td>1453</td></tr>",
                            "<tr><td>2022-07-12</td><td>casual</td><td>1580</td></tr>",
                            "<tr><td>2022-07-13</td><td>casual</td><td>1568</td></tr>",
                            "<tr><td>2022-07-14</td><td>casual</td><td>1708</td></tr>",
                            "<tr><td>2022-07-15</td><td>casual</td><td>517</td></tr>",
                            "<tr><td>2022-07-16</td><td>casual</td><td>3302</td></tr>",
                            "<tr><td>2022-07-17</td><td>casual</td><td>2083</td></tr>",
                            "<tr><td>2022-07-18</td><td>casual</td><td>1567</td></tr>",
                            "<tr><td>2022-07-19</td><td>casual</td><td>1479</td></tr>",
                            "<tr><td>2022-07-20</td><td>casual</td><td>1560</td></tr>",
                            "<tr><td>2022-07-21</td><td>casual</td><td>1417</td></tr>",
                            "<tr><td>2022-07-22</td><td>casual</td><td>1917</td></tr>",
                            "<tr><td>2022-07-23</td><td>casual</td><td>3029</td></tr>",
                            "<tr><td>2022-07-24</td><td>casual</td><td>2570</td></tr>",
                            "<tr><td>2022-07-25</td><td>casual</td><td>1610</td></tr>",
                            "<tr><td>2022-07-26</td><td>casual</td><td>1506</td></tr>",
                            "<tr><td>2022-07-27</td><td>casual</td><td>1395</td></tr>",
                            "<tr><td>2022-07-28</td><td>casual</td><td>1595</td></tr>",
                            "<tr><td>2022-07-29</td><td>casual</td><td>2224</td></tr>",
                            "<tr><td>2022-07-30</td><td>casual</td><td>3113</td></tr>",
                            "<tr><td>2022-07-31</td><td>casual</td><td>2716</td></tr>",
                            "<tr><td>2022-08-01</td><td>casual</td><td>3045</td></tr>",
                            "<tr><td>2022-08-02</td><td>casual</td><td>3201</td></tr>",
                            "<tr><td>2022-08-03</td><td>casual</td><td>2044</td></tr>",
                            "<tr><td>2022-08-04</td><td>casual</td><td>3028</td></tr>",
                            "<tr><td>2022-08-05</td><td>casual</td><td>4407</td></tr>",
                            "<tr><td>2022-08-06</td><td>casual</td><td>6146</td></tr>",
                            "<tr><td>2022-08-07</td><td>casual</td><td>2411</td></tr>",
                            "<tr><td>2022-08-08</td><td>casual</td><td>1129</td></tr>",
                            "<tr><td>2022-08-09</td><td>casual</td><td>3198</td></tr>",
                            "<tr><td>2022-08-10</td><td>casual</td><td>3340</td></tr>",
                            "<tr><td>2022-08-11</td><td>casual</td><td>3198</td></tr>",
                            "<tr><td>2022-08-12</td><td>casual</td><td>3922</td></tr>",
                            "<tr><td>2022-08-13</td><td>casual</td><td>5669</td></tr>",
                            "<tr><td>2022-08-14</td><td>casual</td><td>4428</td></tr>",
                            "<tr><td>2022-08-15</td><td>casual</td><td>3131</td></tr>",
                            "<tr><td>2022-08-16</td><td>casual</td><td>3035</td></tr>",
                            "<tr><td>2022-08-17</td><td>casual</td><td>2709</td></tr>",
                            "<tr><td>2022-08-18</td><td>casual</td><td>3191</td></tr>",
                            "<tr><td>2022-08-19</td><td>casual</td><td>4736</td></tr>",
                            "<tr><td>2022-08-20</td><td>casual</td><td>3619</td></tr>",
                            "<tr><td>2022-08-21</td><td>casual</td><td>4887</td></tr>",
                            "<tr><td>2022-08-22</td><td>casual</td><td>2845</td></tr>",
                            "<tr><td>2022-08-23</td><td>casual</td><td>2626</td></tr>",
                            "<tr><td>2022-08-24</td><td>casual</td><td>2870</td></tr>",
                            "<tr><td>2022-08-25</td><td>casual</td><td>1896</td></tr>",
                            "<tr><td>2022-08-26</td><td>casual</td><td>3598</td></tr>",
                            "<tr><td>2022-08-27</td><td>casual</td><td>6068</td></tr>",
                            "<tr><td>2022-08-28</td><td>casual</td><td>4080</td></tr>",
                            "<tr><td>2022-08-29</td><td>casual</td><td>1631</td></tr>",
                            "<tr><td>2022-08-30</td><td>casual</td><td>2335</td></tr>",
                            "<tr><td>2022-08-31</td><td>casual</td><td>2299</td></tr>",
                            "<tr><td>2021-09-01</td><td>member</td><td>2711</td></tr>",
                            "<tr><td>2021-09-02</td><td>member</td><td>2488</td></tr>",
                            "<tr><td>2021-09-03</td><td>member</td><td>2142</td></tr>",
                            "<tr><td>2021-09-04</td><td>member</td><td>2138</td></tr>",
                            "<tr><td>2021-09-05</td><td>member</td><td>2634</td></tr>",
                            "<tr><td>2021-09-06</td><td>member</td><td>2543</td></tr>",
                            "<tr><td>2021-09-07</td><td>member</td><td>1916</td></tr>",
                            "<tr><td>2021-09-08</td><td>member</td><td>2635</td></tr>",
                            "<tr><td>2021-09-09</td><td>member</td><td>2572</td></tr>",
                            "<tr><td>2021-09-10</td><td>member</td><td>2624</td></tr>",
                            "<tr><td>2021-09-11</td><td>member</td><td>2740</td></tr>",
                            "<tr><td>2021-09-12</td><td>member</td><td>2407</td></tr>",
                            "<tr><td>2021-09-13</td><td>member</td><td>2255</td></tr>",
                            "<tr><td>2021-09-14</td><td>member</td><td>2470</td></tr>",
                            "<tr><td>2021-09-15</td><td>member</td><td>2624</td></tr>",
                            "<tr><td>2021-09-16</td><td>member</td><td>2757</td></tr>",
                            "<tr><td>2021-09-17</td><td>member</td><td>2430</td></tr>",
                            "<tr><td>2021-09-18</td><td>member</td><td>2802</td></tr>",
                            "<tr><td>2021-09-19</td><td>member</td><td>2511</td></tr>",
                            "<tr><td>2021-09-20</td><td>member</td><td>1982</td></tr>",
                            "<tr><td>2021-09-21</td><td>member</td><td>1806</td></tr>",
                            "<tr><td>2021-09-22</td><td>member</td><td>1708</td></tr>",
                            "<tr><td>2021-09-23</td><td>member</td><td>2104</td></tr>",
                            "<tr><td>2021-09-24</td><td>member</td><td>2348</td></tr>",
                            "<tr><td>2021-09-25</td><td>member</td><td>2501</td></tr>",
                            "<tr><td>2021-09-26</td><td>member</td><td>2350</td></tr>",
                            "<tr><td>2021-09-27</td><td>member</td><td>2168</td></tr>",
                            "<tr><td>2021-09-28</td><td>member</td><td>2395</td></tr>",
                            "<tr><td>2021-09-29</td><td>member</td><td>2534</td></tr>",
                            "<tr><td>2021-09-30</td><td>member</td><td>2445</td></tr>",
                            "<tr><td>2021-10-01</td><td>member</td><td>2576</td></tr>",
                            "<tr><td>2021-10-02</td><td>member</td><td>2154</td></tr>",
                            "<tr><td>2021-10-03</td><td>member</td><td>1730</td></tr>",
                            "<tr><td>2021-10-04</td><td>member</td><td>1905</td></tr>",
                            "<tr><td>2021-10-05</td><td>member</td><td>2179</td></tr>",
                            "<tr><td>2021-10-06</td><td>member</td><td>2310</td></tr>",
                            "<tr><td>2021-10-07</td><td>member</td><td>1691</td></tr>",
                            "<tr><td>2021-10-08</td><td>member</td><td>2086</td></tr>",
                            "<tr><td>2021-10-09</td><td>member</td><td>2872</td></tr>",
                            "<tr><td>2021-10-10</td><td>member</td><td>2613</td></tr>",
                            "<tr><td>2021-10-11</td><td>member</td><td>1172</td></tr>",
                            "<tr><td>2021-10-12</td><td>member</td><td>2093</td></tr>",
                            "<tr><td>2021-10-13</td><td>member</td><td>1939</td></tr>",
                            "<tr><td>2021-10-14</td><td>member</td><td>2090</td></tr>",
                            "<tr><td>2021-10-15</td><td>member</td><td>1868</td></tr>",
                            "<tr><td>2021-10-16</td><td>member</td><td>2163</td></tr>",
                            "<tr><td>2021-10-17</td><td>member</td><td>2157</td></tr>",
                            "<tr><td>2021-10-18</td><td>member</td><td>2161</td></tr>",
                            "<tr><td>2021-10-19</td><td>member</td><td>2478</td></tr>",
                            "<tr><td>2021-10-20</td><td>member</td><td>2404</td></tr>",
                            "<tr><td>2021-10-21</td><td>member</td><td>1648</td></tr>",
                            "<tr><td>2021-10-22</td><td>member</td><td>1773</td></tr>",
                            "<tr><td>2021-10-23</td><td>member</td><td>1992</td></tr>",
                            "<tr><td>2021-10-24</td><td>member</td><td>416</td></tr>",
                            "<tr><td>2021-10-25</td><td>member</td><td>792</td></tr>",
                            "<tr><td>2021-10-26</td><td>member</td><td>1818</td></tr>",
                            "<tr><td>2021-10-27</td><td>member</td><td>1937</td></tr>",
                            "<tr><td>2021-10-28</td><td>member</td><td>979</td></tr>",
                            "<tr><td>2021-10-29</td><td>member</td><td>583</td></tr>",
                            "<tr><td>2021-10-30</td><td>member</td><td>1689</td></tr>",
                            "<tr><td>2021-10-31</td><td>member</td><td>1478</td></tr>",
                            "<tr><td>2021-11-01</td><td>member</td><td>632</td></tr>",
                            "<tr><td>2021-11-02</td><td>member</td><td>595</td></tr>",
                            "<tr><td>2021-11-03</td><td>member</td><td>663</td></tr>",
                            "<tr><td>2021-11-04</td><td>member</td><td>604</td></tr>",
                            "<tr><td>2021-11-05</td><td>member</td><td>614</td></tr>",
                            "<tr><td>2021-11-06</td><td>member</td><td>760</td></tr>",
                            "<tr><td>2021-11-07</td><td>member</td><td>788</td></tr>",
                            "<tr><td>2021-11-08</td><td>member</td><td>831</td></tr>",
                            "<tr><td>2021-11-09</td><td>member</td><td>706</td></tr>",
                            "<tr><td>2021-11-10</td><td>member</td><td>743</td></tr>",
                            "<tr><td>2021-11-11</td><td>member</td><td>480</td></tr>",
                            "<tr><td>2021-11-12</td><td>member</td><td>396</td></tr>",
                            "<tr><td>2021-11-13</td><td>member</td><td>389</td></tr>",
                            "<tr><td>2021-11-14</td><td>member</td><td>263</td></tr>",
                            "<tr><td>2021-11-15</td><td>member</td><td>397</td></tr>",
                            "<tr><td>2021-11-16</td><td>member</td><td>610</td></tr>",
                            "<tr><td>2021-11-17</td><td>member</td><td>507</td></tr>",
                            "<tr><td>2021-11-18</td><td>member</td><td>453</td></tr>",
                            "<tr><td>2021-11-19</td><td>member</td><td>442</td></tr>",
                            "<tr><td>2021-11-20</td><td>member</td><td>509</td></tr>",
                            "<tr><td>2021-11-21</td><td>member</td><td>426</td></tr>",
                            "<tr><td>2021-11-22</td><td>member</td><td>370</td></tr>",
                            "<tr><td>2021-11-23</td><td>member</td><td>428</td></tr>",
                            "<tr><td>2021-11-24</td><td>member</td><td>356</td></tr>",
                            "<tr><td>2021-11-25</td><td>member</td><td>142</td></tr>",
                            "<tr><td>2021-11-26</td><td>member</td><td>161</td></tr>",
                            "<tr><td>2021-11-27</td><td>member</td><td>220</td></tr>",
                            "<tr><td>2021-11-28</td><td>member</td><td>247</td></tr>",
                            "<tr><td>2021-11-29</td><td>member</td><td>374</td></tr>",
                            "<tr><td>2021-11-30</td><td>member</td><td>504</td></tr>",
                            "<tr><td>2021-12-01</td><td>member</td><td>1229</td></tr>",
                            "<tr><td>2021-12-02</td><td>member</td><td>1476</td></tr>",
                            "<tr><td>2021-12-03</td><td>member</td><td>1224</td></tr>",
                            "<tr><td>2021-12-04</td><td>member</td><td>1017</td></tr>",
                            "<tr><td>2021-12-05</td><td>member</td><td>350</td></tr>",
                            "<tr><td>2021-12-06</td><td>member</td><td>704</td></tr>",
                            "<tr><td>2021-12-07</td><td>member</td><td>690</td></tr>",
                            "<tr><td>2021-12-08</td><td>member</td><td>874</td></tr>",
                            "<tr><td>2021-12-09</td><td>member</td><td>1049</td></tr>",
                            "<tr><td>2021-12-10</td><td>member</td><td>725</td></tr>",
                            "<tr><td>2021-12-11</td><td>member</td><td>755</td></tr>",
                            "<tr><td>2021-12-12</td><td>member</td><td>831</td></tr>",
                            "<tr><td>2021-12-13</td><td>member</td><td>1021</td></tr>",
                            "<tr><td>2021-12-14</td><td>member</td><td>1163</td></tr>",
                            "<tr><td>2021-12-15</td><td>member</td><td>1260</td></tr>",
                            "<tr><td>2021-12-16</td><td>member</td><td>895</td></tr>",
                            "<tr><td>2021-12-17</td><td>member</td><td>852</td></tr>",
                            "<tr><td>2021-12-18</td><td>member</td><td>549</td></tr>",
                            "<tr><td>2021-12-19</td><td>member</td><td>582</td></tr>",
                            "<tr><td>2021-12-20</td><td>member</td><td>729</td></tr>",
                            "<tr><td>2021-12-21</td><td>member</td><td>667</td></tr>",
                            "<tr><td>2021-12-22</td><td>member</td><td>472</td></tr>",
                            "<tr><td>2021-12-23</td><td>member</td><td>574</td></tr>",
                            "<tr><td>2021-12-24</td><td>member</td><td>410</td></tr>",
                            "<tr><td>2021-12-25</td><td>member</td><td>264</td></tr>",
                            "<tr><td>2021-12-26</td><td>member</td><td>327</td></tr>",
                            "<tr><td>2021-12-27</td><td>member</td><td>448</td></tr>",
                            "<tr><td>2021-12-28</td><td>member</td><td>279</td></tr>",
                            "<tr><td>2021-12-29</td><td>member</td><td>524</td></tr>",
                            "<tr><td>2021-12-30</td><td>member</td><td>579</td></tr>",
                            "<tr><td>2021-12-31</td><td>member</td><td>586</td></tr>",
                            "<tr><td>2022-01-01</td><td>member</td><td>369</td></tr>",
                            "<tr><td>2022-01-02</td><td>member</td><td>424</td></tr>",
                            "<tr><td>2022-01-03</td><td>member</td><td>702</td></tr>",
                            "<tr><td>2022-01-04</td><td>member</td><td>1019</td></tr>",
                            "<tr><td>2022-01-05</td><td>member</td><td>583</td></tr>",
                            "<tr><td>2022-01-06</td><td>member</td><td>586</td></tr>",
                            "<tr><td>2022-01-07</td><td>member</td><td>542</td></tr>",
                            "<tr><td>2022-01-08</td><td>member</td><td>579</td></tr>",
                            "<tr><td>2022-01-09</td><td>member</td><td>459</td></tr>",
                            "<tr><td>2022-01-10</td><td>member</td><td>552</td></tr>",
                            "<tr><td>2022-01-11</td><td>member</td><td>756</td></tr>",
                            "<tr><td>2022-01-12</td><td>member</td><td>1317</td></tr>",
                            "<tr><td>2022-01-13</td><td>member</td><td>1343</td></tr>",
                            "<tr><td>2022-01-14</td><td>member</td><td>1101</td></tr>",
                            "<tr><td>2022-01-15</td><td>member</td><td>627</td></tr>",
                            "<tr><td>2022-01-16</td><td>member</td><td>702</td></tr>",
                            "<tr><td>2022-01-17</td><td>member</td><td>781</td></tr>",
                            "<tr><td>2022-01-18</td><td>member</td><td>1315</td></tr>",
                            "<tr><td>2022-01-19</td><td>member</td><td>1049</td></tr>",
                            "<tr><td>2022-01-20</td><td>member</td><td>819</td></tr>",
                            "<tr><td>2022-01-21</td><td>member</td><td>959</td></tr>",
                            "<tr><td>2022-01-22</td><td>member</td><td>861</td></tr>",
                            "<tr><td>2022-01-23</td><td>member</td><td>356</td></tr>",
                            "<tr><td>2022-01-24</td><td>member</td><td>501</td></tr>",
                            "<tr><td>2022-01-25</td><td>member</td><td>591</td></tr>",
                            "<tr><td>2022-01-26</td><td>member</td><td>554</td></tr>",
                            "<tr><td>2022-01-27</td><td>member</td><td>945</td></tr>",
                            "<tr><td>2022-01-28</td><td>member</td><td>511</td></tr>",
                            "<tr><td>2022-01-29</td><td>member</td><td>521</td></tr>",
                            "<tr><td>2022-01-30</td><td>member</td><td>573</td></tr>",
                            "<tr><td>2022-01-31</td><td>member</td><td>1072</td></tr>",
                            "<tr><td>2022-02-01</td><td>member</td><td>553</td></tr>",
                            "<tr><td>2022-02-02</td><td>member</td><td>86</td></tr>",
                            "<tr><td>2022-02-03</td><td>member</td><td>289</td></tr>",
                            "<tr><td>2022-02-04</td><td>member</td><td>342</td></tr>",
                            "<tr><td>2022-02-05</td><td>member</td><td>235</td></tr>",
                            "<tr><td>2022-02-06</td><td>member</td><td>300</td></tr>",
                            "<tr><td>2022-02-07</td><td>member</td><td>428</td></tr>",
                            "<tr><td>2022-02-08</td><td>member</td><td>591</td></tr>",
                            "<tr><td>2022-02-09</td><td>member</td><td>605</td></tr>",
                            "<tr><td>2022-02-10</td><td>member</td><td>561</td></tr>",
                            "<tr><td>2022-02-11</td><td>member</td><td>608</td></tr>",
                            "<tr><td>2022-02-12</td><td>member</td><td>323</td></tr>",
                            "<tr><td>2022-02-13</td><td>member</td><td>278</td></tr>",
                            "<tr><td>2022-02-14</td><td>member</td><td>475</td></tr>",
                            "<tr><td>2022-02-15</td><td>member</td><td>654</td></tr>",
                            "<tr><td>2022-02-16</td><td>member</td><td>673</td></tr>",
                            "<tr><td>2022-02-17</td><td>member</td><td>303</td></tr>",
                            "<tr><td>2022-02-18</td><td>member</td><td>325</td></tr>",
                            "<tr><td>2022-02-19</td><td>member</td><td>292</td></tr>",
                            "<tr><td>2022-02-20</td><td>member</td><td>567</td></tr>",
                            "<tr><td>2022-02-21</td><td>member</td><td>735</td></tr>",
                            "<tr><td>2022-02-22</td><td>member</td><td>398</td></tr>",
                            "<tr><td>2022-02-23</td><td>member</td><td>581</td></tr>",
                            "<tr><td>2022-02-24</td><td>member</td><td>443</td></tr>",
                            "<tr><td>2022-02-25</td><td>member</td><td>415</td></tr>",
                            "<tr><td>2022-02-26</td><td>member</td><td>470</td></tr>",
                            "<tr><td>2022-02-27</td><td>member</td><td>592</td></tr>",
                            "<tr><td>2022-02-28</td><td>member</td><td>973</td></tr>",
                            "<tr><td>2022-03-01</td><td>member</td><td>999</td></tr>",
                            "<tr><td>2022-03-02</td><td>member</td><td>1093</td></tr>",
                            "<tr><td>2022-03-03</td><td>member</td><td>742</td></tr>",
                            "<tr><td>2022-03-04</td><td>member</td><td>841</td></tr>",
                            "<tr><td>2022-03-05</td><td>member</td><td>2031</td></tr>",
                            "<tr><td>2022-03-06</td><td>member</td><td>587</td></tr>",
                            "<tr><td>2022-03-07</td><td>member</td><td>498</td></tr>",
                            "<tr><td>2022-03-08</td><td>member</td><td>938</td></tr>",
                            "<tr><td>2022-03-09</td><td>member</td><td>1066</td></tr>",
                            "<tr><td>2022-03-10</td><td>member</td><td>755</td></tr>",
                            "<tr><td>2022-03-11</td><td>member</td><td>546</td></tr>",
                            "<tr><td>2022-03-12</td><td>member</td><td>433</td></tr>",
                            "<tr><td>2022-03-13</td><td>member</td><td>886</td></tr>",
                            "<tr><td>2022-03-14</td><td>member</td><td>1361</td></tr>",
                            "<tr><td>2022-03-15</td><td>member</td><td>1182</td></tr>",
                            "<tr><td>2022-03-16</td><td>member</td><td>2034</td></tr>",
                            "<tr><td>2022-03-17</td><td>member</td><td>1492</td></tr>",
                            "<tr><td>2022-03-18</td><td>member</td><td>451</td></tr>",
                            "<tr><td>2022-03-19</td><td>member</td><td>457</td></tr>",
                            "<tr><td>2022-03-20</td><td>member</td><td>1727</td></tr>",
                            "<tr><td>2022-03-21</td><td>member</td><td>2094</td></tr>",
                            "<tr><td>2022-03-22</td><td>member</td><td>733</td></tr>",
                            "<tr><td>2022-03-23</td><td>member</td><td>749</td></tr>",
                            "<tr><td>2022-03-24</td><td>member</td><td>698</td></tr>",
                            "<tr><td>2022-03-25</td><td>member</td><td>933</td></tr>",
                            "<tr><td>2022-03-26</td><td>member</td><td>477</td></tr>",
                            "<tr><td>2022-03-27</td><td>member</td><td>548</td></tr>",
                            "<tr><td>2022-03-28</td><td>member</td><td>755</td></tr>",
                            "<tr><td>2022-03-29</td><td>member</td><td>886</td></tr>",
                            "<tr><td>2022-03-30</td><td>member</td><td>537</td></tr>",
                            "<tr><td>2022-03-31</td><td>member</td><td>674</td></tr>",
                            "<tr><td>2022-04-01</td><td>member</td><td>440</td></tr>",
                            "<tr><td>2022-04-02</td><td>member</td><td>219</td></tr>",
                            "<tr><td>2022-04-03</td><td>member</td><td>358</td></tr>",
                            "<tr><td>2022-04-04</td><td>member</td><td>482</td></tr>",
                            "<tr><td>2022-04-05</td><td>member</td><td>534</td></tr>",
                            "<tr><td>2022-04-06</td><td>member</td><td>525</td></tr>",
                            "<tr><td>2022-04-07</td><td>member</td><td>389</td></tr>",
                            "<tr><td>2022-04-08</td><td>member</td><td>269</td></tr>",
                            "<tr><td>2022-04-09</td><td>member</td><td>405</td></tr>",
                            "<tr><td>2022-04-10</td><td>member</td><td>700</td></tr>",
                            "<tr><td>2022-04-11</td><td>member</td><td>650</td></tr>",
                            "<tr><td>2022-04-12</td><td>member</td><td>752</td></tr>",
                            "<tr><td>2022-04-13</td><td>member</td><td>379</td></tr>",
                            "<tr><td>2022-04-14</td><td>member</td><td>484</td></tr>",
                            "<tr><td>2022-04-15</td><td>member</td><td>412</td></tr>",
                            "<tr><td>2022-04-16</td><td>member</td><td>480</td></tr>",
                            "<tr><td>2022-04-17</td><td>member</td><td>279</td></tr>",
                            "<tr><td>2022-04-18</td><td>member</td><td>330</td></tr>",
                            "<tr><td>2022-04-19</td><td>member</td><td>524</td></tr>",
                            "<tr><td>2022-04-20</td><td>member</td><td>481</td></tr>",
                            "<tr><td>2022-04-21</td><td>member</td><td>995</td></tr>",
                            "<tr><td>2022-04-22</td><td>member</td><td>320</td></tr>",
                            "<tr><td>2022-04-23</td><td>member</td><td>1459</td></tr>",
                            "<tr><td>2022-04-24</td><td>member</td><td>450</td></tr>",
                            "<tr><td>2022-04-25</td><td>member</td><td>564</td></tr>",
                            "<tr><td>2022-04-26</td><td>member</td><td>550</td></tr>",
                            "<tr><td>2022-04-27</td><td>member</td><td>478</td></tr>",
                            "<tr><td>2022-04-28</td><td>member</td><td>480</td></tr>",
                            "<tr><td>2022-04-29</td><td>member</td><td>630</td></tr>",
                            "<tr><td>2022-04-30</td><td>member</td><td>361</td></tr>",
                            "<tr><td>2022-05-01</td><td>member</td><td>1149</td></tr>",
                            "<tr><td>2022-05-02</td><td>member</td><td>1373</td></tr>",
                            "<tr><td>2022-05-03</td><td>member</td><td>531</td></tr>",
                            "<tr><td>2022-05-04</td><td>member</td><td>1547</td></tr>",
                            "<tr><td>2022-05-05</td><td>member</td><td>835</td></tr>",
                            "<tr><td>2022-05-06</td><td>member</td><td>649</td></tr>",
                            "<tr><td>2022-05-07</td><td>member</td><td>1877</td></tr>",
                            "<tr><td>2022-05-08</td><td>member</td><td>1471</td></tr>",
                            "<tr><td>2022-05-09</td><td>member</td><td>2360</td></tr>",
                            "<tr><td>2022-05-10</td><td>member</td><td>2832</td></tr>",
                            "<tr><td>2022-05-11</td><td>member</td><td>2652</td></tr>",
                            "<tr><td>2022-05-12</td><td>member</td><td>2708</td></tr>",
                            "<tr><td>2022-05-13</td><td>member</td><td>2831</td></tr>",
                            "<tr><td>2022-05-14</td><td>member</td><td>3035</td></tr>",
                            "<tr><td>2022-05-15</td><td>member</td><td>1834</td></tr>",
                            "<tr><td>2022-05-16</td><td>member</td><td>2628</td></tr>",
                            "<tr><td>2022-05-17</td><td>member</td><td>2018</td></tr>",
                            "<tr><td>2022-05-18</td><td>member</td><td>1563</td></tr>",
                            "<tr><td>2022-05-19</td><td>member</td><td>2966</td></tr>",
                            "<tr><td>2022-05-20</td><td>member</td><td>2050</td></tr>",
                            "<tr><td>2022-05-21</td><td>member</td><td>1203</td></tr>",
                            "<tr><td>2022-05-22</td><td>member</td><td>2201</td></tr>",
                            "<tr><td>2022-05-23</td><td>member</td><td>1966</td></tr>",
                            "<tr><td>2022-05-24</td><td>member</td><td>2188</td></tr>",
                            "<tr><td>2022-05-25</td><td>member</td><td>1571</td></tr>",
                            "<tr><td>2022-05-26</td><td>member</td><td>2412</td></tr>",
                            "<tr><td>2022-05-27</td><td>member</td><td>1491</td></tr>",
                            "<tr><td>2022-05-28</td><td>member</td><td>2704</td></tr>",
                            "<tr><td>2022-05-29</td><td>member</td><td>2642</td></tr>",
                            "<tr><td>2022-05-30</td><td>member</td><td>2696</td></tr>",
                            "<tr><td>2022-05-31</td><td>member</td><td>2510</td></tr>",
                            "<tr><td>2022-06-01</td><td>member</td><td>2417</td></tr>",
                            "<tr><td>2022-06-02</td><td>member</td><td>2657</td></tr>",
                            "<tr><td>2022-06-03</td><td>member</td><td>2789</td></tr>",
                            "<tr><td>2022-06-04</td><td>member</td><td>2163</td></tr>",
                            "<tr><td>2022-06-05</td><td>member</td><td>2600</td></tr>",
                            "<tr><td>2022-06-06</td><td>member</td><td>1479</td></tr>",
                            "<tr><td>2022-06-07</td><td>member</td><td>2467</td></tr>",
                            "<tr><td>2022-06-08</td><td>member</td><td>1783</td></tr>",
                            "<tr><td>2022-06-09</td><td>member</td><td>2872</td></tr>",
                            "<tr><td>2022-06-10</td><td>member</td><td>2180</td></tr>",
                            "<tr><td>2022-06-11</td><td>member</td><td>2901</td></tr>",
                            "<tr><td>2022-06-12</td><td>member</td><td>2218</td></tr>",
                            "<tr><td>2022-06-13</td><td>member</td><td>1876</td></tr>",
                            "<tr><td>2022-06-14</td><td>member</td><td>2491</td></tr>",
                            "<tr><td>2022-06-15</td><td>member</td><td>2362</td></tr>",
                            "<tr><td>2022-06-16</td><td>member</td><td>2419</td></tr>",
                            "<tr><td>2022-06-17</td><td>member</td><td>2843</td></tr>",
                            "<tr><td>2022-06-18</td><td>member</td><td>3093</td></tr>",
                            "<tr><td>2022-06-19</td><td>member</td><td>2612</td></tr>",
                            "<tr><td>2022-06-20</td><td>member</td><td>2553</td></tr>",
                            "<tr><td>2022-06-21</td><td>member</td><td>2445</td></tr>",
                            "<tr><td>2022-06-22</td><td>member</td><td>2816</td></tr>",
                            "<tr><td>2022-06-23</td><td>member</td><td>2841</td></tr>",
                            "<tr><td>2022-06-24</td><td>member</td><td>2750</td></tr>",
                            "<tr><td>2022-06-25</td><td>member</td><td>1849</td></tr>",
                            "<tr><td>2022-06-26</td><td>member</td><td>2914</td></tr>",
                            "<tr><td>2022-06-27</td><td>member</td><td>2453</td></tr>",
                            "<tr><td>2022-06-28</td><td>member</td><td>2649</td></tr>",
                            "<tr><td>2022-06-29</td><td>member</td><td>2799</td></tr>",
                            "<tr><td>2022-06-30</td><td>member</td><td>2469</td></tr>",
                            "<tr><td>2022-07-01</td><td>member</td><td>1006</td></tr>",
                            "<tr><td>2022-07-02</td><td>member</td><td>1248</td></tr>",
                            "<tr><td>2022-07-03</td><td>member</td><td>1078</td></tr>",
                            "<tr><td>2022-07-04</td><td>member</td><td>827</td></tr>",
                            "<tr><td>2022-07-05</td><td>member</td><td>867</td></tr>",
                            "<tr><td>2022-07-06</td><td>member</td><td>1058</td></tr>",
                            "<tr><td>2022-07-07</td><td>member</td><td>1173</td></tr>",
                            "<tr><td>2022-07-08</td><td>member</td><td>952</td></tr>",
                            "<tr><td>2022-07-09</td><td>member</td><td>1473</td></tr>",
                            "<tr><td>2022-07-10</td><td>member</td><td>1198</td></tr>",
                            "<tr><td>2022-07-11</td><td>member</td><td>1034</td></tr>",
                            "<tr><td>2022-07-12</td><td>member</td><td>1243</td></tr>",
                            "<tr><td>2022-07-13</td><td>member</td><td>1292</td></tr>",
                            "<tr><td>2022-07-14</td><td>member</td><td>1244</td></tr>",
                            "<tr><td>2022-07-15</td><td>member</td><td>428</td></tr>",
                            "<tr><td>2022-07-16</td><td>member</td><td>1265</td></tr>",
                            "<tr><td>2022-07-17</td><td>member</td><td>918</td></tr>",
                            "<tr><td>2022-07-18</td><td>member</td><td>1093</td></tr>",
                            "<tr><td>2022-07-19</td><td>member</td><td>1160</td></tr>",
                            "<tr><td>2022-07-20</td><td>member</td><td>1147</td></tr>",
                            "<tr><td>2022-07-21</td><td>member</td><td>1117</td></tr>",
                            "<tr><td>2022-07-22</td><td>member</td><td>1109</td></tr>",
                            "<tr><td>2022-07-23</td><td>member</td><td>1096</td></tr>",
                            "<tr><td>2022-07-24</td><td>member</td><td>916</td></tr>",
                            "<tr><td>2022-07-25</td><td>member</td><td>1095</td></tr>",
                            "<tr><td>2022-07-26</td><td>member</td><td>1155</td></tr>",
                            "<tr><td>2022-07-27</td><td>member</td><td>1132</td></tr>",
                            "<tr><td>2022-07-28</td><td>member</td><td>1156</td></tr>",
                            "<tr><td>2022-07-29</td><td>member</td><td>1180</td></tr>",
                            "<tr><td>2022-07-30</td><td>member</td><td>1308</td></tr>",
                            "<tr><td>2022-07-31</td><td>member</td><td>1105</td></tr>",
                            "<tr><td>2022-08-01</td><td>member</td><td>2343</td></tr>",
                            "<tr><td>2022-08-02</td><td>member</td><td>2542</td></tr>",
                            "<tr><td>2022-08-03</td><td>member</td><td>2081</td></tr>",
                            "<tr><td>2022-08-04</td><td>member</td><td>2510</td></tr>",
                            "<tr><td>2022-08-05</td><td>member</td><td>2460</td></tr>",
                            "<tr><td>2022-08-06</td><td>member</td><td>2342</td></tr>",
                            "<tr><td>2022-08-07</td><td>member</td><td>1407</td></tr>",
                            "<tr><td>2022-08-08</td><td>member</td><td>1296</td></tr>",
                            "<tr><td>2022-08-09</td><td>member</td><td>2697</td></tr>",
                            "<tr><td>2022-08-10</td><td>member</td><td>2729</td></tr>",
                            "<tr><td>2022-08-11</td><td>member</td><td>2532</td></tr>",
                            "<tr><td>2022-08-12</td><td>member</td><td>2429</td></tr>",
                            "<tr><td>2022-08-13</td><td>member</td><td>2511</td></tr>",
                            "<tr><td>2022-08-14</td><td>member</td><td>2066</td></tr>",
                            "<tr><td>2022-08-15</td><td>member</td><td>2388</td></tr>",
                            "<tr><td>2022-08-16</td><td>member</td><td>2604</td></tr>",
                            "<tr><td>2022-08-17</td><td>member</td><td>2631</td></tr>",
                            "<tr><td>2022-08-18</td><td>member</td><td>2525</td></tr>",
                            "<tr><td>2022-08-19</td><td>member</td><td>2627</td></tr>",
                            "<tr><td>2022-08-20</td><td>member</td><td>1806</td></tr>",
                            "<tr><td>2022-08-21</td><td>member</td><td>2370</td></tr>",
                            "<tr><td>2022-08-22</td><td>member</td><td>2409</td></tr>",
                            "<tr><td>2022-08-23</td><td>member</td><td>2573</td></tr>",
                            "<tr><td>2022-08-24</td><td>member</td><td>2670</td></tr>",
                            "<tr><td>2022-08-25</td><td>member</td><td>2027</td></tr>",
                            "<tr><td>2022-08-26</td><td>member</td><td>2507</td></tr>",
                            "<tr><td>2022-08-27</td><td>member</td><td>2773</td></tr>",
                            "<tr><td>2022-08-28</td><td>member</td><td>1958</td></tr>",
                            "<tr><td>2022-08-29</td><td>member</td><td>1920</td></tr>",
                            "<tr><td>2022-08-30</td><td>member</td><td>2645</td></tr>",
                            "<tr><td>2022-08-31</td><td>member</td><td>2734</td></tr>",
                            "</table>"
                        ]
                    }
                }
            ],
            "execution_count": 5
        },
        {
            "cell_type": "code",
            "source": [
                "-- Daily number of rides by week day \r\n",
                "\r\n",
                "Select cast(started_at as date) as Rides_Date, member_casual as User_type, count(ride_id) as num_rides\r\n",
                "From Final_Table\r\n",
                "group by cast(started_at as date), member_casual"
            ],
            "metadata": {
                "azdata_cell_guid": "af3d4a7e-cca4-4dc7-8482-6c5ebfc4d62b",
                "language": "sql"
            },
            "outputs": [
                {
                    "output_type": "display_data",
                    "data": {
                        "text/html": "(730 rows affected)"
                    },
                    "metadata": {}
                },
                {
                    "output_type": "display_data",
                    "data": {
                        "text/html": "Total execution time: 00:00:07.015"
                    },
                    "metadata": {}
                },
                {
                    "output_type": "execute_result",
                    "metadata": {},
                    "execution_count": 6,
                    "data": {
                        "application/vnd.dataresource+json": {
                            "schema": {
                                "fields": [
                                    {
                                        "name": "Rides_Date"
                                    },
                                    {
                                        "name": "User_type"
                                    },
                                    {
                                        "name": "num_rides"
                                    }
                                ]
                            },
                            "data": [
                                {
                                    "0": "2021-09-01",
                                    "1": "casual",
                                    "2": "8146"
                                },
                                {
                                    "0": "2021-09-02",
                                    "1": "casual",
                                    "2": "8651"
                                },
                                {
                                    "0": "2021-09-03",
                                    "1": "casual",
                                    "2": "9375"
                                },
                                {
                                    "0": "2021-09-04",
                                    "1": "casual",
                                    "2": "14341"
                                },
                                {
                                    "0": "2021-09-05",
                                    "1": "casual",
                                    "2": "18518"
                                },
                                {
                                    "0": "2021-09-06",
                                    "1": "casual",
                                    "2": "15215"
                                },
                                {
                                    "0": "2021-09-07",
                                    "1": "casual",
                                    "2": "5969"
                                },
                                {
                                    "0": "2021-09-08",
                                    "1": "casual",
                                    "2": "7632"
                                },
                                {
                                    "0": "2021-09-09",
                                    "1": "casual",
                                    "2": "8187"
                                },
                                {
                                    "0": "2021-09-10",
                                    "1": "casual",
                                    "2": "10125"
                                },
                                {
                                    "0": "2021-09-11",
                                    "1": "casual",
                                    "2": "16539"
                                },
                                {
                                    "0": "2021-09-12",
                                    "1": "casual",
                                    "2": "12550"
                                },
                                {
                                    "0": "2021-09-13",
                                    "1": "casual",
                                    "2": "6816"
                                },
                                {
                                    "0": "2021-09-14",
                                    "1": "casual",
                                    "2": "7022"
                                },
                                {
                                    "0": "2021-09-15",
                                    "1": "casual",
                                    "2": "8113"
                                },
                                {
                                    "0": "2021-09-16",
                                    "1": "casual",
                                    "2": "9658"
                                },
                                {
                                    "0": "2021-09-17",
                                    "1": "casual",
                                    "2": "10576"
                                },
                                {
                                    "0": "2021-09-18",
                                    "1": "casual",
                                    "2": "16230"
                                },
                                {
                                    "0": "2021-09-19",
                                    "1": "casual",
                                    "2": "13595"
                                },
                                {
                                    "0": "2021-09-20",
                                    "1": "casual",
                                    "2": "5980"
                                },
                                {
                                    "0": "2021-09-21",
                                    "1": "casual",
                                    "2": "4796"
                                },
                                {
                                    "0": "2021-09-22",
                                    "1": "casual",
                                    "2": "4255"
                                },
                                {
                                    "0": "2021-09-23",
                                    "1": "casual",
                                    "2": "5700"
                                },
                                {
                                    "0": "2021-09-24",
                                    "1": "casual",
                                    "2": "8796"
                                },
                                {
                                    "0": "2021-09-25",
                                    "1": "casual",
                                    "2": "14319"
                                },
                                {
                                    "0": "2021-09-26",
                                    "1": "casual",
                                    "2": "11965"
                                },
                                {
                                    "0": "2021-09-27",
                                    "1": "casual",
                                    "2": "6270"
                                },
                                {
                                    "0": "2021-09-28",
                                    "1": "casual",
                                    "2": "6229"
                                },
                                {
                                    "0": "2021-09-29",
                                    "1": "casual",
                                    "2": "6600"
                                },
                                {
                                    "0": "2021-09-30",
                                    "1": "casual",
                                    "2": "6855"
                                },
                                {
                                    "0": "2021-10-01",
                                    "1": "casual",
                                    "2": "9263"
                                },
                                {
                                    "0": "2021-10-02",
                                    "1": "casual",
                                    "2": "10113"
                                },
                                {
                                    "0": "2021-10-03",
                                    "1": "casual",
                                    "2": "7754"
                                },
                                {
                                    "0": "2021-10-04",
                                    "1": "casual",
                                    "2": "4292"
                                },
                                {
                                    "0": "2021-10-05",
                                    "1": "casual",
                                    "2": "4809"
                                },
                                {
                                    "0": "2021-10-06",
                                    "1": "casual",
                                    "2": "5158"
                                },
                                {
                                    "0": "2021-10-07",
                                    "1": "casual",
                                    "2": "4233"
                                },
                                {
                                    "0": "2021-10-08",
                                    "1": "casual",
                                    "2": "6466"
                                },
                                {
                                    "0": "2021-10-09",
                                    "1": "casual",
                                    "2": "15280"
                                },
                                {
                                    "0": "2021-10-10",
                                    "1": "casual",
                                    "2": "14700"
                                },
                                {
                                    "0": "2021-10-11",
                                    "1": "casual",
                                    "2": "4070"
                                },
                                {
                                    "0": "2021-10-12",
                                    "1": "casual",
                                    "2": "4980"
                                },
                                {
                                    "0": "2021-10-13",
                                    "1": "casual",
                                    "2": "4179"
                                },
                                {
                                    "0": "2021-10-14",
                                    "1": "casual",
                                    "2": "5360"
                                },
                                {
                                    "0": "2021-10-15",
                                    "1": "casual",
                                    "2": "6000"
                                },
                                {
                                    "0": "2021-10-16",
                                    "1": "casual",
                                    "2": "10796"
                                },
                                {
                                    "0": "2021-10-17",
                                    "1": "casual",
                                    "2": "10238"
                                },
                                {
                                    "0": "2021-10-18",
                                    "1": "casual",
                                    "2": "5480"
                                },
                                {
                                    "0": "2021-10-19",
                                    "1": "casual",
                                    "2": "5641"
                                },
                                {
                                    "0": "2021-10-20",
                                    "1": "casual",
                                    "2": "5478"
                                },
                                {
                                    "0": "2021-10-21",
                                    "1": "casual",
                                    "2": "3523"
                                },
                                {
                                    "0": "2021-10-22",
                                    "1": "casual",
                                    "2": "5272"
                                },
                                {
                                    "0": "2021-10-23",
                                    "1": "casual",
                                    "2": "8401"
                                },
                                {
                                    "0": "2021-10-24",
                                    "1": "casual",
                                    "2": "1293"
                                },
                                {
                                    "0": "2021-10-25",
                                    "1": "casual",
                                    "2": "1523"
                                },
                                {
                                    "0": "2021-10-26",
                                    "1": "casual",
                                    "2": "3360"
                                },
                                {
                                    "0": "2021-10-27",
                                    "1": "casual",
                                    "2": "3540"
                                },
                                {
                                    "0": "2021-10-28",
                                    "1": "casual",
                                    "2": "1751"
                                },
                                {
                                    "0": "2021-10-29",
                                    "1": "casual",
                                    "2": "1182"
                                },
                                {
                                    "0": "2021-10-30",
                                    "1": "casual",
                                    "2": "6689"
                                },
                                {
                                    "0": "2021-10-31",
                                    "1": "casual",
                                    "2": "5754"
                                },
                                {
                                    "0": "2021-11-01",
                                    "1": "casual",
                                    "2": "1175"
                                },
                                {
                                    "0": "2021-11-02",
                                    "1": "casual",
                                    "2": "1014"
                                },
                                {
                                    "0": "2021-11-03",
                                    "1": "casual",
                                    "2": "1018"
                                },
                                {
                                    "0": "2021-11-04",
                                    "1": "casual",
                                    "2": "1087"
                                },
                                {
                                    "0": "2021-11-05",
                                    "1": "casual",
                                    "2": "1551"
                                },
                                {
                                    "0": "2021-11-06",
                                    "1": "casual",
                                    "2": "2965"
                                },
                                {
                                    "0": "2021-11-07",
                                    "1": "casual",
                                    "2": "2940"
                                },
                                {
                                    "0": "2021-11-08",
                                    "1": "casual",
                                    "2": "1483"
                                },
                                {
                                    "0": "2021-11-09",
                                    "1": "casual",
                                    "2": "1230"
                                },
                                {
                                    "0": "2021-11-10",
                                    "1": "casual",
                                    "2": "1325"
                                },
                                {
                                    "0": "2021-11-11",
                                    "1": "casual",
                                    "2": "868"
                                },
                                {
                                    "0": "2021-11-12",
                                    "1": "casual",
                                    "2": "732"
                                },
                                {
                                    "0": "2021-11-13",
                                    "1": "casual",
                                    "2": "1288"
                                },
                                {
                                    "0": "2021-11-14",
                                    "1": "casual",
                                    "2": "614"
                                },
                                {
                                    "0": "2021-11-15",
                                    "1": "casual",
                                    "2": "508"
                                },
                                {
                                    "0": "2021-11-16",
                                    "1": "casual",
                                    "2": "815"
                                },
                                {
                                    "0": "2021-11-17",
                                    "1": "casual",
                                    "2": "666"
                                },
                                {
                                    "0": "2021-11-18",
                                    "1": "casual",
                                    "2": "577"
                                },
                                {
                                    "0": "2021-11-19",
                                    "1": "casual",
                                    "2": "859"
                                },
                                {
                                    "0": "2021-11-20",
                                    "1": "casual",
                                    "2": "1797"
                                },
                                {
                                    "0": "2021-11-21",
                                    "1": "casual",
                                    "2": "1583"
                                },
                                {
                                    "0": "2021-11-22",
                                    "1": "casual",
                                    "2": "597"
                                },
                                {
                                    "0": "2021-11-23",
                                    "1": "casual",
                                    "2": "696"
                                },
                                {
                                    "0": "2021-11-24",
                                    "1": "casual",
                                    "2": "864"
                                },
                                {
                                    "0": "2021-11-25",
                                    "1": "casual",
                                    "2": "520"
                                },
                                {
                                    "0": "2021-11-26",
                                    "1": "casual",
                                    "2": "539"
                                },
                                {
                                    "0": "2021-11-27",
                                    "1": "casual",
                                    "2": "823"
                                },
                                {
                                    "0": "2021-11-28",
                                    "1": "casual",
                                    "2": "660"
                                },
                                {
                                    "0": "2021-11-29",
                                    "1": "casual",
                                    "2": "429"
                                },
                                {
                                    "0": "2021-11-30",
                                    "1": "casual",
                                    "2": "717"
                                },
                                {
                                    "0": "2021-12-01",
                                    "1": "casual",
                                    "2": "1690"
                                },
                                {
                                    "0": "2021-12-02",
                                    "1": "casual",
                                    "2": "2494"
                                },
                                {
                                    "0": "2021-12-03",
                                    "1": "casual",
                                    "2": "2631"
                                },
                                {
                                    "0": "2021-12-04",
                                    "1": "casual",
                                    "2": "3037"
                                },
                                {
                                    "0": "2021-12-05",
                                    "1": "casual",
                                    "2": "960"
                                },
                                {
                                    "0": "2021-12-06",
                                    "1": "casual",
                                    "2": "835"
                                },
                                {
                                    "0": "2021-12-07",
                                    "1": "casual",
                                    "2": "720"
                                },
                                {
                                    "0": "2021-12-08",
                                    "1": "casual",
                                    "2": "1118"
                                },
                                {
                                    "0": "2021-12-09",
                                    "1": "casual",
                                    "2": "1636"
                                },
                                {
                                    "0": "2021-12-10",
                                    "1": "casual",
                                    "2": "1301"
                                },
                                {
                                    "0": "2021-12-11",
                                    "1": "casual",
                                    "2": "1978"
                                },
                                {
                                    "0": "2021-12-12",
                                    "1": "casual",
                                    "2": "2133"
                                },
                                {
                                    "0": "2021-12-13",
                                    "1": "casual",
                                    "2": "1533"
                                },
                                {
                                    "0": "2021-12-14",
                                    "1": "casual",
                                    "2": "1736"
                                },
                                {
                                    "0": "2021-12-15",
                                    "1": "casual",
                                    "2": "2149"
                                },
                                {
                                    "0": "2021-12-16",
                                    "1": "casual",
                                    "2": "1508"
                                },
                                {
                                    "0": "2021-12-17",
                                    "1": "casual",
                                    "2": "1598"
                                },
                                {
                                    "0": "2021-12-18",
                                    "1": "casual",
                                    "2": "1284"
                                },
                                {
                                    "0": "2021-12-19",
                                    "1": "casual",
                                    "2": "1317"
                                },
                                {
                                    "0": "2021-12-20",
                                    "1": "casual",
                                    "2": "1457"
                                },
                                {
                                    "0": "2021-12-21",
                                    "1": "casual",
                                    "2": "1023"
                                },
                                {
                                    "0": "2021-12-22",
                                    "1": "casual",
                                    "2": "728"
                                },
                                {
                                    "0": "2021-12-23",
                                    "1": "casual",
                                    "2": "1114"
                                },
                                {
                                    "0": "2021-12-24",
                                    "1": "casual",
                                    "2": "1139"
                                },
                                {
                                    "0": "2021-12-25",
                                    "1": "casual",
                                    "2": "1156"
                                },
                                {
                                    "0": "2021-12-26",
                                    "1": "casual",
                                    "2": "1063"
                                },
                                {
                                    "0": "2021-12-27",
                                    "1": "casual",
                                    "2": "1031"
                                },
                                {
                                    "0": "2021-12-28",
                                    "1": "casual",
                                    "2": "373"
                                },
                                {
                                    "0": "2021-12-29",
                                    "1": "casual",
                                    "2": "890"
                                },
                                {
                                    "0": "2021-12-30",
                                    "1": "casual",
                                    "2": "1285"
                                },
                                {
                                    "0": "2021-12-31",
                                    "1": "casual",
                                    "2": "1590"
                                },
                                {
                                    "0": "2022-01-01",
                                    "1": "casual",
                                    "2": "1412"
                                },
                                {
                                    "0": "2022-01-02",
                                    "1": "casual",
                                    "2": "642"
                                },
                                {
                                    "0": "2022-01-03",
                                    "1": "casual",
                                    "2": "630"
                                },
                                {
                                    "0": "2022-01-04",
                                    "1": "casual",
                                    "2": "838"
                                },
                                {
                                    "0": "2022-01-05",
                                    "1": "casual",
                                    "2": "464"
                                },
                                {
                                    "0": "2022-01-06",
                                    "1": "casual",
                                    "2": "484"
                                },
                                {
                                    "0": "2022-01-07",
                                    "1": "casual",
                                    "2": "594"
                                },
                                {
                                    "0": "2022-01-08",
                                    "1": "casual",
                                    "2": "722"
                                },
                                {
                                    "0": "2022-01-09",
                                    "1": "casual",
                                    "2": "564"
                                },
                                {
                                    "0": "2022-01-10",
                                    "1": "casual",
                                    "2": "508"
                                },
                                {
                                    "0": "2022-01-11",
                                    "1": "casual",
                                    "2": "608"
                                },
                                {
                                    "0": "2022-01-12",
                                    "1": "casual",
                                    "2": "1360"
                                },
                                {
                                    "0": "2022-01-13",
                                    "1": "casual",
                                    "2": "1444"
                                },
                                {
                                    "0": "2022-01-14",
                                    "1": "casual",
                                    "2": "1254"
                                },
                                {
                                    "0": "2022-01-15",
                                    "1": "casual",
                                    "2": "1070"
                                },
                                {
                                    "0": "2022-01-16",
                                    "1": "casual",
                                    "2": "1128"
                                },
                                {
                                    "0": "2022-01-17",
                                    "1": "casual",
                                    "2": "942"
                                },
                                {
                                    "0": "2022-01-18",
                                    "1": "casual",
                                    "2": "1288"
                                },
                                {
                                    "0": "2022-01-19",
                                    "1": "casual",
                                    "2": "906"
                                },
                                {
                                    "0": "2022-01-20",
                                    "1": "casual",
                                    "2": "706"
                                },
                                {
                                    "0": "2022-01-21",
                                    "1": "casual",
                                    "2": "1076"
                                },
                                {
                                    "0": "2022-01-22",
                                    "1": "casual",
                                    "2": "1398"
                                },
                                {
                                    "0": "2022-01-23",
                                    "1": "casual",
                                    "2": "302"
                                },
                                {
                                    "0": "2022-01-24",
                                    "1": "casual",
                                    "2": "334"
                                },
                                {
                                    "0": "2022-01-25",
                                    "1": "casual",
                                    "2": "412"
                                },
                                {
                                    "0": "2022-01-26",
                                    "1": "casual",
                                    "2": "372"
                                },
                                {
                                    "0": "2022-01-27",
                                    "1": "casual",
                                    "2": "798"
                                },
                                {
                                    "0": "2022-01-28",
                                    "1": "casual",
                                    "2": "422"
                                },
                                {
                                    "0": "2022-01-29",
                                    "1": "casual",
                                    "2": "690"
                                },
                                {
                                    "0": "2022-01-30",
                                    "1": "casual",
                                    "2": "706"
                                },
                                {
                                    "0": "2022-01-31",
                                    "1": "casual",
                                    "2": "770"
                                },
                                {
                                    "0": "2022-02-01",
                                    "1": "casual",
                                    "2": "453"
                                },
                                {
                                    "0": "2022-02-02",
                                    "1": "casual",
                                    "2": "78"
                                },
                                {
                                    "0": "2022-02-03",
                                    "1": "casual",
                                    "2": "148"
                                },
                                {
                                    "0": "2022-02-04",
                                    "1": "casual",
                                    "2": "294"
                                },
                                {
                                    "0": "2022-02-05",
                                    "1": "casual",
                                    "2": "265"
                                },
                                {
                                    "0": "2022-02-06",
                                    "1": "casual",
                                    "2": "327"
                                },
                                {
                                    "0": "2022-02-07",
                                    "1": "casual",
                                    "2": "316"
                                },
                                {
                                    "0": "2022-02-08",
                                    "1": "casual",
                                    "2": "404"
                                },
                                {
                                    "0": "2022-02-09",
                                    "1": "casual",
                                    "2": "543"
                                },
                                {
                                    "0": "2022-02-10",
                                    "1": "casual",
                                    "2": "483"
                                },
                                {
                                    "0": "2022-02-11",
                                    "1": "casual",
                                    "2": "774"
                                },
                                {
                                    "0": "2022-02-12",
                                    "1": "casual",
                                    "2": "496"
                                },
                                {
                                    "0": "2022-02-13",
                                    "1": "casual",
                                    "2": "455"
                                },
                                {
                                    "0": "2022-02-14",
                                    "1": "casual",
                                    "2": "454"
                                },
                                {
                                    "0": "2022-02-15",
                                    "1": "casual",
                                    "2": "642"
                                },
                                {
                                    "0": "2022-02-16",
                                    "1": "casual",
                                    "2": "679"
                                },
                                {
                                    "0": "2022-02-17",
                                    "1": "casual",
                                    "2": "238"
                                },
                                {
                                    "0": "2022-02-18",
                                    "1": "casual",
                                    "2": "326"
                                },
                                {
                                    "0": "2022-02-19",
                                    "1": "casual",
                                    "2": "429"
                                },
                                {
                                    "0": "2022-02-20",
                                    "1": "casual",
                                    "2": "1106"
                                },
                                {
                                    "0": "2022-02-21",
                                    "1": "casual",
                                    "2": "1143"
                                },
                                {
                                    "0": "2022-02-22",
                                    "1": "casual",
                                    "2": "359"
                                },
                                {
                                    "0": "2022-02-23",
                                    "1": "casual",
                                    "2": "479"
                                },
                                {
                                    "0": "2022-02-24",
                                    "1": "casual",
                                    "2": "387"
                                },
                                {
                                    "0": "2022-02-25",
                                    "1": "casual",
                                    "2": "414"
                                },
                                {
                                    "0": "2022-02-26",
                                    "1": "casual",
                                    "2": "770"
                                },
                                {
                                    "0": "2022-02-27",
                                    "1": "casual",
                                    "2": "1244"
                                },
                                {
                                    "0": "2022-02-28",
                                    "1": "casual",
                                    "2": "1208"
                                },
                                {
                                    "0": "2022-03-01",
                                    "1": "casual",
                                    "2": "1349"
                                },
                                {
                                    "0": "2022-03-02",
                                    "1": "casual",
                                    "2": "1715"
                                },
                                {
                                    "0": "2022-03-03",
                                    "1": "casual",
                                    "2": "979"
                                },
                                {
                                    "0": "2022-03-04",
                                    "1": "casual",
                                    "2": "1384"
                                },
                                {
                                    "0": "2022-03-05",
                                    "1": "casual",
                                    "2": "8228"
                                },
                                {
                                    "0": "2022-03-06",
                                    "1": "casual",
                                    "2": "1769"
                                },
                                {
                                    "0": "2022-03-07",
                                    "1": "casual",
                                    "2": "529"
                                },
                                {
                                    "0": "2022-03-08",
                                    "1": "casual",
                                    "2": "1181"
                                },
                                {
                                    "0": "2022-03-09",
                                    "1": "casual",
                                    "2": "1460"
                                },
                                {
                                    "0": "2022-03-10",
                                    "1": "casual",
                                    "2": "856"
                                },
                                {
                                    "0": "2022-03-11",
                                    "1": "casual",
                                    "2": "806"
                                },
                                {
                                    "0": "2022-03-12",
                                    "1": "casual",
                                    "2": "1042"
                                },
                                {
                                    "0": "2022-03-13",
                                    "1": "casual",
                                    "2": "2939"
                                },
                                {
                                    "0": "2022-03-14",
                                    "1": "casual",
                                    "2": "2951"
                                },
                                {
                                    "0": "2022-03-15",
                                    "1": "casual",
                                    "2": "2070"
                                },
                                {
                                    "0": "2022-03-16",
                                    "1": "casual",
                                    "2": "5743"
                                },
                                {
                                    "0": "2022-03-17",
                                    "1": "casual",
                                    "2": "4534"
                                },
                                {
                                    "0": "2022-03-18",
                                    "1": "casual",
                                    "2": "885"
                                },
                                {
                                    "0": "2022-03-19",
                                    "1": "casual",
                                    "2": "1181"
                                },
                                {
                                    "0": "2022-03-20",
                                    "1": "casual",
                                    "2": "6741"
                                },
                                {
                                    "0": "2022-03-21",
                                    "1": "casual",
                                    "2": "6241"
                                },
                                {
                                    "0": "2022-03-22",
                                    "1": "casual",
                                    "2": "1313"
                                },
                                {
                                    "0": "2022-03-23",
                                    "1": "casual",
                                    "2": "1124"
                                },
                                {
                                    "0": "2022-03-24",
                                    "1": "casual",
                                    "2": "1122"
                                },
                                {
                                    "0": "2022-03-25",
                                    "1": "casual",
                                    "2": "1806"
                                },
                                {
                                    "0": "2022-03-26",
                                    "1": "casual",
                                    "2": "1218"
                                },
                                {
                                    "0": "2022-03-27",
                                    "1": "casual",
                                    "2": "1323"
                                },
                                {
                                    "0": "2022-03-28",
                                    "1": "casual",
                                    "2": "963"
                                },
                                {
                                    "0": "2022-03-29",
                                    "1": "casual",
                                    "2": "1120"
                                },
                                {
                                    "0": "2022-03-30",
                                    "1": "casual",
                                    "2": "650"
                                },
                                {
                                    "0": "2022-03-31",
                                    "1": "casual",
                                    "2": "931"
                                },
                                {
                                    "0": "2022-04-01",
                                    "1": "casual",
                                    "2": "1123"
                                },
                                {
                                    "0": "2022-04-02",
                                    "1": "casual",
                                    "2": "645"
                                },
                                {
                                    "0": "2022-04-03",
                                    "1": "casual",
                                    "2": "1160"
                                },
                                {
                                    "0": "2022-04-04",
                                    "1": "casual",
                                    "2": "886"
                                },
                                {
                                    "0": "2022-04-05",
                                    "1": "casual",
                                    "2": "930"
                                },
                                {
                                    "0": "2022-04-06",
                                    "1": "casual",
                                    "2": "970"
                                },
                                {
                                    "0": "2022-04-07",
                                    "1": "casual",
                                    "2": "692"
                                },
                                {
                                    "0": "2022-04-08",
                                    "1": "casual",
                                    "2": "473"
                                },
                                {
                                    "0": "2022-04-09",
                                    "1": "casual",
                                    "2": "1471"
                                },
                                {
                                    "0": "2022-04-10",
                                    "1": "casual",
                                    "2": "2694"
                                },
                                {
                                    "0": "2022-04-11",
                                    "1": "casual",
                                    "2": "1553"
                                },
                                {
                                    "0": "2022-04-12",
                                    "1": "casual",
                                    "2": "2040"
                                },
                                {
                                    "0": "2022-04-13",
                                    "1": "casual",
                                    "2": "712"
                                },
                                {
                                    "0": "2022-04-14",
                                    "1": "casual",
                                    "2": "1076"
                                },
                                {
                                    "0": "2022-04-15",
                                    "1": "casual",
                                    "2": "1377"
                                },
                                {
                                    "0": "2022-04-16",
                                    "1": "casual",
                                    "2": "2221"
                                },
                                {
                                    "0": "2022-04-17",
                                    "1": "casual",
                                    "2": "1008"
                                },
                                {
                                    "0": "2022-04-18",
                                    "1": "casual",
                                    "2": "494"
                                },
                                {
                                    "0": "2022-04-19",
                                    "1": "casual",
                                    "2": "898"
                                },
                                {
                                    "0": "2022-04-20",
                                    "1": "casual",
                                    "2": "672"
                                },
                                {
                                    "0": "2022-04-21",
                                    "1": "casual",
                                    "2": "2829"
                                },
                                {
                                    "0": "2022-04-22",
                                    "1": "casual",
                                    "2": "706"
                                },
                                {
                                    "0": "2022-04-23",
                                    "1": "casual",
                                    "2": "7972"
                                },
                                {
                                    "0": "2022-04-24",
                                    "1": "casual",
                                    "2": "2256"
                                },
                                {
                                    "0": "2022-04-25",
                                    "1": "casual",
                                    "2": "1188"
                                },
                                {
                                    "0": "2022-04-26",
                                    "1": "casual",
                                    "2": "1000"
                                },
                                {
                                    "0": "2022-04-27",
                                    "1": "casual",
                                    "2": "779"
                                },
                                {
                                    "0": "2022-04-28",
                                    "1": "casual",
                                    "2": "943"
                                },
                                {
                                    "0": "2022-04-29",
                                    "1": "casual",
                                    "2": "1961"
                                },
                                {
                                    "0": "2022-04-30",
                                    "1": "casual",
                                    "2": "1450"
                                },
                                {
                                    "0": "2022-05-01",
                                    "1": "casual",
                                    "2": "3758"
                                },
                                {
                                    "0": "2022-05-02",
                                    "1": "casual",
                                    "2": "2463"
                                },
                                {
                                    "0": "2022-05-03",
                                    "1": "casual",
                                    "2": "808"
                                },
                                {
                                    "0": "2022-05-04",
                                    "1": "casual",
                                    "2": "2974"
                                },
                                {
                                    "0": "2022-05-05",
                                    "1": "casual",
                                    "2": "1399"
                                },
                                {
                                    "0": "2022-05-06",
                                    "1": "casual",
                                    "2": "1431"
                                },
                                {
                                    "0": "2022-05-07",
                                    "1": "casual",
                                    "2": "8082"
                                },
                                {
                                    "0": "2022-05-08",
                                    "1": "casual",
                                    "2": "5749"
                                },
                                {
                                    "0": "2022-05-09",
                                    "1": "casual",
                                    "2": "6521"
                                },
                                {
                                    "0": "2022-05-10",
                                    "1": "casual",
                                    "2": "8109"
                                },
                                {
                                    "0": "2022-05-11",
                                    "1": "casual",
                                    "2": "7222"
                                },
                                {
                                    "0": "2022-05-12",
                                    "1": "casual",
                                    "2": "8239"
                                },
                                {
                                    "0": "2022-05-13",
                                    "1": "casual",
                                    "2": "10604"
                                },
                                {
                                    "0": "2022-05-14",
                                    "1": "casual",
                                    "2": "14078"
                                },
                                {
                                    "0": "2022-05-15",
                                    "1": "casual",
                                    "2": "8058"
                                },
                                {
                                    "0": "2022-05-16",
                                    "1": "casual",
                                    "2": "7733"
                                },
                                {
                                    "0": "2022-05-17",
                                    "1": "casual",
                                    "2": "4715"
                                },
                                {
                                    "0": "2022-05-18",
                                    "1": "casual",
                                    "2": "3596"
                                },
                                {
                                    "0": "2022-05-19",
                                    "1": "casual",
                                    "2": "8684"
                                },
                                {
                                    "0": "2022-05-20",
                                    "1": "casual",
                                    "2": "7133"
                                },
                                {
                                    "0": "2022-05-21",
                                    "1": "casual",
                                    "2": "4538"
                                },
                                {
                                    "0": "2022-05-22",
                                    "1": "casual",
                                    "2": "9175"
                                },
                                {
                                    "0": "2022-05-23",
                                    "1": "casual",
                                    "2": "5156"
                                },
                                {
                                    "0": "2022-05-24",
                                    "1": "casual",
                                    "2": "5491"
                                },
                                {
                                    "0": "2022-05-25",
                                    "1": "casual",
                                    "2": "3632"
                                },
                                {
                                    "0": "2022-05-26",
                                    "1": "casual",
                                    "2": "6676"
                                },
                                {
                                    "0": "2022-05-27",
                                    "1": "casual",
                                    "2": "4974"
                                },
                                {
                                    "0": "2022-05-28",
                                    "1": "casual",
                                    "2": "15458"
                                },
                                {
                                    "0": "2022-05-29",
                                    "1": "casual",
                                    "2": "17272"
                                },
                                {
                                    "0": "2022-05-30",
                                    "1": "casual",
                                    "2": "14890"
                                },
                                {
                                    "0": "2022-05-31",
                                    "1": "casual",
                                    "2": "7235"
                                },
                                {
                                    "0": "2022-06-01",
                                    "1": "casual",
                                    "2": "6629"
                                },
                                {
                                    "0": "2022-06-02",
                                    "1": "casual",
                                    "2": "7870"
                                },
                                {
                                    "0": "2022-06-03",
                                    "1": "casual",
                                    "2": "11053"
                                },
                                {
                                    "0": "2022-06-04",
                                    "1": "casual",
                                    "2": "10917"
                                },
                                {
                                    "0": "2022-06-05",
                                    "1": "casual",
                                    "2": "12538"
                                },
                                {
                                    "0": "2022-06-06",
                                    "1": "casual",
                                    "2": "3821"
                                },
                                {
                                    "0": "2022-06-07",
                                    "1": "casual",
                                    "2": "6045"
                                },
                                {
                                    "0": "2022-06-08",
                                    "1": "casual",
                                    "2": "4082"
                                },
                                {
                                    "0": "2022-06-09",
                                    "1": "casual",
                                    "2": "8724"
                                },
                                {
                                    "0": "2022-06-10",
                                    "1": "casual",
                                    "2": "7994"
                                },
                                {
                                    "0": "2022-06-11",
                                    "1": "casual",
                                    "2": "14672"
                                },
                                {
                                    "0": "2022-06-12",
                                    "1": "casual",
                                    "2": "10469"
                                },
                                {
                                    "0": "2022-06-13",
                                    "1": "casual",
                                    "2": "5757"
                                },
                                {
                                    "0": "2022-06-14",
                                    "1": "casual",
                                    "2": "8022"
                                },
                                {
                                    "0": "2022-06-15",
                                    "1": "casual",
                                    "2": "8496"
                                },
                                {
                                    "0": "2022-06-16",
                                    "1": "casual",
                                    "2": "8937"
                                },
                                {
                                    "0": "2022-06-17",
                                    "1": "casual",
                                    "2": "12352"
                                },
                                {
                                    "0": "2022-06-18",
                                    "1": "casual",
                                    "2": "16392"
                                },
                                {
                                    "0": "2022-06-19",
                                    "1": "casual",
                                    "2": "14039"
                                },
                                {
                                    "0": "2022-06-20",
                                    "1": "casual",
                                    "2": "11021"
                                },
                                {
                                    "0": "2022-06-21",
                                    "1": "casual",
                                    "2": "7539"
                                },
                                {
                                    "0": "2022-06-22",
                                    "1": "casual",
                                    "2": "8641"
                                },
                                {
                                    "0": "2022-06-23",
                                    "1": "casual",
                                    "2": "9114"
                                },
                                {
                                    "0": "2022-06-24",
                                    "1": "casual",
                                    "2": "11647"
                                },
                                {
                                    "0": "2022-06-25",
                                    "1": "casual",
                                    "2": "9233"
                                },
                                {
                                    "0": "2022-06-26",
                                    "1": "casual",
                                    "2": "15078"
                                },
                                {
                                    "0": "2022-06-27",
                                    "1": "casual",
                                    "2": "8206"
                                },
                                {
                                    "0": "2022-06-28",
                                    "1": "casual",
                                    "2": "8169"
                                },
                                {
                                    "0": "2022-06-29",
                                    "1": "casual",
                                    "2": "9198"
                                },
                                {
                                    "0": "2022-06-30",
                                    "1": "casual",
                                    "2": "9397"
                                },
                                {
                                    "0": "2022-07-01",
                                    "1": "casual",
                                    "2": "4056"
                                },
                                {
                                    "0": "2022-07-02",
                                    "1": "casual",
                                    "2": "7075"
                                },
                                {
                                    "0": "2022-07-03",
                                    "1": "casual",
                                    "2": "6964"
                                },
                                {
                                    "0": "2022-07-04",
                                    "1": "casual",
                                    "2": "5135"
                                },
                                {
                                    "0": "2022-07-05",
                                    "1": "casual",
                                    "2": "3052"
                                },
                                {
                                    "0": "2022-07-06",
                                    "1": "casual",
                                    "2": "3477"
                                },
                                {
                                    "0": "2022-07-07",
                                    "1": "casual",
                                    "2": "3758"
                                },
                                {
                                    "0": "2022-07-08",
                                    "1": "casual",
                                    "2": "3845"
                                },
                                {
                                    "0": "2022-07-09",
                                    "1": "casual",
                                    "2": "8056"
                                },
                                {
                                    "0": "2022-07-10",
                                    "1": "casual",
                                    "2": "6250"
                                },
                                {
                                    "0": "2022-07-11",
                                    "1": "casual",
                                    "2": "3473"
                                },
                                {
                                    "0": "2022-07-12",
                                    "1": "casual",
                                    "2": "3787"
                                },
                                {
                                    "0": "2022-07-13",
                                    "1": "casual",
                                    "2": "4041"
                                },
                                {
                                    "0": "2022-07-14",
                                    "1": "casual",
                                    "2": "4353"
                                },
                                {
                                    "0": "2022-07-15",
                                    "1": "casual",
                                    "2": "1697"
                                },
                                {
                                    "0": "2022-07-16",
                                    "1": "casual",
                                    "2": "6942"
                                },
                                {
                                    "0": "2022-07-17",
                                    "1": "casual",
                                    "2": "4583"
                                },
                                {
                                    "0": "2022-07-18",
                                    "1": "casual",
                                    "2": "3811"
                                },
                                {
                                    "0": "2022-07-19",
                                    "1": "casual",
                                    "2": "3675"
                                },
                                {
                                    "0": "2022-07-20",
                                    "1": "casual",
                                    "2": "4041"
                                },
                                {
                                    "0": "2022-07-21",
                                    "1": "casual",
                                    "2": "3952"
                                },
                                {
                                    "0": "2022-07-22",
                                    "1": "casual",
                                    "2": "4704"
                                },
                                {
                                    "0": "2022-07-23",
                                    "1": "casual",
                                    "2": "6494"
                                },
                                {
                                    "0": "2022-07-24",
                                    "1": "casual",
                                    "2": "5361"
                                },
                                {
                                    "0": "2022-07-25",
                                    "1": "casual",
                                    "2": "3730"
                                },
                                {
                                    "0": "2022-07-26",
                                    "1": "casual",
                                    "2": "3738"
                                },
                                {
                                    "0": "2022-07-27",
                                    "1": "casual",
                                    "2": "3569"
                                },
                                {
                                    "0": "2022-07-28",
                                    "1": "casual",
                                    "2": "4240"
                                },
                                {
                                    "0": "2022-07-29",
                                    "1": "casual",
                                    "2": "5326"
                                },
                                {
                                    "0": "2022-07-30",
                                    "1": "casual",
                                    "2": "7005"
                                },
                                {
                                    "0": "2022-07-31",
                                    "1": "casual",
                                    "2": "6024"
                                },
                                {
                                    "0": "2022-08-01",
                                    "1": "casual",
                                    "2": "7666"
                                },
                                {
                                    "0": "2022-08-02",
                                    "1": "casual",
                                    "2": "8025"
                                },
                                {
                                    "0": "2022-08-03",
                                    "1": "casual",
                                    "2": "6175"
                                },
                                {
                                    "0": "2022-08-04",
                                    "1": "casual",
                                    "2": "8039"
                                },
                                {
                                    "0": "2022-08-05",
                                    "1": "casual",
                                    "2": "10985"
                                },
                                {
                                    "0": "2022-08-06",
                                    "1": "casual",
                                    "2": "13734"
                                },
                                {
                                    "0": "2022-08-07",
                                    "1": "casual",
                                    "2": "6263"
                                },
                                {
                                    "0": "2022-08-08",
                                    "1": "casual",
                                    "2": "3691"
                                },
                                {
                                    "0": "2022-08-09",
                                    "1": "casual",
                                    "2": "7926"
                                },
                                {
                                    "0": "2022-08-10",
                                    "1": "casual",
                                    "2": "8585"
                                },
                                {
                                    "0": "2022-08-11",
                                    "1": "casual",
                                    "2": "8477"
                                },
                                {
                                    "0": "2022-08-12",
                                    "1": "casual",
                                    "2": "9755"
                                },
                                {
                                    "0": "2022-08-13",
                                    "1": "casual",
                                    "2": "13131"
                                },
                                {
                                    "0": "2022-08-14",
                                    "1": "casual",
                                    "2": "9733"
                                },
                                {
                                    "0": "2022-08-15",
                                    "1": "casual",
                                    "2": "7499"
                                },
                                {
                                    "0": "2022-08-16",
                                    "1": "casual",
                                    "2": "7599"
                                },
                                {
                                    "0": "2022-08-17",
                                    "1": "casual",
                                    "2": "7830"
                                },
                                {
                                    "0": "2022-08-18",
                                    "1": "casual",
                                    "2": "8569"
                                },
                                {
                                    "0": "2022-08-19",
                                    "1": "casual",
                                    "2": "11645"
                                },
                                {
                                    "0": "2022-08-20",
                                    "1": "casual",
                                    "2": "9584"
                                },
                                {
                                    "0": "2022-08-21",
                                    "1": "casual",
                                    "2": "10796"
                                },
                                {
                                    "0": "2022-08-22",
                                    "1": "casual",
                                    "2": "7328"
                                },
                                {
                                    "0": "2022-08-23",
                                    "1": "casual",
                                    "2": "7568"
                                },
                                {
                                    "0": "2022-08-24",
                                    "1": "casual",
                                    "2": "8153"
                                },
                                {
                                    "0": "2022-08-25",
                                    "1": "casual",
                                    "2": "5840"
                                },
                                {
                                    "0": "2022-08-26",
                                    "1": "casual",
                                    "2": "9093"
                                },
                                {
                                    "0": "2022-08-27",
                                    "1": "casual",
                                    "2": "13113"
                                },
                                {
                                    "0": "2022-08-28",
                                    "1": "casual",
                                    "2": "9047"
                                },
                                {
                                    "0": "2022-08-29",
                                    "1": "casual",
                                    "2": "4721"
                                },
                                {
                                    "0": "2022-08-30",
                                    "1": "casual",
                                    "2": "6717"
                                },
                                {
                                    "0": "2022-08-31",
                                    "1": "casual",
                                    "2": "6952"
                                },
                                {
                                    "0": "2021-09-01",
                                    "1": "member",
                                    "2": "12481"
                                },
                                {
                                    "0": "2021-09-02",
                                    "1": "member",
                                    "2": "11608"
                                },
                                {
                                    "0": "2021-09-03",
                                    "1": "member",
                                    "2": "9760"
                                },
                                {
                                    "0": "2021-09-04",
                                    "1": "member",
                                    "2": "8654"
                                },
                                {
                                    "0": "2021-09-05",
                                    "1": "member",
                                    "2": "9135"
                                },
                                {
                                    "0": "2021-09-06",
                                    "1": "member",
                                    "2": "9156"
                                },
                                {
                                    "0": "2021-09-07",
                                    "1": "member",
                                    "2": "9660"
                                },
                                {
                                    "0": "2021-09-08",
                                    "1": "member",
                                    "2": "12208"
                                },
                                {
                                    "0": "2021-09-09",
                                    "1": "member",
                                    "2": "12197"
                                },
                                {
                                    "0": "2021-09-10",
                                    "1": "member",
                                    "2": "11615"
                                },
                                {
                                    "0": "2021-09-11",
                                    "1": "member",
                                    "2": "11010"
                                },
                                {
                                    "0": "2021-09-12",
                                    "1": "member",
                                    "2": "9787"
                                },
                                {
                                    "0": "2021-09-13",
                                    "1": "member",
                                    "2": "10645"
                                },
                                {
                                    "0": "2021-09-14",
                                    "1": "member",
                                    "2": "12000"
                                },
                                {
                                    "0": "2021-09-15",
                                    "1": "member",
                                    "2": "12382"
                                },
                                {
                                    "0": "2021-09-16",
                                    "1": "member",
                                    "2": "12383"
                                },
                                {
                                    "0": "2021-09-17",
                                    "1": "member",
                                    "2": "10803"
                                },
                                {
                                    "0": "2021-09-18",
                                    "1": "member",
                                    "2": "10695"
                                },
                                {
                                    "0": "2021-09-19",
                                    "1": "member",
                                    "2": "9504"
                                },
                                {
                                    "0": "2021-09-20",
                                    "1": "member",
                                    "2": "9692"
                                },
                                {
                                    "0": "2021-09-21",
                                    "1": "member",
                                    "2": "9436"
                                },
                                {
                                    "0": "2021-09-22",
                                    "1": "member",
                                    "2": "9130"
                                },
                                {
                                    "0": "2021-09-23",
                                    "1": "member",
                                    "2": "10656"
                                },
                                {
                                    "0": "2021-09-24",
                                    "1": "member",
                                    "2": "10665"
                                },
                                {
                                    "0": "2021-09-25",
                                    "1": "member",
                                    "2": "10118"
                                },
                                {
                                    "0": "2021-09-26",
                                    "1": "member",
                                    "2": "9382"
                                },
                                {
                                    "0": "2021-09-27",
                                    "1": "member",
                                    "2": "10669"
                                },
                                {
                                    "0": "2021-09-28",
                                    "1": "member",
                                    "2": "11704"
                                },
                                {
                                    "0": "2021-09-29",
                                    "1": "member",
                                    "2": "12131"
                                },
                                {
                                    "0": "2021-09-30",
                                    "1": "member",
                                    "2": "12005"
                                },
                                {
                                    "0": "2021-10-01",
                                    "1": "member",
                                    "2": "12079"
                                },
                                {
                                    "0": "2021-10-02",
                                    "1": "member",
                                    "2": "9350"
                                },
                                {
                                    "0": "2021-10-03",
                                    "1": "member",
                                    "2": "7694"
                                },
                                {
                                    "0": "2021-10-04",
                                    "1": "member",
                                    "2": "9778"
                                },
                                {
                                    "0": "2021-10-05",
                                    "1": "member",
                                    "2": "11314"
                                },
                                {
                                    "0": "2021-10-06",
                                    "1": "member",
                                    "2": "11467"
                                },
                                {
                                    "0": "2021-10-07",
                                    "1": "member",
                                    "2": "8747"
                                },
                                {
                                    "0": "2021-10-08",
                                    "1": "member",
                                    "2": "10114"
                                },
                                {
                                    "0": "2021-10-09",
                                    "1": "member",
                                    "2": "11264"
                                },
                                {
                                    "0": "2021-10-10",
                                    "1": "member",
                                    "2": "10203"
                                },
                                {
                                    "0": "2021-10-11",
                                    "1": "member",
                                    "2": "6465"
                                },
                                {
                                    "0": "2021-10-12",
                                    "1": "member",
                                    "2": "10707"
                                },
                                {
                                    "0": "2021-10-13",
                                    "1": "member",
                                    "2": "10224"
                                },
                                {
                                    "0": "2021-10-14",
                                    "1": "member",
                                    "2": "10985"
                                },
                                {
                                    "0": "2021-10-15",
                                    "1": "member",
                                    "2": "9693"
                                },
                                {
                                    "0": "2021-10-16",
                                    "1": "member",
                                    "2": "9645"
                                },
                                {
                                    "0": "2021-10-17",
                                    "1": "member",
                                    "2": "9047"
                                },
                                {
                                    "0": "2021-10-18",
                                    "1": "member",
                                    "2": "10637"
                                },
                                {
                                    "0": "2021-10-19",
                                    "1": "member",
                                    "2": "12254"
                                },
                                {
                                    "0": "2021-10-20",
                                    "1": "member",
                                    "2": "12000"
                                },
                                {
                                    "0": "2021-10-21",
                                    "1": "member",
                                    "2": "9209"
                                },
                                {
                                    "0": "2021-10-22",
                                    "1": "member",
                                    "2": "9391"
                                },
                                {
                                    "0": "2021-10-23",
                                    "1": "member",
                                    "2": "8588"
                                },
                                {
                                    "0": "2021-10-24",
                                    "1": "member",
                                    "2": "2322"
                                },
                                {
                                    "0": "2021-10-25",
                                    "1": "member",
                                    "2": "4731"
                                },
                                {
                                    "0": "2021-10-26",
                                    "1": "member",
                                    "2": "9968"
                                },
                                {
                                    "0": "2021-10-27",
                                    "1": "member",
                                    "2": "10212"
                                },
                                {
                                    "0": "2021-10-28",
                                    "1": "member",
                                    "2": "5909"
                                },
                                {
                                    "0": "2021-10-29",
                                    "1": "member",
                                    "2": "3402"
                                },
                                {
                                    "0": "2021-10-30",
                                    "1": "member",
                                    "2": "8004"
                                },
                                {
                                    "0": "2021-10-31",
                                    "1": "member",
                                    "2": "6679"
                                },
                                {
                                    "0": "2021-11-01",
                                    "1": "member",
                                    "2": "3219"
                                },
                                {
                                    "0": "2021-11-02",
                                    "1": "member",
                                    "2": "3315"
                                },
                                {
                                    "0": "2021-11-03",
                                    "1": "member",
                                    "2": "3382"
                                },
                                {
                                    "0": "2021-11-04",
                                    "1": "member",
                                    "2": "3361"
                                },
                                {
                                    "0": "2021-11-05",
                                    "1": "member",
                                    "2": "3167"
                                },
                                {
                                    "0": "2021-11-06",
                                    "1": "member",
                                    "2": "3218"
                                },
                                {
                                    "0": "2021-11-07",
                                    "1": "member",
                                    "2": "3214"
                                },
                                {
                                    "0": "2021-11-08",
                                    "1": "member",
                                    "2": "3863"
                                },
                                {
                                    "0": "2021-11-09",
                                    "1": "member",
                                    "2": "3813"
                                },
                                {
                                    "0": "2021-11-10",
                                    "1": "member",
                                    "2": "3850"
                                },
                                {
                                    "0": "2021-11-11",
                                    "1": "member",
                                    "2": "2576"
                                },
                                {
                                    "0": "2021-11-12",
                                    "1": "member",
                                    "2": "2181"
                                },
                                {
                                    "0": "2021-11-13",
                                    "1": "member",
                                    "2": "1978"
                                },
                                {
                                    "0": "2021-11-14",
                                    "1": "member",
                                    "2": "1421"
                                },
                                {
                                    "0": "2021-11-15",
                                    "1": "member",
                                    "2": "2302"
                                },
                                {
                                    "0": "2021-11-16",
                                    "1": "member",
                                    "2": "3308"
                                },
                                {
                                    "0": "2021-11-17",
                                    "1": "member",
                                    "2": "2718"
                                },
                                {
                                    "0": "2021-11-18",
                                    "1": "member",
                                    "2": "2498"
                                },
                                {
                                    "0": "2021-11-19",
                                    "1": "member",
                                    "2": "2419"
                                },
                                {
                                    "0": "2021-11-20",
                                    "1": "member",
                                    "2": "2343"
                                },
                                {
                                    "0": "2021-11-21",
                                    "1": "member",
                                    "2": "1997"
                                },
                                {
                                    "0": "2021-11-22",
                                    "1": "member",
                                    "2": "2034"
                                },
                                {
                                    "0": "2021-11-23",
                                    "1": "member",
                                    "2": "2337"
                                },
                                {
                                    "0": "2021-11-24",
                                    "1": "member",
                                    "2": "1909"
                                },
                                {
                                    "0": "2021-11-25",
                                    "1": "member",
                                    "2": "728"
                                },
                                {
                                    "0": "2021-11-26",
                                    "1": "member",
                                    "2": "858"
                                },
                                {
                                    "0": "2021-11-27",
                                    "1": "member",
                                    "2": "1138"
                                },
                                {
                                    "0": "2021-11-28",
                                    "1": "member",
                                    "2": "1294"
                                },
                                {
                                    "0": "2021-11-29",
                                    "1": "member",
                                    "2": "2141"
                                },
                                {
                                    "0": "2021-11-30",
                                    "1": "member",
                                    "2": "2763"
                                },
                                {
                                    "0": "2021-12-01",
                                    "1": "member",
                                    "2": "6893"
                                },
                                {
                                    "0": "2021-12-02",
                                    "1": "member",
                                    "2": "7904"
                                },
                                {
                                    "0": "2021-12-03",
                                    "1": "member",
                                    "2": "6787"
                                },
                                {
                                    "0": "2021-12-04",
                                    "1": "member",
                                    "2": "5287"
                                },
                                {
                                    "0": "2021-12-05",
                                    "1": "member",
                                    "2": "2068"
                                },
                                {
                                    "0": "2021-12-06",
                                    "1": "member",
                                    "2": "4513"
                                },
                                {
                                    "0": "2021-12-07",
                                    "1": "member",
                                    "2": "4413"
                                },
                                {
                                    "0": "2021-12-08",
                                    "1": "member",
                                    "2": "5355"
                                },
                                {
                                    "0": "2021-12-09",
                                    "1": "member",
                                    "2": "5956"
                                },
                                {
                                    "0": "2021-12-10",
                                    "1": "member",
                                    "2": "4273"
                                },
                                {
                                    "0": "2021-12-11",
                                    "1": "member",
                                    "2": "3804"
                                },
                                {
                                    "0": "2021-12-12",
                                    "1": "member",
                                    "2": "4228"
                                },
                                {
                                    "0": "2021-12-13",
                                    "1": "member",
                                    "2": "5670"
                                },
                                {
                                    "0": "2021-12-14",
                                    "1": "member",
                                    "2": "6451"
                                },
                                {
                                    "0": "2021-12-15",
                                    "1": "member",
                                    "2": "6736"
                                },
                                {
                                    "0": "2021-12-16",
                                    "1": "member",
                                    "2": "5215"
                                },
                                {
                                    "0": "2021-12-17",
                                    "1": "member",
                                    "2": "4792"
                                },
                                {
                                    "0": "2021-12-18",
                                    "1": "member",
                                    "2": "3031"
                                },
                                {
                                    "0": "2021-12-19",
                                    "1": "member",
                                    "2": "2811"
                                },
                                {
                                    "0": "2021-12-20",
                                    "1": "member",
                                    "2": "4062"
                                },
                                {
                                    "0": "2021-12-21",
                                    "1": "member",
                                    "2": "3915"
                                },
                                {
                                    "0": "2021-12-22",
                                    "1": "member",
                                    "2": "2905"
                                },
                                {
                                    "0": "2021-12-23",
                                    "1": "member",
                                    "2": "3128"
                                },
                                {
                                    "0": "2021-12-24",
                                    "1": "member",
                                    "2": "2011"
                                },
                                {
                                    "0": "2021-12-25",
                                    "1": "member",
                                    "2": "1075"
                                },
                                {
                                    "0": "2021-12-26",
                                    "1": "member",
                                    "2": "1605"
                                },
                                {
                                    "0": "2021-12-27",
                                    "1": "member",
                                    "2": "2426"
                                },
                                {
                                    "0": "2021-12-28",
                                    "1": "member",
                                    "2": "1628"
                                },
                                {
                                    "0": "2021-12-29",
                                    "1": "member",
                                    "2": "2958"
                                },
                                {
                                    "0": "2021-12-30",
                                    "1": "member",
                                    "2": "3221"
                                },
                                {
                                    "0": "2021-12-31",
                                    "1": "member",
                                    "2": "3003"
                                },
                                {
                                    "0": "2022-01-01",
                                    "1": "member",
                                    "2": "2010"
                                },
                                {
                                    "0": "2022-01-02",
                                    "1": "member",
                                    "2": "2170"
                                },
                                {
                                    "0": "2022-01-03",
                                    "1": "member",
                                    "2": "3906"
                                },
                                {
                                    "0": "2022-01-04",
                                    "1": "member",
                                    "2": "5716"
                                },
                                {
                                    "0": "2022-01-05",
                                    "1": "member",
                                    "2": "3406"
                                },
                                {
                                    "0": "2022-01-06",
                                    "1": "member",
                                    "2": "3700"
                                },
                                {
                                    "0": "2022-01-07",
                                    "1": "member",
                                    "2": "3220"
                                },
                                {
                                    "0": "2022-01-08",
                                    "1": "member",
                                    "2": "3170"
                                },
                                {
                                    "0": "2022-01-09",
                                    "1": "member",
                                    "2": "2584"
                                },
                                {
                                    "0": "2022-01-10",
                                    "1": "member",
                                    "2": "3450"
                                },
                                {
                                    "0": "2022-01-11",
                                    "1": "member",
                                    "2": "4728"
                                },
                                {
                                    "0": "2022-01-12",
                                    "1": "member",
                                    "2": "7378"
                                },
                                {
                                    "0": "2022-01-13",
                                    "1": "member",
                                    "2": "7834"
                                },
                                {
                                    "0": "2022-01-14",
                                    "1": "member",
                                    "2": "6240"
                                },
                                {
                                    "0": "2022-01-15",
                                    "1": "member",
                                    "2": "3510"
                                },
                                {
                                    "0": "2022-01-16",
                                    "1": "member",
                                    "2": "3864"
                                },
                                {
                                    "0": "2022-01-17",
                                    "1": "member",
                                    "2": "4576"
                                },
                                {
                                    "0": "2022-01-18",
                                    "1": "member",
                                    "2": "7546"
                                },
                                {
                                    "0": "2022-01-19",
                                    "1": "member",
                                    "2": "6508"
                                },
                                {
                                    "0": "2022-01-20",
                                    "1": "member",
                                    "2": "5136"
                                },
                                {
                                    "0": "2022-01-21",
                                    "1": "member",
                                    "2": "5804"
                                },
                                {
                                    "0": "2022-01-22",
                                    "1": "member",
                                    "2": "4810"
                                },
                                {
                                    "0": "2022-01-23",
                                    "1": "member",
                                    "2": "1782"
                                },
                                {
                                    "0": "2022-01-24",
                                    "1": "member",
                                    "2": "2412"
                                },
                                {
                                    "0": "2022-01-25",
                                    "1": "member",
                                    "2": "3346"
                                },
                                {
                                    "0": "2022-01-26",
                                    "1": "member",
                                    "2": "3104"
                                },
                                {
                                    "0": "2022-01-27",
                                    "1": "member",
                                    "2": "5502"
                                },
                                {
                                    "0": "2022-01-28",
                                    "1": "member",
                                    "2": "2478"
                                },
                                {
                                    "0": "2022-01-29",
                                    "1": "member",
                                    "2": "2836"
                                },
                                {
                                    "0": "2022-01-30",
                                    "1": "member",
                                    "2": "3074"
                                },
                                {
                                    "0": "2022-01-31",
                                    "1": "member",
                                    "2": "6180"
                                },
                                {
                                    "0": "2022-02-01",
                                    "1": "member",
                                    "2": "3225"
                                },
                                {
                                    "0": "2022-02-02",
                                    "1": "member",
                                    "2": "390"
                                },
                                {
                                    "0": "2022-02-03",
                                    "1": "member",
                                    "2": "1308"
                                },
                                {
                                    "0": "2022-02-04",
                                    "1": "member",
                                    "2": "1622"
                                },
                                {
                                    "0": "2022-02-05",
                                    "1": "member",
                                    "2": "1285"
                                },
                                {
                                    "0": "2022-02-06",
                                    "1": "member",
                                    "2": "1552"
                                },
                                {
                                    "0": "2022-02-07",
                                    "1": "member",
                                    "2": "2494"
                                },
                                {
                                    "0": "2022-02-08",
                                    "1": "member",
                                    "2": "3202"
                                },
                                {
                                    "0": "2022-02-09",
                                    "1": "member",
                                    "2": "3530"
                                },
                                {
                                    "0": "2022-02-10",
                                    "1": "member",
                                    "2": "3327"
                                },
                                {
                                    "0": "2022-02-11",
                                    "1": "member",
                                    "2": "3393"
                                },
                                {
                                    "0": "2022-02-12",
                                    "1": "member",
                                    "2": "1884"
                                },
                                {
                                    "0": "2022-02-13",
                                    "1": "member",
                                    "2": "1677"
                                },
                                {
                                    "0": "2022-02-14",
                                    "1": "member",
                                    "2": "2893"
                                },
                                {
                                    "0": "2022-02-15",
                                    "1": "member",
                                    "2": "3883"
                                },
                                {
                                    "0": "2022-02-16",
                                    "1": "member",
                                    "2": "3869"
                                },
                                {
                                    "0": "2022-02-17",
                                    "1": "member",
                                    "2": "1726"
                                },
                                {
                                    "0": "2022-02-18",
                                    "1": "member",
                                    "2": "1764"
                                },
                                {
                                    "0": "2022-02-19",
                                    "1": "member",
                                    "2": "1681"
                                },
                                {
                                    "0": "2022-02-20",
                                    "1": "member",
                                    "2": "2614"
                                },
                                {
                                    "0": "2022-02-21",
                                    "1": "member",
                                    "2": "3967"
                                },
                                {
                                    "0": "2022-02-22",
                                    "1": "member",
                                    "2": "2449"
                                },
                                {
                                    "0": "2022-02-23",
                                    "1": "member",
                                    "2": "3334"
                                },
                                {
                                    "0": "2022-02-24",
                                    "1": "member",
                                    "2": "2658"
                                },
                                {
                                    "0": "2022-02-25",
                                    "1": "member",
                                    "2": "2172"
                                },
                                {
                                    "0": "2022-02-26",
                                    "1": "member",
                                    "2": "2351"
                                },
                                {
                                    "0": "2022-02-27",
                                    "1": "member",
                                    "2": "2767"
                                },
                                {
                                    "0": "2022-02-28",
                                    "1": "member",
                                    "2": "5009"
                                },
                                {
                                    "0": "2022-03-01",
                                    "1": "member",
                                    "2": "5406"
                                },
                                {
                                    "0": "2022-03-02",
                                    "1": "member",
                                    "2": "5903"
                                },
                                {
                                    "0": "2022-03-03",
                                    "1": "member",
                                    "2": "4491"
                                },
                                {
                                    "0": "2022-03-04",
                                    "1": "member",
                                    "2": "4443"
                                },
                                {
                                    "0": "2022-03-05",
                                    "1": "member",
                                    "2": "7138"
                                },
                                {
                                    "0": "2022-03-06",
                                    "1": "member",
                                    "2": "3142"
                                },
                                {
                                    "0": "2022-03-07",
                                    "1": "member",
                                    "2": "2926"
                                },
                                {
                                    "0": "2022-03-08",
                                    "1": "member",
                                    "2": "5217"
                                },
                                {
                                    "0": "2022-03-09",
                                    "1": "member",
                                    "2": "5407"
                                },
                                {
                                    "0": "2022-03-10",
                                    "1": "member",
                                    "2": "4060"
                                },
                                {
                                    "0": "2022-03-11",
                                    "1": "member",
                                    "2": "3137"
                                },
                                {
                                    "0": "2022-03-12",
                                    "1": "member",
                                    "2": "2263"
                                },
                                {
                                    "0": "2022-03-13",
                                    "1": "member",
                                    "2": "3839"
                                },
                                {
                                    "0": "2022-03-14",
                                    "1": "member",
                                    "2": "6471"
                                },
                                {
                                    "0": "2022-03-15",
                                    "1": "member",
                                    "2": "6081"
                                },
                                {
                                    "0": "2022-03-16",
                                    "1": "member",
                                    "2": "8942"
                                },
                                {
                                    "0": "2022-03-17",
                                    "1": "member",
                                    "2": "7538"
                                },
                                {
                                    "0": "2022-03-18",
                                    "1": "member",
                                    "2": "2763"
                                },
                                {
                                    "0": "2022-03-19",
                                    "1": "member",
                                    "2": "2374"
                                },
                                {
                                    "0": "2022-03-20",
                                    "1": "member",
                                    "2": "6383"
                                },
                                {
                                    "0": "2022-03-21",
                                    "1": "member",
                                    "2": "8546"
                                },
                                {
                                    "0": "2022-03-22",
                                    "1": "member",
                                    "2": "4245"
                                },
                                {
                                    "0": "2022-03-23",
                                    "1": "member",
                                    "2": "4110"
                                },
                                {
                                    "0": "2022-03-24",
                                    "1": "member",
                                    "2": "3953"
                                },
                                {
                                    "0": "2022-03-25",
                                    "1": "member",
                                    "2": "4557"
                                },
                                {
                                    "0": "2022-03-26",
                                    "1": "member",
                                    "2": "2625"
                                },
                                {
                                    "0": "2022-03-27",
                                    "1": "member",
                                    "2": "2789"
                                },
                                {
                                    "0": "2022-03-28",
                                    "1": "member",
                                    "2": "4276"
                                },
                                {
                                    "0": "2022-03-29",
                                    "1": "member",
                                    "2": "5047"
                                },
                                {
                                    "0": "2022-03-30",
                                    "1": "member",
                                    "2": "3217"
                                },
                                {
                                    "0": "2022-03-31",
                                    "1": "member",
                                    "2": "3956"
                                },
                                {
                                    "0": "2022-04-01",
                                    "1": "member",
                                    "2": "2277"
                                },
                                {
                                    "0": "2022-04-02",
                                    "1": "member",
                                    "2": "1200"
                                },
                                {
                                    "0": "2022-04-03",
                                    "1": "member",
                                    "2": "1631"
                                },
                                {
                                    "0": "2022-04-04",
                                    "1": "member",
                                    "2": "2525"
                                },
                                {
                                    "0": "2022-04-05",
                                    "1": "member",
                                    "2": "2864"
                                },
                                {
                                    "0": "2022-04-06",
                                    "1": "member",
                                    "2": "2641"
                                },
                                {
                                    "0": "2022-04-07",
                                    "1": "member",
                                    "2": "2177"
                                },
                                {
                                    "0": "2022-04-08",
                                    "1": "member",
                                    "2": "1523"
                                },
                                {
                                    "0": "2022-04-09",
                                    "1": "member",
                                    "2": "1947"
                                },
                                {
                                    "0": "2022-04-10",
                                    "1": "member",
                                    "2": "2724"
                                },
                                {
                                    "0": "2022-04-11",
                                    "1": "member",
                                    "2": "3175"
                                },
                                {
                                    "0": "2022-04-12",
                                    "1": "member",
                                    "2": "3667"
                                },
                                {
                                    "0": "2022-04-13",
                                    "1": "member",
                                    "2": "2014"
                                },
                                {
                                    "0": "2022-04-14",
                                    "1": "member",
                                    "2": "2610"
                                },
                                {
                                    "0": "2022-04-15",
                                    "1": "member",
                                    "2": "2063"
                                },
                                {
                                    "0": "2022-04-16",
                                    "1": "member",
                                    "2": "2128"
                                },
                                {
                                    "0": "2022-04-17",
                                    "1": "member",
                                    "2": "1330"
                                },
                                {
                                    "0": "2022-04-18",
                                    "1": "member",
                                    "2": "1816"
                                },
                                {
                                    "0": "2022-04-19",
                                    "1": "member",
                                    "2": "2940"
                                },
                                {
                                    "0": "2022-04-20",
                                    "1": "member",
                                    "2": "2483"
                                },
                                {
                                    "0": "2022-04-21",
                                    "1": "member",
                                    "2": "4317"
                                },
                                {
                                    "0": "2022-04-22",
                                    "1": "member",
                                    "2": "1770"
                                },
                                {
                                    "0": "2022-04-23",
                                    "1": "member",
                                    "2": "4895"
                                },
                                {
                                    "0": "2022-04-24",
                                    "1": "member",
                                    "2": "2036"
                                },
                                {
                                    "0": "2022-04-25",
                                    "1": "member",
                                    "2": "2957"
                                },
                                {
                                    "0": "2022-04-26",
                                    "1": "member",
                                    "2": "3050"
                                },
                                {
                                    "0": "2022-04-27",
                                    "1": "member",
                                    "2": "2651"
                                },
                                {
                                    "0": "2022-04-28",
                                    "1": "member",
                                    "2": "2655"
                                },
                                {
                                    "0": "2022-04-29",
                                    "1": "member",
                                    "2": "3012"
                                },
                                {
                                    "0": "2022-04-30",
                                    "1": "member",
                                    "2": "1736"
                                },
                                {
                                    "0": "2022-05-01",
                                    "1": "member",
                                    "2": "5153"
                                },
                                {
                                    "0": "2022-05-02",
                                    "1": "member",
                                    "2": "7292"
                                },
                                {
                                    "0": "2022-05-03",
                                    "1": "member",
                                    "2": "3053"
                                },
                                {
                                    "0": "2022-05-04",
                                    "1": "member",
                                    "2": "8049"
                                },
                                {
                                    "0": "2022-05-05",
                                    "1": "member",
                                    "2": "4815"
                                },
                                {
                                    "0": "2022-05-06",
                                    "1": "member",
                                    "2": "3732"
                                },
                                {
                                    "0": "2022-05-07",
                                    "1": "member",
                                    "2": "7687"
                                },
                                {
                                    "0": "2022-05-08",
                                    "1": "member",
                                    "2": "6186"
                                },
                                {
                                    "0": "2022-05-09",
                                    "1": "member",
                                    "2": "10385"
                                },
                                {
                                    "0": "2022-05-10",
                                    "1": "member",
                                    "2": "12140"
                                },
                                {
                                    "0": "2022-05-11",
                                    "1": "member",
                                    "2": "11419"
                                },
                                {
                                    "0": "2022-05-12",
                                    "1": "member",
                                    "2": "11699"
                                },
                                {
                                    "0": "2022-05-13",
                                    "1": "member",
                                    "2": "11695"
                                },
                                {
                                    "0": "2022-05-14",
                                    "1": "member",
                                    "2": "11425"
                                },
                                {
                                    "0": "2022-05-15",
                                    "1": "member",
                                    "2": "7586"
                                },
                                {
                                    "0": "2022-05-16",
                                    "1": "member",
                                    "2": "11480"
                                },
                                {
                                    "0": "2022-05-17",
                                    "1": "member",
                                    "2": "9896"
                                },
                                {
                                    "0": "2022-05-18",
                                    "1": "member",
                                    "2": "7836"
                                },
                                {
                                    "0": "2022-05-19",
                                    "1": "member",
                                    "2": "12509"
                                },
                                {
                                    "0": "2022-05-20",
                                    "1": "member",
                                    "2": "9621"
                                },
                                {
                                    "0": "2022-05-21",
                                    "1": "member",
                                    "2": "5369"
                                },
                                {
                                    "0": "2022-05-22",
                                    "1": "member",
                                    "2": "8702"
                                },
                                {
                                    "0": "2022-05-23",
                                    "1": "member",
                                    "2": "9540"
                                },
                                {
                                    "0": "2022-05-24",
                                    "1": "member",
                                    "2": "10480"
                                },
                                {
                                    "0": "2022-05-25",
                                    "1": "member",
                                    "2": "7704"
                                },
                                {
                                    "0": "2022-05-26",
                                    "1": "member",
                                    "2": "11060"
                                },
                                {
                                    "0": "2022-05-27",
                                    "1": "member",
                                    "2": "7461"
                                },
                                {
                                    "0": "2022-05-28",
                                    "1": "member",
                                    "2": "10222"
                                },
                                {
                                    "0": "2022-05-29",
                                    "1": "member",
                                    "2": "9669"
                                },
                                {
                                    "0": "2022-05-30",
                                    "1": "member",
                                    "2": "9792"
                                },
                                {
                                    "0": "2022-05-31",
                                    "1": "member",
                                    "2": "11331"
                                },
                                {
                                    "0": "2022-06-01",
                                    "1": "member",
                                    "2": "11254"
                                },
                                {
                                    "0": "2022-06-02",
                                    "1": "member",
                                    "2": "11737"
                                },
                                {
                                    "0": "2022-06-03",
                                    "1": "member",
                                    "2": "11991"
                                },
                                {
                                    "0": "2022-06-04",
                                    "1": "member",
                                    "2": "9217"
                                },
                                {
                                    "0": "2022-06-05",
                                    "1": "member",
                                    "2": "9971"
                                },
                                {
                                    "0": "2022-06-06",
                                    "1": "member",
                                    "2": "7143"
                                },
                                {
                                    "0": "2022-06-07",
                                    "1": "member",
                                    "2": "10667"
                                },
                                {
                                    "0": "2022-06-08",
                                    "1": "member",
                                    "2": "8665"
                                },
                                {
                                    "0": "2022-06-09",
                                    "1": "member",
                                    "2": "11853"
                                },
                                {
                                    "0": "2022-06-10",
                                    "1": "member",
                                    "2": "10112"
                                },
                                {
                                    "0": "2022-06-11",
                                    "1": "member",
                                    "2": "10723"
                                },
                                {
                                    "0": "2022-06-12",
                                    "1": "member",
                                    "2": "8866"
                                },
                                {
                                    "0": "2022-06-13",
                                    "1": "member",
                                    "2": "8876"
                                },
                                {
                                    "0": "2022-06-14",
                                    "1": "member",
                                    "2": "10971"
                                },
                                {
                                    "0": "2022-06-15",
                                    "1": "member",
                                    "2": "10962"
                                },
                                {
                                    "0": "2022-06-16",
                                    "1": "member",
                                    "2": "11068"
                                },
                                {
                                    "0": "2022-06-17",
                                    "1": "member",
                                    "2": "11784"
                                },
                                {
                                    "0": "2022-06-18",
                                    "1": "member",
                                    "2": "11151"
                                },
                                {
                                    "0": "2022-06-19",
                                    "1": "member",
                                    "2": "9521"
                                },
                                {
                                    "0": "2022-06-20",
                                    "1": "member",
                                    "2": "11011"
                                },
                                {
                                    "0": "2022-06-21",
                                    "1": "member",
                                    "2": "10938"
                                },
                                {
                                    "0": "2022-06-22",
                                    "1": "member",
                                    "2": "12356"
                                },
                                {
                                    "0": "2022-06-23",
                                    "1": "member",
                                    "2": "12197"
                                },
                                {
                                    "0": "2022-06-24",
                                    "1": "member",
                                    "2": "11858"
                                },
                                {
                                    "0": "2022-06-25",
                                    "1": "member",
                                    "2": "7607"
                                },
                                {
                                    "0": "2022-06-26",
                                    "1": "member",
                                    "2": "10419"
                                },
                                {
                                    "0": "2022-06-27",
                                    "1": "member",
                                    "2": "11026"
                                },
                                {
                                    "0": "2022-06-28",
                                    "1": "member",
                                    "2": "12063"
                                },
                                {
                                    "0": "2022-06-29",
                                    "1": "member",
                                    "2": "12490"
                                },
                                {
                                    "0": "2022-06-30",
                                    "1": "member",
                                    "2": "11400"
                                },
                                {
                                    "0": "2022-07-01",
                                    "1": "member",
                                    "2": "4318"
                                },
                                {
                                    "0": "2022-07-02",
                                    "1": "member",
                                    "2": "4392"
                                },
                                {
                                    "0": "2022-07-03",
                                    "1": "member",
                                    "2": "3902"
                                },
                                {
                                    "0": "2022-07-04",
                                    "1": "member",
                                    "2": "3015"
                                },
                                {
                                    "0": "2022-07-05",
                                    "1": "member",
                                    "2": "4050"
                                },
                                {
                                    "0": "2022-07-06",
                                    "1": "member",
                                    "2": "4783"
                                },
                                {
                                    "0": "2022-07-07",
                                    "1": "member",
                                    "2": "5004"
                                },
                                {
                                    "0": "2022-07-08",
                                    "1": "member",
                                    "2": "4328"
                                },
                                {
                                    "0": "2022-07-09",
                                    "1": "member",
                                    "2": "5236"
                                },
                                {
                                    "0": "2022-07-10",
                                    "1": "member",
                                    "2": "4297"
                                },
                                {
                                    "0": "2022-07-11",
                                    "1": "member",
                                    "2": "4504"
                                },
                                {
                                    "0": "2022-07-12",
                                    "1": "member",
                                    "2": "5259"
                                },
                                {
                                    "0": "2022-07-13",
                                    "1": "member",
                                    "2": "5511"
                                },
                                {
                                    "0": "2022-07-14",
                                    "1": "member",
                                    "2": "5354"
                                },
                                {
                                    "0": "2022-07-15",
                                    "1": "member",
                                    "2": "2193"
                                },
                                {
                                    "0": "2022-07-16",
                                    "1": "member",
                                    "2": "4758"
                                },
                                {
                                    "0": "2022-07-17",
                                    "1": "member",
                                    "2": "3713"
                                },
                                {
                                    "0": "2022-07-18",
                                    "1": "member",
                                    "2": "4870"
                                },
                                {
                                    "0": "2022-07-19",
                                    "1": "member",
                                    "2": "5173"
                                },
                                {
                                    "0": "2022-07-20",
                                    "1": "member",
                                    "2": "5145"
                                },
                                {
                                    "0": "2022-07-21",
                                    "1": "member",
                                    "2": "5003"
                                },
                                {
                                    "0": "2022-07-22",
                                    "1": "member",
                                    "2": "4824"
                                },
                                {
                                    "0": "2022-07-23",
                                    "1": "member",
                                    "2": "4263"
                                },
                                {
                                    "0": "2022-07-24",
                                    "1": "member",
                                    "2": "3595"
                                },
                                {
                                    "0": "2022-07-25",
                                    "1": "member",
                                    "2": "4732"
                                },
                                {
                                    "0": "2022-07-26",
                                    "1": "member",
                                    "2": "5153"
                                },
                                {
                                    "0": "2022-07-27",
                                    "1": "member",
                                    "2": "4959"
                                },
                                {
                                    "0": "2022-07-28",
                                    "1": "member",
                                    "2": "5153"
                                },
                                {
                                    "0": "2022-07-29",
                                    "1": "member",
                                    "2": "4964"
                                },
                                {
                                    "0": "2022-07-30",
                                    "1": "member",
                                    "2": "4881"
                                },
                                {
                                    "0": "2022-07-31",
                                    "1": "member",
                                    "2": "4362"
                                },
                                {
                                    "0": "2022-08-01",
                                    "1": "member",
                                    "2": "10742"
                                },
                                {
                                    "0": "2022-08-02",
                                    "1": "member",
                                    "2": "11656"
                                },
                                {
                                    "0": "2022-08-03",
                                    "1": "member",
                                    "2": "10159"
                                },
                                {
                                    "0": "2022-08-04",
                                    "1": "member",
                                    "2": "11304"
                                },
                                {
                                    "0": "2022-08-05",
                                    "1": "member",
                                    "2": "10796"
                                },
                                {
                                    "0": "2022-08-06",
                                    "1": "member",
                                    "2": "9662"
                                },
                                {
                                    "0": "2022-08-07",
                                    "1": "member",
                                    "2": "6087"
                                },
                                {
                                    "0": "2022-08-08",
                                    "1": "member",
                                    "2": "6800"
                                },
                                {
                                    "0": "2022-08-09",
                                    "1": "member",
                                    "2": "12053"
                                },
                                {
                                    "0": "2022-08-10",
                                    "1": "member",
                                    "2": "12132"
                                },
                                {
                                    "0": "2022-08-11",
                                    "1": "member",
                                    "2": "11567"
                                },
                                {
                                    "0": "2022-08-12",
                                    "1": "member",
                                    "2": "10571"
                                },
                                {
                                    "0": "2022-08-13",
                                    "1": "member",
                                    "2": "10124"
                                },
                                {
                                    "0": "2022-08-14",
                                    "1": "member",
                                    "2": "8335"
                                },
                                {
                                    "0": "2022-08-15",
                                    "1": "member",
                                    "2": "10804"
                                },
                                {
                                    "0": "2022-08-16",
                                    "1": "member",
                                    "2": "11371"
                                },
                                {
                                    "0": "2022-08-17",
                                    "1": "member",
                                    "2": "11955"
                                },
                                {
                                    "0": "2022-08-18",
                                    "1": "member",
                                    "2": "11585"
                                },
                                {
                                    "0": "2022-08-19",
                                    "1": "member",
                                    "2": "11460"
                                },
                                {
                                    "0": "2022-08-20",
                                    "1": "member",
                                    "2": "7780"
                                },
                                {
                                    "0": "2022-08-21",
                                    "1": "member",
                                    "2": "9260"
                                },
                                {
                                    "0": "2022-08-22",
                                    "1": "member",
                                    "2": "11113"
                                },
                                {
                                    "0": "2022-08-23",
                                    "1": "member",
                                    "2": "12179"
                                },
                                {
                                    "0": "2022-08-24",
                                    "1": "member",
                                    "2": "12385"
                                },
                                {
                                    "0": "2022-08-25",
                                    "1": "member",
                                    "2": "9608"
                                },
                                {
                                    "0": "2022-08-26",
                                    "1": "member",
                                    "2": "11245"
                                },
                                {
                                    "0": "2022-08-27",
                                    "1": "member",
                                    "2": "10841"
                                },
                                {
                                    "0": "2022-08-28",
                                    "1": "member",
                                    "2": "8490"
                                },
                                {
                                    "0": "2022-08-29",
                                    "1": "member",
                                    "2": "9430"
                                },
                                {
                                    "0": "2022-08-30",
                                    "1": "member",
                                    "2": "12352"
                                },
                                {
                                    "0": "2022-08-31",
                                    "1": "member",
                                    "2": "12297"
                                }
                            ]
                        },
                        "text/html": [
                            "<table>",
                            "<tr><th>Rides_Date</th><th>User_type</th><th>num_rides</th></tr>",
                            "<tr><td>2021-09-01</td><td>casual</td><td>8146</td></tr>",
                            "<tr><td>2021-09-02</td><td>casual</td><td>8651</td></tr>",
                            "<tr><td>2021-09-03</td><td>casual</td><td>9375</td></tr>",
                            "<tr><td>2021-09-04</td><td>casual</td><td>14341</td></tr>",
                            "<tr><td>2021-09-05</td><td>casual</td><td>18518</td></tr>",
                            "<tr><td>2021-09-06</td><td>casual</td><td>15215</td></tr>",
                            "<tr><td>2021-09-07</td><td>casual</td><td>5969</td></tr>",
                            "<tr><td>2021-09-08</td><td>casual</td><td>7632</td></tr>",
                            "<tr><td>2021-09-09</td><td>casual</td><td>8187</td></tr>",
                            "<tr><td>2021-09-10</td><td>casual</td><td>10125</td></tr>",
                            "<tr><td>2021-09-11</td><td>casual</td><td>16539</td></tr>",
                            "<tr><td>2021-09-12</td><td>casual</td><td>12550</td></tr>",
                            "<tr><td>2021-09-13</td><td>casual</td><td>6816</td></tr>",
                            "<tr><td>2021-09-14</td><td>casual</td><td>7022</td></tr>",
                            "<tr><td>2021-09-15</td><td>casual</td><td>8113</td></tr>",
                            "<tr><td>2021-09-16</td><td>casual</td><td>9658</td></tr>",
                            "<tr><td>2021-09-17</td><td>casual</td><td>10576</td></tr>",
                            "<tr><td>2021-09-18</td><td>casual</td><td>16230</td></tr>",
                            "<tr><td>2021-09-19</td><td>casual</td><td>13595</td></tr>",
                            "<tr><td>2021-09-20</td><td>casual</td><td>5980</td></tr>",
                            "<tr><td>2021-09-21</td><td>casual</td><td>4796</td></tr>",
                            "<tr><td>2021-09-22</td><td>casual</td><td>4255</td></tr>",
                            "<tr><td>2021-09-23</td><td>casual</td><td>5700</td></tr>",
                            "<tr><td>2021-09-24</td><td>casual</td><td>8796</td></tr>",
                            "<tr><td>2021-09-25</td><td>casual</td><td>14319</td></tr>",
                            "<tr><td>2021-09-26</td><td>casual</td><td>11965</td></tr>",
                            "<tr><td>2021-09-27</td><td>casual</td><td>6270</td></tr>",
                            "<tr><td>2021-09-28</td><td>casual</td><td>6229</td></tr>",
                            "<tr><td>2021-09-29</td><td>casual</td><td>6600</td></tr>",
                            "<tr><td>2021-09-30</td><td>casual</td><td>6855</td></tr>",
                            "<tr><td>2021-10-01</td><td>casual</td><td>9263</td></tr>",
                            "<tr><td>2021-10-02</td><td>casual</td><td>10113</td></tr>",
                            "<tr><td>2021-10-03</td><td>casual</td><td>7754</td></tr>",
                            "<tr><td>2021-10-04</td><td>casual</td><td>4292</td></tr>",
                            "<tr><td>2021-10-05</td><td>casual</td><td>4809</td></tr>",
                            "<tr><td>2021-10-06</td><td>casual</td><td>5158</td></tr>",
                            "<tr><td>2021-10-07</td><td>casual</td><td>4233</td></tr>",
                            "<tr><td>2021-10-08</td><td>casual</td><td>6466</td></tr>",
                            "<tr><td>2021-10-09</td><td>casual</td><td>15280</td></tr>",
                            "<tr><td>2021-10-10</td><td>casual</td><td>14700</td></tr>",
                            "<tr><td>2021-10-11</td><td>casual</td><td>4070</td></tr>",
                            "<tr><td>2021-10-12</td><td>casual</td><td>4980</td></tr>",
                            "<tr><td>2021-10-13</td><td>casual</td><td>4179</td></tr>",
                            "<tr><td>2021-10-14</td><td>casual</td><td>5360</td></tr>",
                            "<tr><td>2021-10-15</td><td>casual</td><td>6000</td></tr>",
                            "<tr><td>2021-10-16</td><td>casual</td><td>10796</td></tr>",
                            "<tr><td>2021-10-17</td><td>casual</td><td>10238</td></tr>",
                            "<tr><td>2021-10-18</td><td>casual</td><td>5480</td></tr>",
                            "<tr><td>2021-10-19</td><td>casual</td><td>5641</td></tr>",
                            "<tr><td>2021-10-20</td><td>casual</td><td>5478</td></tr>",
                            "<tr><td>2021-10-21</td><td>casual</td><td>3523</td></tr>",
                            "<tr><td>2021-10-22</td><td>casual</td><td>5272</td></tr>",
                            "<tr><td>2021-10-23</td><td>casual</td><td>8401</td></tr>",
                            "<tr><td>2021-10-24</td><td>casual</td><td>1293</td></tr>",
                            "<tr><td>2021-10-25</td><td>casual</td><td>1523</td></tr>",
                            "<tr><td>2021-10-26</td><td>casual</td><td>3360</td></tr>",
                            "<tr><td>2021-10-27</td><td>casual</td><td>3540</td></tr>",
                            "<tr><td>2021-10-28</td><td>casual</td><td>1751</td></tr>",
                            "<tr><td>2021-10-29</td><td>casual</td><td>1182</td></tr>",
                            "<tr><td>2021-10-30</td><td>casual</td><td>6689</td></tr>",
                            "<tr><td>2021-10-31</td><td>casual</td><td>5754</td></tr>",
                            "<tr><td>2021-11-01</td><td>casual</td><td>1175</td></tr>",
                            "<tr><td>2021-11-02</td><td>casual</td><td>1014</td></tr>",
                            "<tr><td>2021-11-03</td><td>casual</td><td>1018</td></tr>",
                            "<tr><td>2021-11-04</td><td>casual</td><td>1087</td></tr>",
                            "<tr><td>2021-11-05</td><td>casual</td><td>1551</td></tr>",
                            "<tr><td>2021-11-06</td><td>casual</td><td>2965</td></tr>",
                            "<tr><td>2021-11-07</td><td>casual</td><td>2940</td></tr>",
                            "<tr><td>2021-11-08</td><td>casual</td><td>1483</td></tr>",
                            "<tr><td>2021-11-09</td><td>casual</td><td>1230</td></tr>",
                            "<tr><td>2021-11-10</td><td>casual</td><td>1325</td></tr>",
                            "<tr><td>2021-11-11</td><td>casual</td><td>868</td></tr>",
                            "<tr><td>2021-11-12</td><td>casual</td><td>732</td></tr>",
                            "<tr><td>2021-11-13</td><td>casual</td><td>1288</td></tr>",
                            "<tr><td>2021-11-14</td><td>casual</td><td>614</td></tr>",
                            "<tr><td>2021-11-15</td><td>casual</td><td>508</td></tr>",
                            "<tr><td>2021-11-16</td><td>casual</td><td>815</td></tr>",
                            "<tr><td>2021-11-17</td><td>casual</td><td>666</td></tr>",
                            "<tr><td>2021-11-18</td><td>casual</td><td>577</td></tr>",
                            "<tr><td>2021-11-19</td><td>casual</td><td>859</td></tr>",
                            "<tr><td>2021-11-20</td><td>casual</td><td>1797</td></tr>",
                            "<tr><td>2021-11-21</td><td>casual</td><td>1583</td></tr>",
                            "<tr><td>2021-11-22</td><td>casual</td><td>597</td></tr>",
                            "<tr><td>2021-11-23</td><td>casual</td><td>696</td></tr>",
                            "<tr><td>2021-11-24</td><td>casual</td><td>864</td></tr>",
                            "<tr><td>2021-11-25</td><td>casual</td><td>520</td></tr>",
                            "<tr><td>2021-11-26</td><td>casual</td><td>539</td></tr>",
                            "<tr><td>2021-11-27</td><td>casual</td><td>823</td></tr>",
                            "<tr><td>2021-11-28</td><td>casual</td><td>660</td></tr>",
                            "<tr><td>2021-11-29</td><td>casual</td><td>429</td></tr>",
                            "<tr><td>2021-11-30</td><td>casual</td><td>717</td></tr>",
                            "<tr><td>2021-12-01</td><td>casual</td><td>1690</td></tr>",
                            "<tr><td>2021-12-02</td><td>casual</td><td>2494</td></tr>",
                            "<tr><td>2021-12-03</td><td>casual</td><td>2631</td></tr>",
                            "<tr><td>2021-12-04</td><td>casual</td><td>3037</td></tr>",
                            "<tr><td>2021-12-05</td><td>casual</td><td>960</td></tr>",
                            "<tr><td>2021-12-06</td><td>casual</td><td>835</td></tr>",
                            "<tr><td>2021-12-07</td><td>casual</td><td>720</td></tr>",
                            "<tr><td>2021-12-08</td><td>casual</td><td>1118</td></tr>",
                            "<tr><td>2021-12-09</td><td>casual</td><td>1636</td></tr>",
                            "<tr><td>2021-12-10</td><td>casual</td><td>1301</td></tr>",
                            "<tr><td>2021-12-11</td><td>casual</td><td>1978</td></tr>",
                            "<tr><td>2021-12-12</td><td>casual</td><td>2133</td></tr>",
                            "<tr><td>2021-12-13</td><td>casual</td><td>1533</td></tr>",
                            "<tr><td>2021-12-14</td><td>casual</td><td>1736</td></tr>",
                            "<tr><td>2021-12-15</td><td>casual</td><td>2149</td></tr>",
                            "<tr><td>2021-12-16</td><td>casual</td><td>1508</td></tr>",
                            "<tr><td>2021-12-17</td><td>casual</td><td>1598</td></tr>",
                            "<tr><td>2021-12-18</td><td>casual</td><td>1284</td></tr>",
                            "<tr><td>2021-12-19</td><td>casual</td><td>1317</td></tr>",
                            "<tr><td>2021-12-20</td><td>casual</td><td>1457</td></tr>",
                            "<tr><td>2021-12-21</td><td>casual</td><td>1023</td></tr>",
                            "<tr><td>2021-12-22</td><td>casual</td><td>728</td></tr>",
                            "<tr><td>2021-12-23</td><td>casual</td><td>1114</td></tr>",
                            "<tr><td>2021-12-24</td><td>casual</td><td>1139</td></tr>",
                            "<tr><td>2021-12-25</td><td>casual</td><td>1156</td></tr>",
                            "<tr><td>2021-12-26</td><td>casual</td><td>1063</td></tr>",
                            "<tr><td>2021-12-27</td><td>casual</td><td>1031</td></tr>",
                            "<tr><td>2021-12-28</td><td>casual</td><td>373</td></tr>",
                            "<tr><td>2021-12-29</td><td>casual</td><td>890</td></tr>",
                            "<tr><td>2021-12-30</td><td>casual</td><td>1285</td></tr>",
                            "<tr><td>2021-12-31</td><td>casual</td><td>1590</td></tr>",
                            "<tr><td>2022-01-01</td><td>casual</td><td>1412</td></tr>",
                            "<tr><td>2022-01-02</td><td>casual</td><td>642</td></tr>",
                            "<tr><td>2022-01-03</td><td>casual</td><td>630</td></tr>",
                            "<tr><td>2022-01-04</td><td>casual</td><td>838</td></tr>",
                            "<tr><td>2022-01-05</td><td>casual</td><td>464</td></tr>",
                            "<tr><td>2022-01-06</td><td>casual</td><td>484</td></tr>",
                            "<tr><td>2022-01-07</td><td>casual</td><td>594</td></tr>",
                            "<tr><td>2022-01-08</td><td>casual</td><td>722</td></tr>",
                            "<tr><td>2022-01-09</td><td>casual</td><td>564</td></tr>",
                            "<tr><td>2022-01-10</td><td>casual</td><td>508</td></tr>",
                            "<tr><td>2022-01-11</td><td>casual</td><td>608</td></tr>",
                            "<tr><td>2022-01-12</td><td>casual</td><td>1360</td></tr>",
                            "<tr><td>2022-01-13</td><td>casual</td><td>1444</td></tr>",
                            "<tr><td>2022-01-14</td><td>casual</td><td>1254</td></tr>",
                            "<tr><td>2022-01-15</td><td>casual</td><td>1070</td></tr>",
                            "<tr><td>2022-01-16</td><td>casual</td><td>1128</td></tr>",
                            "<tr><td>2022-01-17</td><td>casual</td><td>942</td></tr>",
                            "<tr><td>2022-01-18</td><td>casual</td><td>1288</td></tr>",
                            "<tr><td>2022-01-19</td><td>casual</td><td>906</td></tr>",
                            "<tr><td>2022-01-20</td><td>casual</td><td>706</td></tr>",
                            "<tr><td>2022-01-21</td><td>casual</td><td>1076</td></tr>",
                            "<tr><td>2022-01-22</td><td>casual</td><td>1398</td></tr>",
                            "<tr><td>2022-01-23</td><td>casual</td><td>302</td></tr>",
                            "<tr><td>2022-01-24</td><td>casual</td><td>334</td></tr>",
                            "<tr><td>2022-01-25</td><td>casual</td><td>412</td></tr>",
                            "<tr><td>2022-01-26</td><td>casual</td><td>372</td></tr>",
                            "<tr><td>2022-01-27</td><td>casual</td><td>798</td></tr>",
                            "<tr><td>2022-01-28</td><td>casual</td><td>422</td></tr>",
                            "<tr><td>2022-01-29</td><td>casual</td><td>690</td></tr>",
                            "<tr><td>2022-01-30</td><td>casual</td><td>706</td></tr>",
                            "<tr><td>2022-01-31</td><td>casual</td><td>770</td></tr>",
                            "<tr><td>2022-02-01</td><td>casual</td><td>453</td></tr>",
                            "<tr><td>2022-02-02</td><td>casual</td><td>78</td></tr>",
                            "<tr><td>2022-02-03</td><td>casual</td><td>148</td></tr>",
                            "<tr><td>2022-02-04</td><td>casual</td><td>294</td></tr>",
                            "<tr><td>2022-02-05</td><td>casual</td><td>265</td></tr>",
                            "<tr><td>2022-02-06</td><td>casual</td><td>327</td></tr>",
                            "<tr><td>2022-02-07</td><td>casual</td><td>316</td></tr>",
                            "<tr><td>2022-02-08</td><td>casual</td><td>404</td></tr>",
                            "<tr><td>2022-02-09</td><td>casual</td><td>543</td></tr>",
                            "<tr><td>2022-02-10</td><td>casual</td><td>483</td></tr>",
                            "<tr><td>2022-02-11</td><td>casual</td><td>774</td></tr>",
                            "<tr><td>2022-02-12</td><td>casual</td><td>496</td></tr>",
                            "<tr><td>2022-02-13</td><td>casual</td><td>455</td></tr>",
                            "<tr><td>2022-02-14</td><td>casual</td><td>454</td></tr>",
                            "<tr><td>2022-02-15</td><td>casual</td><td>642</td></tr>",
                            "<tr><td>2022-02-16</td><td>casual</td><td>679</td></tr>",
                            "<tr><td>2022-02-17</td><td>casual</td><td>238</td></tr>",
                            "<tr><td>2022-02-18</td><td>casual</td><td>326</td></tr>",
                            "<tr><td>2022-02-19</td><td>casual</td><td>429</td></tr>",
                            "<tr><td>2022-02-20</td><td>casual</td><td>1106</td></tr>",
                            "<tr><td>2022-02-21</td><td>casual</td><td>1143</td></tr>",
                            "<tr><td>2022-02-22</td><td>casual</td><td>359</td></tr>",
                            "<tr><td>2022-02-23</td><td>casual</td><td>479</td></tr>",
                            "<tr><td>2022-02-24</td><td>casual</td><td>387</td></tr>",
                            "<tr><td>2022-02-25</td><td>casual</td><td>414</td></tr>",
                            "<tr><td>2022-02-26</td><td>casual</td><td>770</td></tr>",
                            "<tr><td>2022-02-27</td><td>casual</td><td>1244</td></tr>",
                            "<tr><td>2022-02-28</td><td>casual</td><td>1208</td></tr>",
                            "<tr><td>2022-03-01</td><td>casual</td><td>1349</td></tr>",
                            "<tr><td>2022-03-02</td><td>casual</td><td>1715</td></tr>",
                            "<tr><td>2022-03-03</td><td>casual</td><td>979</td></tr>",
                            "<tr><td>2022-03-04</td><td>casual</td><td>1384</td></tr>",
                            "<tr><td>2022-03-05</td><td>casual</td><td>8228</td></tr>",
                            "<tr><td>2022-03-06</td><td>casual</td><td>1769</td></tr>",
                            "<tr><td>2022-03-07</td><td>casual</td><td>529</td></tr>",
                            "<tr><td>2022-03-08</td><td>casual</td><td>1181</td></tr>",
                            "<tr><td>2022-03-09</td><td>casual</td><td>1460</td></tr>",
                            "<tr><td>2022-03-10</td><td>casual</td><td>856</td></tr>",
                            "<tr><td>2022-03-11</td><td>casual</td><td>806</td></tr>",
                            "<tr><td>2022-03-12</td><td>casual</td><td>1042</td></tr>",
                            "<tr><td>2022-03-13</td><td>casual</td><td>2939</td></tr>",
                            "<tr><td>2022-03-14</td><td>casual</td><td>2951</td></tr>",
                            "<tr><td>2022-03-15</td><td>casual</td><td>2070</td></tr>",
                            "<tr><td>2022-03-16</td><td>casual</td><td>5743</td></tr>",
                            "<tr><td>2022-03-17</td><td>casual</td><td>4534</td></tr>",
                            "<tr><td>2022-03-18</td><td>casual</td><td>885</td></tr>",
                            "<tr><td>2022-03-19</td><td>casual</td><td>1181</td></tr>",
                            "<tr><td>2022-03-20</td><td>casual</td><td>6741</td></tr>",
                            "<tr><td>2022-03-21</td><td>casual</td><td>6241</td></tr>",
                            "<tr><td>2022-03-22</td><td>casual</td><td>1313</td></tr>",
                            "<tr><td>2022-03-23</td><td>casual</td><td>1124</td></tr>",
                            "<tr><td>2022-03-24</td><td>casual</td><td>1122</td></tr>",
                            "<tr><td>2022-03-25</td><td>casual</td><td>1806</td></tr>",
                            "<tr><td>2022-03-26</td><td>casual</td><td>1218</td></tr>",
                            "<tr><td>2022-03-27</td><td>casual</td><td>1323</td></tr>",
                            "<tr><td>2022-03-28</td><td>casual</td><td>963</td></tr>",
                            "<tr><td>2022-03-29</td><td>casual</td><td>1120</td></tr>",
                            "<tr><td>2022-03-30</td><td>casual</td><td>650</td></tr>",
                            "<tr><td>2022-03-31</td><td>casual</td><td>931</td></tr>",
                            "<tr><td>2022-04-01</td><td>casual</td><td>1123</td></tr>",
                            "<tr><td>2022-04-02</td><td>casual</td><td>645</td></tr>",
                            "<tr><td>2022-04-03</td><td>casual</td><td>1160</td></tr>",
                            "<tr><td>2022-04-04</td><td>casual</td><td>886</td></tr>",
                            "<tr><td>2022-04-05</td><td>casual</td><td>930</td></tr>",
                            "<tr><td>2022-04-06</td><td>casual</td><td>970</td></tr>",
                            "<tr><td>2022-04-07</td><td>casual</td><td>692</td></tr>",
                            "<tr><td>2022-04-08</td><td>casual</td><td>473</td></tr>",
                            "<tr><td>2022-04-09</td><td>casual</td><td>1471</td></tr>",
                            "<tr><td>2022-04-10</td><td>casual</td><td>2694</td></tr>",
                            "<tr><td>2022-04-11</td><td>casual</td><td>1553</td></tr>",
                            "<tr><td>2022-04-12</td><td>casual</td><td>2040</td></tr>",
                            "<tr><td>2022-04-13</td><td>casual</td><td>712</td></tr>",
                            "<tr><td>2022-04-14</td><td>casual</td><td>1076</td></tr>",
                            "<tr><td>2022-04-15</td><td>casual</td><td>1377</td></tr>",
                            "<tr><td>2022-04-16</td><td>casual</td><td>2221</td></tr>",
                            "<tr><td>2022-04-17</td><td>casual</td><td>1008</td></tr>",
                            "<tr><td>2022-04-18</td><td>casual</td><td>494</td></tr>",
                            "<tr><td>2022-04-19</td><td>casual</td><td>898</td></tr>",
                            "<tr><td>2022-04-20</td><td>casual</td><td>672</td></tr>",
                            "<tr><td>2022-04-21</td><td>casual</td><td>2829</td></tr>",
                            "<tr><td>2022-04-22</td><td>casual</td><td>706</td></tr>",
                            "<tr><td>2022-04-23</td><td>casual</td><td>7972</td></tr>",
                            "<tr><td>2022-04-24</td><td>casual</td><td>2256</td></tr>",
                            "<tr><td>2022-04-25</td><td>casual</td><td>1188</td></tr>",
                            "<tr><td>2022-04-26</td><td>casual</td><td>1000</td></tr>",
                            "<tr><td>2022-04-27</td><td>casual</td><td>779</td></tr>",
                            "<tr><td>2022-04-28</td><td>casual</td><td>943</td></tr>",
                            "<tr><td>2022-04-29</td><td>casual</td><td>1961</td></tr>",
                            "<tr><td>2022-04-30</td><td>casual</td><td>1450</td></tr>",
                            "<tr><td>2022-05-01</td><td>casual</td><td>3758</td></tr>",
                            "<tr><td>2022-05-02</td><td>casual</td><td>2463</td></tr>",
                            "<tr><td>2022-05-03</td><td>casual</td><td>808</td></tr>",
                            "<tr><td>2022-05-04</td><td>casual</td><td>2974</td></tr>",
                            "<tr><td>2022-05-05</td><td>casual</td><td>1399</td></tr>",
                            "<tr><td>2022-05-06</td><td>casual</td><td>1431</td></tr>",
                            "<tr><td>2022-05-07</td><td>casual</td><td>8082</td></tr>",
                            "<tr><td>2022-05-08</td><td>casual</td><td>5749</td></tr>",
                            "<tr><td>2022-05-09</td><td>casual</td><td>6521</td></tr>",
                            "<tr><td>2022-05-10</td><td>casual</td><td>8109</td></tr>",
                            "<tr><td>2022-05-11</td><td>casual</td><td>7222</td></tr>",
                            "<tr><td>2022-05-12</td><td>casual</td><td>8239</td></tr>",
                            "<tr><td>2022-05-13</td><td>casual</td><td>10604</td></tr>",
                            "<tr><td>2022-05-14</td><td>casual</td><td>14078</td></tr>",
                            "<tr><td>2022-05-15</td><td>casual</td><td>8058</td></tr>",
                            "<tr><td>2022-05-16</td><td>casual</td><td>7733</td></tr>",
                            "<tr><td>2022-05-17</td><td>casual</td><td>4715</td></tr>",
                            "<tr><td>2022-05-18</td><td>casual</td><td>3596</td></tr>",
                            "<tr><td>2022-05-19</td><td>casual</td><td>8684</td></tr>",
                            "<tr><td>2022-05-20</td><td>casual</td><td>7133</td></tr>",
                            "<tr><td>2022-05-21</td><td>casual</td><td>4538</td></tr>",
                            "<tr><td>2022-05-22</td><td>casual</td><td>9175</td></tr>",
                            "<tr><td>2022-05-23</td><td>casual</td><td>5156</td></tr>",
                            "<tr><td>2022-05-24</td><td>casual</td><td>5491</td></tr>",
                            "<tr><td>2022-05-25</td><td>casual</td><td>3632</td></tr>",
                            "<tr><td>2022-05-26</td><td>casual</td><td>6676</td></tr>",
                            "<tr><td>2022-05-27</td><td>casual</td><td>4974</td></tr>",
                            "<tr><td>2022-05-28</td><td>casual</td><td>15458</td></tr>",
                            "<tr><td>2022-05-29</td><td>casual</td><td>17272</td></tr>",
                            "<tr><td>2022-05-30</td><td>casual</td><td>14890</td></tr>",
                            "<tr><td>2022-05-31</td><td>casual</td><td>7235</td></tr>",
                            "<tr><td>2022-06-01</td><td>casual</td><td>6629</td></tr>",
                            "<tr><td>2022-06-02</td><td>casual</td><td>7870</td></tr>",
                            "<tr><td>2022-06-03</td><td>casual</td><td>11053</td></tr>",
                            "<tr><td>2022-06-04</td><td>casual</td><td>10917</td></tr>",
                            "<tr><td>2022-06-05</td><td>casual</td><td>12538</td></tr>",
                            "<tr><td>2022-06-06</td><td>casual</td><td>3821</td></tr>",
                            "<tr><td>2022-06-07</td><td>casual</td><td>6045</td></tr>",
                            "<tr><td>2022-06-08</td><td>casual</td><td>4082</td></tr>",
                            "<tr><td>2022-06-09</td><td>casual</td><td>8724</td></tr>",
                            "<tr><td>2022-06-10</td><td>casual</td><td>7994</td></tr>",
                            "<tr><td>2022-06-11</td><td>casual</td><td>14672</td></tr>",
                            "<tr><td>2022-06-12</td><td>casual</td><td>10469</td></tr>",
                            "<tr><td>2022-06-13</td><td>casual</td><td>5757</td></tr>",
                            "<tr><td>2022-06-14</td><td>casual</td><td>8022</td></tr>",
                            "<tr><td>2022-06-15</td><td>casual</td><td>8496</td></tr>",
                            "<tr><td>2022-06-16</td><td>casual</td><td>8937</td></tr>",
                            "<tr><td>2022-06-17</td><td>casual</td><td>12352</td></tr>",
                            "<tr><td>2022-06-18</td><td>casual</td><td>16392</td></tr>",
                            "<tr><td>2022-06-19</td><td>casual</td><td>14039</td></tr>",
                            "<tr><td>2022-06-20</td><td>casual</td><td>11021</td></tr>",
                            "<tr><td>2022-06-21</td><td>casual</td><td>7539</td></tr>",
                            "<tr><td>2022-06-22</td><td>casual</td><td>8641</td></tr>",
                            "<tr><td>2022-06-23</td><td>casual</td><td>9114</td></tr>",
                            "<tr><td>2022-06-24</td><td>casual</td><td>11647</td></tr>",
                            "<tr><td>2022-06-25</td><td>casual</td><td>9233</td></tr>",
                            "<tr><td>2022-06-26</td><td>casual</td><td>15078</td></tr>",
                            "<tr><td>2022-06-27</td><td>casual</td><td>8206</td></tr>",
                            "<tr><td>2022-06-28</td><td>casual</td><td>8169</td></tr>",
                            "<tr><td>2022-06-29</td><td>casual</td><td>9198</td></tr>",
                            "<tr><td>2022-06-30</td><td>casual</td><td>9397</td></tr>",
                            "<tr><td>2022-07-01</td><td>casual</td><td>4056</td></tr>",
                            "<tr><td>2022-07-02</td><td>casual</td><td>7075</td></tr>",
                            "<tr><td>2022-07-03</td><td>casual</td><td>6964</td></tr>",
                            "<tr><td>2022-07-04</td><td>casual</td><td>5135</td></tr>",
                            "<tr><td>2022-07-05</td><td>casual</td><td>3052</td></tr>",
                            "<tr><td>2022-07-06</td><td>casual</td><td>3477</td></tr>",
                            "<tr><td>2022-07-07</td><td>casual</td><td>3758</td></tr>",
                            "<tr><td>2022-07-08</td><td>casual</td><td>3845</td></tr>",
                            "<tr><td>2022-07-09</td><td>casual</td><td>8056</td></tr>",
                            "<tr><td>2022-07-10</td><td>casual</td><td>6250</td></tr>",
                            "<tr><td>2022-07-11</td><td>casual</td><td>3473</td></tr>",
                            "<tr><td>2022-07-12</td><td>casual</td><td>3787</td></tr>",
                            "<tr><td>2022-07-13</td><td>casual</td><td>4041</td></tr>",
                            "<tr><td>2022-07-14</td><td>casual</td><td>4353</td></tr>",
                            "<tr><td>2022-07-15</td><td>casual</td><td>1697</td></tr>",
                            "<tr><td>2022-07-16</td><td>casual</td><td>6942</td></tr>",
                            "<tr><td>2022-07-17</td><td>casual</td><td>4583</td></tr>",
                            "<tr><td>2022-07-18</td><td>casual</td><td>3811</td></tr>",
                            "<tr><td>2022-07-19</td><td>casual</td><td>3675</td></tr>",
                            "<tr><td>2022-07-20</td><td>casual</td><td>4041</td></tr>",
                            "<tr><td>2022-07-21</td><td>casual</td><td>3952</td></tr>",
                            "<tr><td>2022-07-22</td><td>casual</td><td>4704</td></tr>",
                            "<tr><td>2022-07-23</td><td>casual</td><td>6494</td></tr>",
                            "<tr><td>2022-07-24</td><td>casual</td><td>5361</td></tr>",
                            "<tr><td>2022-07-25</td><td>casual</td><td>3730</td></tr>",
                            "<tr><td>2022-07-26</td><td>casual</td><td>3738</td></tr>",
                            "<tr><td>2022-07-27</td><td>casual</td><td>3569</td></tr>",
                            "<tr><td>2022-07-28</td><td>casual</td><td>4240</td></tr>",
                            "<tr><td>2022-07-29</td><td>casual</td><td>5326</td></tr>",
                            "<tr><td>2022-07-30</td><td>casual</td><td>7005</td></tr>",
                            "<tr><td>2022-07-31</td><td>casual</td><td>6024</td></tr>",
                            "<tr><td>2022-08-01</td><td>casual</td><td>7666</td></tr>",
                            "<tr><td>2022-08-02</td><td>casual</td><td>8025</td></tr>",
                            "<tr><td>2022-08-03</td><td>casual</td><td>6175</td></tr>",
                            "<tr><td>2022-08-04</td><td>casual</td><td>8039</td></tr>",
                            "<tr><td>2022-08-05</td><td>casual</td><td>10985</td></tr>",
                            "<tr><td>2022-08-06</td><td>casual</td><td>13734</td></tr>",
                            "<tr><td>2022-08-07</td><td>casual</td><td>6263</td></tr>",
                            "<tr><td>2022-08-08</td><td>casual</td><td>3691</td></tr>",
                            "<tr><td>2022-08-09</td><td>casual</td><td>7926</td></tr>",
                            "<tr><td>2022-08-10</td><td>casual</td><td>8585</td></tr>",
                            "<tr><td>2022-08-11</td><td>casual</td><td>8477</td></tr>",
                            "<tr><td>2022-08-12</td><td>casual</td><td>9755</td></tr>",
                            "<tr><td>2022-08-13</td><td>casual</td><td>13131</td></tr>",
                            "<tr><td>2022-08-14</td><td>casual</td><td>9733</td></tr>",
                            "<tr><td>2022-08-15</td><td>casual</td><td>7499</td></tr>",
                            "<tr><td>2022-08-16</td><td>casual</td><td>7599</td></tr>",
                            "<tr><td>2022-08-17</td><td>casual</td><td>7830</td></tr>",
                            "<tr><td>2022-08-18</td><td>casual</td><td>8569</td></tr>",
                            "<tr><td>2022-08-19</td><td>casual</td><td>11645</td></tr>",
                            "<tr><td>2022-08-20</td><td>casual</td><td>9584</td></tr>",
                            "<tr><td>2022-08-21</td><td>casual</td><td>10796</td></tr>",
                            "<tr><td>2022-08-22</td><td>casual</td><td>7328</td></tr>",
                            "<tr><td>2022-08-23</td><td>casual</td><td>7568</td></tr>",
                            "<tr><td>2022-08-24</td><td>casual</td><td>8153</td></tr>",
                            "<tr><td>2022-08-25</td><td>casual</td><td>5840</td></tr>",
                            "<tr><td>2022-08-26</td><td>casual</td><td>9093</td></tr>",
                            "<tr><td>2022-08-27</td><td>casual</td><td>13113</td></tr>",
                            "<tr><td>2022-08-28</td><td>casual</td><td>9047</td></tr>",
                            "<tr><td>2022-08-29</td><td>casual</td><td>4721</td></tr>",
                            "<tr><td>2022-08-30</td><td>casual</td><td>6717</td></tr>",
                            "<tr><td>2022-08-31</td><td>casual</td><td>6952</td></tr>",
                            "<tr><td>2021-09-01</td><td>member</td><td>12481</td></tr>",
                            "<tr><td>2021-09-02</td><td>member</td><td>11608</td></tr>",
                            "<tr><td>2021-09-03</td><td>member</td><td>9760</td></tr>",
                            "<tr><td>2021-09-04</td><td>member</td><td>8654</td></tr>",
                            "<tr><td>2021-09-05</td><td>member</td><td>9135</td></tr>",
                            "<tr><td>2021-09-06</td><td>member</td><td>9156</td></tr>",
                            "<tr><td>2021-09-07</td><td>member</td><td>9660</td></tr>",
                            "<tr><td>2021-09-08</td><td>member</td><td>12208</td></tr>",
                            "<tr><td>2021-09-09</td><td>member</td><td>12197</td></tr>",
                            "<tr><td>2021-09-10</td><td>member</td><td>11615</td></tr>",
                            "<tr><td>2021-09-11</td><td>member</td><td>11010</td></tr>",
                            "<tr><td>2021-09-12</td><td>member</td><td>9787</td></tr>",
                            "<tr><td>2021-09-13</td><td>member</td><td>10645</td></tr>",
                            "<tr><td>2021-09-14</td><td>member</td><td>12000</td></tr>",
                            "<tr><td>2021-09-15</td><td>member</td><td>12382</td></tr>",
                            "<tr><td>2021-09-16</td><td>member</td><td>12383</td></tr>",
                            "<tr><td>2021-09-17</td><td>member</td><td>10803</td></tr>",
                            "<tr><td>2021-09-18</td><td>member</td><td>10695</td></tr>",
                            "<tr><td>2021-09-19</td><td>member</td><td>9504</td></tr>",
                            "<tr><td>2021-09-20</td><td>member</td><td>9692</td></tr>",
                            "<tr><td>2021-09-21</td><td>member</td><td>9436</td></tr>",
                            "<tr><td>2021-09-22</td><td>member</td><td>9130</td></tr>",
                            "<tr><td>2021-09-23</td><td>member</td><td>10656</td></tr>",
                            "<tr><td>2021-09-24</td><td>member</td><td>10665</td></tr>",
                            "<tr><td>2021-09-25</td><td>member</td><td>10118</td></tr>",
                            "<tr><td>2021-09-26</td><td>member</td><td>9382</td></tr>",
                            "<tr><td>2021-09-27</td><td>member</td><td>10669</td></tr>",
                            "<tr><td>2021-09-28</td><td>member</td><td>11704</td></tr>",
                            "<tr><td>2021-09-29</td><td>member</td><td>12131</td></tr>",
                            "<tr><td>2021-09-30</td><td>member</td><td>12005</td></tr>",
                            "<tr><td>2021-10-01</td><td>member</td><td>12079</td></tr>",
                            "<tr><td>2021-10-02</td><td>member</td><td>9350</td></tr>",
                            "<tr><td>2021-10-03</td><td>member</td><td>7694</td></tr>",
                            "<tr><td>2021-10-04</td><td>member</td><td>9778</td></tr>",
                            "<tr><td>2021-10-05</td><td>member</td><td>11314</td></tr>",
                            "<tr><td>2021-10-06</td><td>member</td><td>11467</td></tr>",
                            "<tr><td>2021-10-07</td><td>member</td><td>8747</td></tr>",
                            "<tr><td>2021-10-08</td><td>member</td><td>10114</td></tr>",
                            "<tr><td>2021-10-09</td><td>member</td><td>11264</td></tr>",
                            "<tr><td>2021-10-10</td><td>member</td><td>10203</td></tr>",
                            "<tr><td>2021-10-11</td><td>member</td><td>6465</td></tr>",
                            "<tr><td>2021-10-12</td><td>member</td><td>10707</td></tr>",
                            "<tr><td>2021-10-13</td><td>member</td><td>10224</td></tr>",
                            "<tr><td>2021-10-14</td><td>member</td><td>10985</td></tr>",
                            "<tr><td>2021-10-15</td><td>member</td><td>9693</td></tr>",
                            "<tr><td>2021-10-16</td><td>member</td><td>9645</td></tr>",
                            "<tr><td>2021-10-17</td><td>member</td><td>9047</td></tr>",
                            "<tr><td>2021-10-18</td><td>member</td><td>10637</td></tr>",
                            "<tr><td>2021-10-19</td><td>member</td><td>12254</td></tr>",
                            "<tr><td>2021-10-20</td><td>member</td><td>12000</td></tr>",
                            "<tr><td>2021-10-21</td><td>member</td><td>9209</td></tr>",
                            "<tr><td>2021-10-22</td><td>member</td><td>9391</td></tr>",
                            "<tr><td>2021-10-23</td><td>member</td><td>8588</td></tr>",
                            "<tr><td>2021-10-24</td><td>member</td><td>2322</td></tr>",
                            "<tr><td>2021-10-25</td><td>member</td><td>4731</td></tr>",
                            "<tr><td>2021-10-26</td><td>member</td><td>9968</td></tr>",
                            "<tr><td>2021-10-27</td><td>member</td><td>10212</td></tr>",
                            "<tr><td>2021-10-28</td><td>member</td><td>5909</td></tr>",
                            "<tr><td>2021-10-29</td><td>member</td><td>3402</td></tr>",
                            "<tr><td>2021-10-30</td><td>member</td><td>8004</td></tr>",
                            "<tr><td>2021-10-31</td><td>member</td><td>6679</td></tr>",
                            "<tr><td>2021-11-01</td><td>member</td><td>3219</td></tr>",
                            "<tr><td>2021-11-02</td><td>member</td><td>3315</td></tr>",
                            "<tr><td>2021-11-03</td><td>member</td><td>3382</td></tr>",
                            "<tr><td>2021-11-04</td><td>member</td><td>3361</td></tr>",
                            "<tr><td>2021-11-05</td><td>member</td><td>3167</td></tr>",
                            "<tr><td>2021-11-06</td><td>member</td><td>3218</td></tr>",
                            "<tr><td>2021-11-07</td><td>member</td><td>3214</td></tr>",
                            "<tr><td>2021-11-08</td><td>member</td><td>3863</td></tr>",
                            "<tr><td>2021-11-09</td><td>member</td><td>3813</td></tr>",
                            "<tr><td>2021-11-10</td><td>member</td><td>3850</td></tr>",
                            "<tr><td>2021-11-11</td><td>member</td><td>2576</td></tr>",
                            "<tr><td>2021-11-12</td><td>member</td><td>2181</td></tr>",
                            "<tr><td>2021-11-13</td><td>member</td><td>1978</td></tr>",
                            "<tr><td>2021-11-14</td><td>member</td><td>1421</td></tr>",
                            "<tr><td>2021-11-15</td><td>member</td><td>2302</td></tr>",
                            "<tr><td>2021-11-16</td><td>member</td><td>3308</td></tr>",
                            "<tr><td>2021-11-17</td><td>member</td><td>2718</td></tr>",
                            "<tr><td>2021-11-18</td><td>member</td><td>2498</td></tr>",
                            "<tr><td>2021-11-19</td><td>member</td><td>2419</td></tr>",
                            "<tr><td>2021-11-20</td><td>member</td><td>2343</td></tr>",
                            "<tr><td>2021-11-21</td><td>member</td><td>1997</td></tr>",
                            "<tr><td>2021-11-22</td><td>member</td><td>2034</td></tr>",
                            "<tr><td>2021-11-23</td><td>member</td><td>2337</td></tr>",
                            "<tr><td>2021-11-24</td><td>member</td><td>1909</td></tr>",
                            "<tr><td>2021-11-25</td><td>member</td><td>728</td></tr>",
                            "<tr><td>2021-11-26</td><td>member</td><td>858</td></tr>",
                            "<tr><td>2021-11-27</td><td>member</td><td>1138</td></tr>",
                            "<tr><td>2021-11-28</td><td>member</td><td>1294</td></tr>",
                            "<tr><td>2021-11-29</td><td>member</td><td>2141</td></tr>",
                            "<tr><td>2021-11-30</td><td>member</td><td>2763</td></tr>",
                            "<tr><td>2021-12-01</td><td>member</td><td>6893</td></tr>",
                            "<tr><td>2021-12-02</td><td>member</td><td>7904</td></tr>",
                            "<tr><td>2021-12-03</td><td>member</td><td>6787</td></tr>",
                            "<tr><td>2021-12-04</td><td>member</td><td>5287</td></tr>",
                            "<tr><td>2021-12-05</td><td>member</td><td>2068</td></tr>",
                            "<tr><td>2021-12-06</td><td>member</td><td>4513</td></tr>",
                            "<tr><td>2021-12-07</td><td>member</td><td>4413</td></tr>",
                            "<tr><td>2021-12-08</td><td>member</td><td>5355</td></tr>",
                            "<tr><td>2021-12-09</td><td>member</td><td>5956</td></tr>",
                            "<tr><td>2021-12-10</td><td>member</td><td>4273</td></tr>",
                            "<tr><td>2021-12-11</td><td>member</td><td>3804</td></tr>",
                            "<tr><td>2021-12-12</td><td>member</td><td>4228</td></tr>",
                            "<tr><td>2021-12-13</td><td>member</td><td>5670</td></tr>",
                            "<tr><td>2021-12-14</td><td>member</td><td>6451</td></tr>",
                            "<tr><td>2021-12-15</td><td>member</td><td>6736</td></tr>",
                            "<tr><td>2021-12-16</td><td>member</td><td>5215</td></tr>",
                            "<tr><td>2021-12-17</td><td>member</td><td>4792</td></tr>",
                            "<tr><td>2021-12-18</td><td>member</td><td>3031</td></tr>",
                            "<tr><td>2021-12-19</td><td>member</td><td>2811</td></tr>",
                            "<tr><td>2021-12-20</td><td>member</td><td>4062</td></tr>",
                            "<tr><td>2021-12-21</td><td>member</td><td>3915</td></tr>",
                            "<tr><td>2021-12-22</td><td>member</td><td>2905</td></tr>",
                            "<tr><td>2021-12-23</td><td>member</td><td>3128</td></tr>",
                            "<tr><td>2021-12-24</td><td>member</td><td>2011</td></tr>",
                            "<tr><td>2021-12-25</td><td>member</td><td>1075</td></tr>",
                            "<tr><td>2021-12-26</td><td>member</td><td>1605</td></tr>",
                            "<tr><td>2021-12-27</td><td>member</td><td>2426</td></tr>",
                            "<tr><td>2021-12-28</td><td>member</td><td>1628</td></tr>",
                            "<tr><td>2021-12-29</td><td>member</td><td>2958</td></tr>",
                            "<tr><td>2021-12-30</td><td>member</td><td>3221</td></tr>",
                            "<tr><td>2021-12-31</td><td>member</td><td>3003</td></tr>",
                            "<tr><td>2022-01-01</td><td>member</td><td>2010</td></tr>",
                            "<tr><td>2022-01-02</td><td>member</td><td>2170</td></tr>",
                            "<tr><td>2022-01-03</td><td>member</td><td>3906</td></tr>",
                            "<tr><td>2022-01-04</td><td>member</td><td>5716</td></tr>",
                            "<tr><td>2022-01-05</td><td>member</td><td>3406</td></tr>",
                            "<tr><td>2022-01-06</td><td>member</td><td>3700</td></tr>",
                            "<tr><td>2022-01-07</td><td>member</td><td>3220</td></tr>",
                            "<tr><td>2022-01-08</td><td>member</td><td>3170</td></tr>",
                            "<tr><td>2022-01-09</td><td>member</td><td>2584</td></tr>",
                            "<tr><td>2022-01-10</td><td>member</td><td>3450</td></tr>",
                            "<tr><td>2022-01-11</td><td>member</td><td>4728</td></tr>",
                            "<tr><td>2022-01-12</td><td>member</td><td>7378</td></tr>",
                            "<tr><td>2022-01-13</td><td>member</td><td>7834</td></tr>",
                            "<tr><td>2022-01-14</td><td>member</td><td>6240</td></tr>",
                            "<tr><td>2022-01-15</td><td>member</td><td>3510</td></tr>",
                            "<tr><td>2022-01-16</td><td>member</td><td>3864</td></tr>",
                            "<tr><td>2022-01-17</td><td>member</td><td>4576</td></tr>",
                            "<tr><td>2022-01-18</td><td>member</td><td>7546</td></tr>",
                            "<tr><td>2022-01-19</td><td>member</td><td>6508</td></tr>",
                            "<tr><td>2022-01-20</td><td>member</td><td>5136</td></tr>",
                            "<tr><td>2022-01-21</td><td>member</td><td>5804</td></tr>",
                            "<tr><td>2022-01-22</td><td>member</td><td>4810</td></tr>",
                            "<tr><td>2022-01-23</td><td>member</td><td>1782</td></tr>",
                            "<tr><td>2022-01-24</td><td>member</td><td>2412</td></tr>",
                            "<tr><td>2022-01-25</td><td>member</td><td>3346</td></tr>",
                            "<tr><td>2022-01-26</td><td>member</td><td>3104</td></tr>",
                            "<tr><td>2022-01-27</td><td>member</td><td>5502</td></tr>",
                            "<tr><td>2022-01-28</td><td>member</td><td>2478</td></tr>",
                            "<tr><td>2022-01-29</td><td>member</td><td>2836</td></tr>",
                            "<tr><td>2022-01-30</td><td>member</td><td>3074</td></tr>",
                            "<tr><td>2022-01-31</td><td>member</td><td>6180</td></tr>",
                            "<tr><td>2022-02-01</td><td>member</td><td>3225</td></tr>",
                            "<tr><td>2022-02-02</td><td>member</td><td>390</td></tr>",
                            "<tr><td>2022-02-03</td><td>member</td><td>1308</td></tr>",
                            "<tr><td>2022-02-04</td><td>member</td><td>1622</td></tr>",
                            "<tr><td>2022-02-05</td><td>member</td><td>1285</td></tr>",
                            "<tr><td>2022-02-06</td><td>member</td><td>1552</td></tr>",
                            "<tr><td>2022-02-07</td><td>member</td><td>2494</td></tr>",
                            "<tr><td>2022-02-08</td><td>member</td><td>3202</td></tr>",
                            "<tr><td>2022-02-09</td><td>member</td><td>3530</td></tr>",
                            "<tr><td>2022-02-10</td><td>member</td><td>3327</td></tr>",
                            "<tr><td>2022-02-11</td><td>member</td><td>3393</td></tr>",
                            "<tr><td>2022-02-12</td><td>member</td><td>1884</td></tr>",
                            "<tr><td>2022-02-13</td><td>member</td><td>1677</td></tr>",
                            "<tr><td>2022-02-14</td><td>member</td><td>2893</td></tr>",
                            "<tr><td>2022-02-15</td><td>member</td><td>3883</td></tr>",
                            "<tr><td>2022-02-16</td><td>member</td><td>3869</td></tr>",
                            "<tr><td>2022-02-17</td><td>member</td><td>1726</td></tr>",
                            "<tr><td>2022-02-18</td><td>member</td><td>1764</td></tr>",
                            "<tr><td>2022-02-19</td><td>member</td><td>1681</td></tr>",
                            "<tr><td>2022-02-20</td><td>member</td><td>2614</td></tr>",
                            "<tr><td>2022-02-21</td><td>member</td><td>3967</td></tr>",
                            "<tr><td>2022-02-22</td><td>member</td><td>2449</td></tr>",
                            "<tr><td>2022-02-23</td><td>member</td><td>3334</td></tr>",
                            "<tr><td>2022-02-24</td><td>member</td><td>2658</td></tr>",
                            "<tr><td>2022-02-25</td><td>member</td><td>2172</td></tr>",
                            "<tr><td>2022-02-26</td><td>member</td><td>2351</td></tr>",
                            "<tr><td>2022-02-27</td><td>member</td><td>2767</td></tr>",
                            "<tr><td>2022-02-28</td><td>member</td><td>5009</td></tr>",
                            "<tr><td>2022-03-01</td><td>member</td><td>5406</td></tr>",
                            "<tr><td>2022-03-02</td><td>member</td><td>5903</td></tr>",
                            "<tr><td>2022-03-03</td><td>member</td><td>4491</td></tr>",
                            "<tr><td>2022-03-04</td><td>member</td><td>4443</td></tr>",
                            "<tr><td>2022-03-05</td><td>member</td><td>7138</td></tr>",
                            "<tr><td>2022-03-06</td><td>member</td><td>3142</td></tr>",
                            "<tr><td>2022-03-07</td><td>member</td><td>2926</td></tr>",
                            "<tr><td>2022-03-08</td><td>member</td><td>5217</td></tr>",
                            "<tr><td>2022-03-09</td><td>member</td><td>5407</td></tr>",
                            "<tr><td>2022-03-10</td><td>member</td><td>4060</td></tr>",
                            "<tr><td>2022-03-11</td><td>member</td><td>3137</td></tr>",
                            "<tr><td>2022-03-12</td><td>member</td><td>2263</td></tr>",
                            "<tr><td>2022-03-13</td><td>member</td><td>3839</td></tr>",
                            "<tr><td>2022-03-14</td><td>member</td><td>6471</td></tr>",
                            "<tr><td>2022-03-15</td><td>member</td><td>6081</td></tr>",
                            "<tr><td>2022-03-16</td><td>member</td><td>8942</td></tr>",
                            "<tr><td>2022-03-17</td><td>member</td><td>7538</td></tr>",
                            "<tr><td>2022-03-18</td><td>member</td><td>2763</td></tr>",
                            "<tr><td>2022-03-19</td><td>member</td><td>2374</td></tr>",
                            "<tr><td>2022-03-20</td><td>member</td><td>6383</td></tr>",
                            "<tr><td>2022-03-21</td><td>member</td><td>8546</td></tr>",
                            "<tr><td>2022-03-22</td><td>member</td><td>4245</td></tr>",
                            "<tr><td>2022-03-23</td><td>member</td><td>4110</td></tr>",
                            "<tr><td>2022-03-24</td><td>member</td><td>3953</td></tr>",
                            "<tr><td>2022-03-25</td><td>member</td><td>4557</td></tr>",
                            "<tr><td>2022-03-26</td><td>member</td><td>2625</td></tr>",
                            "<tr><td>2022-03-27</td><td>member</td><td>2789</td></tr>",
                            "<tr><td>2022-03-28</td><td>member</td><td>4276</td></tr>",
                            "<tr><td>2022-03-29</td><td>member</td><td>5047</td></tr>",
                            "<tr><td>2022-03-30</td><td>member</td><td>3217</td></tr>",
                            "<tr><td>2022-03-31</td><td>member</td><td>3956</td></tr>",
                            "<tr><td>2022-04-01</td><td>member</td><td>2277</td></tr>",
                            "<tr><td>2022-04-02</td><td>member</td><td>1200</td></tr>",
                            "<tr><td>2022-04-03</td><td>member</td><td>1631</td></tr>",
                            "<tr><td>2022-04-04</td><td>member</td><td>2525</td></tr>",
                            "<tr><td>2022-04-05</td><td>member</td><td>2864</td></tr>",
                            "<tr><td>2022-04-06</td><td>member</td><td>2641</td></tr>",
                            "<tr><td>2022-04-07</td><td>member</td><td>2177</td></tr>",
                            "<tr><td>2022-04-08</td><td>member</td><td>1523</td></tr>",
                            "<tr><td>2022-04-09</td><td>member</td><td>1947</td></tr>",
                            "<tr><td>2022-04-10</td><td>member</td><td>2724</td></tr>",
                            "<tr><td>2022-04-11</td><td>member</td><td>3175</td></tr>",
                            "<tr><td>2022-04-12</td><td>member</td><td>3667</td></tr>",
                            "<tr><td>2022-04-13</td><td>member</td><td>2014</td></tr>",
                            "<tr><td>2022-04-14</td><td>member</td><td>2610</td></tr>",
                            "<tr><td>2022-04-15</td><td>member</td><td>2063</td></tr>",
                            "<tr><td>2022-04-16</td><td>member</td><td>2128</td></tr>",
                            "<tr><td>2022-04-17</td><td>member</td><td>1330</td></tr>",
                            "<tr><td>2022-04-18</td><td>member</td><td>1816</td></tr>",
                            "<tr><td>2022-04-19</td><td>member</td><td>2940</td></tr>",
                            "<tr><td>2022-04-20</td><td>member</td><td>2483</td></tr>",
                            "<tr><td>2022-04-21</td><td>member</td><td>4317</td></tr>",
                            "<tr><td>2022-04-22</td><td>member</td><td>1770</td></tr>",
                            "<tr><td>2022-04-23</td><td>member</td><td>4895</td></tr>",
                            "<tr><td>2022-04-24</td><td>member</td><td>2036</td></tr>",
                            "<tr><td>2022-04-25</td><td>member</td><td>2957</td></tr>",
                            "<tr><td>2022-04-26</td><td>member</td><td>3050</td></tr>",
                            "<tr><td>2022-04-27</td><td>member</td><td>2651</td></tr>",
                            "<tr><td>2022-04-28</td><td>member</td><td>2655</td></tr>",
                            "<tr><td>2022-04-29</td><td>member</td><td>3012</td></tr>",
                            "<tr><td>2022-04-30</td><td>member</td><td>1736</td></tr>",
                            "<tr><td>2022-05-01</td><td>member</td><td>5153</td></tr>",
                            "<tr><td>2022-05-02</td><td>member</td><td>7292</td></tr>",
                            "<tr><td>2022-05-03</td><td>member</td><td>3053</td></tr>",
                            "<tr><td>2022-05-04</td><td>member</td><td>8049</td></tr>",
                            "<tr><td>2022-05-05</td><td>member</td><td>4815</td></tr>",
                            "<tr><td>2022-05-06</td><td>member</td><td>3732</td></tr>",
                            "<tr><td>2022-05-07</td><td>member</td><td>7687</td></tr>",
                            "<tr><td>2022-05-08</td><td>member</td><td>6186</td></tr>",
                            "<tr><td>2022-05-09</td><td>member</td><td>10385</td></tr>",
                            "<tr><td>2022-05-10</td><td>member</td><td>12140</td></tr>",
                            "<tr><td>2022-05-11</td><td>member</td><td>11419</td></tr>",
                            "<tr><td>2022-05-12</td><td>member</td><td>11699</td></tr>",
                            "<tr><td>2022-05-13</td><td>member</td><td>11695</td></tr>",
                            "<tr><td>2022-05-14</td><td>member</td><td>11425</td></tr>",
                            "<tr><td>2022-05-15</td><td>member</td><td>7586</td></tr>",
                            "<tr><td>2022-05-16</td><td>member</td><td>11480</td></tr>",
                            "<tr><td>2022-05-17</td><td>member</td><td>9896</td></tr>",
                            "<tr><td>2022-05-18</td><td>member</td><td>7836</td></tr>",
                            "<tr><td>2022-05-19</td><td>member</td><td>12509</td></tr>",
                            "<tr><td>2022-05-20</td><td>member</td><td>9621</td></tr>",
                            "<tr><td>2022-05-21</td><td>member</td><td>5369</td></tr>",
                            "<tr><td>2022-05-22</td><td>member</td><td>8702</td></tr>",
                            "<tr><td>2022-05-23</td><td>member</td><td>9540</td></tr>",
                            "<tr><td>2022-05-24</td><td>member</td><td>10480</td></tr>",
                            "<tr><td>2022-05-25</td><td>member</td><td>7704</td></tr>",
                            "<tr><td>2022-05-26</td><td>member</td><td>11060</td></tr>",
                            "<tr><td>2022-05-27</td><td>member</td><td>7461</td></tr>",
                            "<tr><td>2022-05-28</td><td>member</td><td>10222</td></tr>",
                            "<tr><td>2022-05-29</td><td>member</td><td>9669</td></tr>",
                            "<tr><td>2022-05-30</td><td>member</td><td>9792</td></tr>",
                            "<tr><td>2022-05-31</td><td>member</td><td>11331</td></tr>",
                            "<tr><td>2022-06-01</td><td>member</td><td>11254</td></tr>",
                            "<tr><td>2022-06-02</td><td>member</td><td>11737</td></tr>",
                            "<tr><td>2022-06-03</td><td>member</td><td>11991</td></tr>",
                            "<tr><td>2022-06-04</td><td>member</td><td>9217</td></tr>",
                            "<tr><td>2022-06-05</td><td>member</td><td>9971</td></tr>",
                            "<tr><td>2022-06-06</td><td>member</td><td>7143</td></tr>",
                            "<tr><td>2022-06-07</td><td>member</td><td>10667</td></tr>",
                            "<tr><td>2022-06-08</td><td>member</td><td>8665</td></tr>",
                            "<tr><td>2022-06-09</td><td>member</td><td>11853</td></tr>",
                            "<tr><td>2022-06-10</td><td>member</td><td>10112</td></tr>",
                            "<tr><td>2022-06-11</td><td>member</td><td>10723</td></tr>",
                            "<tr><td>2022-06-12</td><td>member</td><td>8866</td></tr>",
                            "<tr><td>2022-06-13</td><td>member</td><td>8876</td></tr>",
                            "<tr><td>2022-06-14</td><td>member</td><td>10971</td></tr>",
                            "<tr><td>2022-06-15</td><td>member</td><td>10962</td></tr>",
                            "<tr><td>2022-06-16</td><td>member</td><td>11068</td></tr>",
                            "<tr><td>2022-06-17</td><td>member</td><td>11784</td></tr>",
                            "<tr><td>2022-06-18</td><td>member</td><td>11151</td></tr>",
                            "<tr><td>2022-06-19</td><td>member</td><td>9521</td></tr>",
                            "<tr><td>2022-06-20</td><td>member</td><td>11011</td></tr>",
                            "<tr><td>2022-06-21</td><td>member</td><td>10938</td></tr>",
                            "<tr><td>2022-06-22</td><td>member</td><td>12356</td></tr>",
                            "<tr><td>2022-06-23</td><td>member</td><td>12197</td></tr>",
                            "<tr><td>2022-06-24</td><td>member</td><td>11858</td></tr>",
                            "<tr><td>2022-06-25</td><td>member</td><td>7607</td></tr>",
                            "<tr><td>2022-06-26</td><td>member</td><td>10419</td></tr>",
                            "<tr><td>2022-06-27</td><td>member</td><td>11026</td></tr>",
                            "<tr><td>2022-06-28</td><td>member</td><td>12063</td></tr>",
                            "<tr><td>2022-06-29</td><td>member</td><td>12490</td></tr>",
                            "<tr><td>2022-06-30</td><td>member</td><td>11400</td></tr>",
                            "<tr><td>2022-07-01</td><td>member</td><td>4318</td></tr>",
                            "<tr><td>2022-07-02</td><td>member</td><td>4392</td></tr>",
                            "<tr><td>2022-07-03</td><td>member</td><td>3902</td></tr>",
                            "<tr><td>2022-07-04</td><td>member</td><td>3015</td></tr>",
                            "<tr><td>2022-07-05</td><td>member</td><td>4050</td></tr>",
                            "<tr><td>2022-07-06</td><td>member</td><td>4783</td></tr>",
                            "<tr><td>2022-07-07</td><td>member</td><td>5004</td></tr>",
                            "<tr><td>2022-07-08</td><td>member</td><td>4328</td></tr>",
                            "<tr><td>2022-07-09</td><td>member</td><td>5236</td></tr>",
                            "<tr><td>2022-07-10</td><td>member</td><td>4297</td></tr>",
                            "<tr><td>2022-07-11</td><td>member</td><td>4504</td></tr>",
                            "<tr><td>2022-07-12</td><td>member</td><td>5259</td></tr>",
                            "<tr><td>2022-07-13</td><td>member</td><td>5511</td></tr>",
                            "<tr><td>2022-07-14</td><td>member</td><td>5354</td></tr>",
                            "<tr><td>2022-07-15</td><td>member</td><td>2193</td></tr>",
                            "<tr><td>2022-07-16</td><td>member</td><td>4758</td></tr>",
                            "<tr><td>2022-07-17</td><td>member</td><td>3713</td></tr>",
                            "<tr><td>2022-07-18</td><td>member</td><td>4870</td></tr>",
                            "<tr><td>2022-07-19</td><td>member</td><td>5173</td></tr>",
                            "<tr><td>2022-07-20</td><td>member</td><td>5145</td></tr>",
                            "<tr><td>2022-07-21</td><td>member</td><td>5003</td></tr>",
                            "<tr><td>2022-07-22</td><td>member</td><td>4824</td></tr>",
                            "<tr><td>2022-07-23</td><td>member</td><td>4263</td></tr>",
                            "<tr><td>2022-07-24</td><td>member</td><td>3595</td></tr>",
                            "<tr><td>2022-07-25</td><td>member</td><td>4732</td></tr>",
                            "<tr><td>2022-07-26</td><td>member</td><td>5153</td></tr>",
                            "<tr><td>2022-07-27</td><td>member</td><td>4959</td></tr>",
                            "<tr><td>2022-07-28</td><td>member</td><td>5153</td></tr>",
                            "<tr><td>2022-07-29</td><td>member</td><td>4964</td></tr>",
                            "<tr><td>2022-07-30</td><td>member</td><td>4881</td></tr>",
                            "<tr><td>2022-07-31</td><td>member</td><td>4362</td></tr>",
                            "<tr><td>2022-08-01</td><td>member</td><td>10742</td></tr>",
                            "<tr><td>2022-08-02</td><td>member</td><td>11656</td></tr>",
                            "<tr><td>2022-08-03</td><td>member</td><td>10159</td></tr>",
                            "<tr><td>2022-08-04</td><td>member</td><td>11304</td></tr>",
                            "<tr><td>2022-08-05</td><td>member</td><td>10796</td></tr>",
                            "<tr><td>2022-08-06</td><td>member</td><td>9662</td></tr>",
                            "<tr><td>2022-08-07</td><td>member</td><td>6087</td></tr>",
                            "<tr><td>2022-08-08</td><td>member</td><td>6800</td></tr>",
                            "<tr><td>2022-08-09</td><td>member</td><td>12053</td></tr>",
                            "<tr><td>2022-08-10</td><td>member</td><td>12132</td></tr>",
                            "<tr><td>2022-08-11</td><td>member</td><td>11567</td></tr>",
                            "<tr><td>2022-08-12</td><td>member</td><td>10571</td></tr>",
                            "<tr><td>2022-08-13</td><td>member</td><td>10124</td></tr>",
                            "<tr><td>2022-08-14</td><td>member</td><td>8335</td></tr>",
                            "<tr><td>2022-08-15</td><td>member</td><td>10804</td></tr>",
                            "<tr><td>2022-08-16</td><td>member</td><td>11371</td></tr>",
                            "<tr><td>2022-08-17</td><td>member</td><td>11955</td></tr>",
                            "<tr><td>2022-08-18</td><td>member</td><td>11585</td></tr>",
                            "<tr><td>2022-08-19</td><td>member</td><td>11460</td></tr>",
                            "<tr><td>2022-08-20</td><td>member</td><td>7780</td></tr>",
                            "<tr><td>2022-08-21</td><td>member</td><td>9260</td></tr>",
                            "<tr><td>2022-08-22</td><td>member</td><td>11113</td></tr>",
                            "<tr><td>2022-08-23</td><td>member</td><td>12179</td></tr>",
                            "<tr><td>2022-08-24</td><td>member</td><td>12385</td></tr>",
                            "<tr><td>2022-08-25</td><td>member</td><td>9608</td></tr>",
                            "<tr><td>2022-08-26</td><td>member</td><td>11245</td></tr>",
                            "<tr><td>2022-08-27</td><td>member</td><td>10841</td></tr>",
                            "<tr><td>2022-08-28</td><td>member</td><td>8490</td></tr>",
                            "<tr><td>2022-08-29</td><td>member</td><td>9430</td></tr>",
                            "<tr><td>2022-08-30</td><td>member</td><td>12352</td></tr>",
                            "<tr><td>2022-08-31</td><td>member</td><td>12297</td></tr>",
                            "</table>"
                        ]
                    }
                }
            ],
            "execution_count": 6
        },
        {
            "cell_type": "code",
            "source": [
                "-- Most visited stations\r\n",
                "with station_names as\r\n",
                "(\r\n",
                "select cln_start_station_name + cln_end_station_name as station_name, member_casual\r\n",
                "from Final_Table\r\n",
                ")\r\n",
                "\r\n",
                "select top 20 station_name, count(station_name) as Count_visits, member_casual as User_type\r\n",
                "from station_names\r\n",
                "group by station_name, member_casual\r\n",
                "order by Count_visits desc"
            ],
            "metadata": {
                "azdata_cell_guid": "3373e463-91d6-4f29-bb1b-ee51745ce603",
                "language": "sql"
            },
            "outputs": [
                {
                    "output_type": "display_data",
                    "data": {
                        "text/html": "(20 rows affected)"
                    },
                    "metadata": {}
                },
                {
                    "output_type": "display_data",
                    "data": {
                        "text/html": "Total execution time: 00:00:04.294"
                    },
                    "metadata": {}
                },
                {
                    "output_type": "execute_result",
                    "metadata": {},
                    "execution_count": 7,
                    "data": {
                        "application/vnd.dataresource+json": {
                            "schema": {
                                "fields": [
                                    {
                                        "name": "station_name"
                                    },
                                    {
                                        "name": "Count_visits"
                                    },
                                    {
                                        "name": "User_type"
                                    }
                                ]
                            },
                            "data": [
                                {
                                    "0": "Streeter Dr & Grand AveStreeter Dr & Grand Ave",
                                    "1": "9704",
                                    "2": "casual"
                                },
                                {
                                    "0": "DuSable Lake Shore Dr & Monroe StDuSable Lake Shore Dr & Monroe St",
                                    "1": "6020",
                                    "2": "casual"
                                },
                                {
                                    "0": "DuSable Lake Shore Dr & Monroe StStreeter Dr & Grand Ave",
                                    "1": "5365",
                                    "2": "casual"
                                },
                                {
                                    "0": "Michigan Ave & Oak StMichigan Ave & Oak St",
                                    "1": "4402",
                                    "2": "casual"
                                },
                                {
                                    "0": "Ellis Ave & 60th StUniversity Ave & 57th St",
                                    "1": "4212",
                                    "2": "member"
                                },
                                {
                                    "0": "Ellis Ave & 60th StEllis Ave & 55th St",
                                    "1": "4076",
                                    "2": "member"
                                },
                                {
                                    "0": "University Ave & 57th StEllis Ave & 60th St",
                                    "1": "4069",
                                    "2": "member"
                                },
                                {
                                    "0": "Millennium ParkMillennium Park",
                                    "1": "3896",
                                    "2": "casual"
                                },
                                {
                                    "0": "Ellis Ave & 55th StEllis Ave & 60th St",
                                    "1": "3484",
                                    "2": "member"
                                },
                                {
                                    "0": "Streeter Dr & Grand AveDuSable Lake Shore Dr & Monroe St",
                                    "1": "2980",
                                    "2": "casual"
                                },
                                {
                                    "0": "Streeter Dr & Grand AveMillennium Park",
                                    "1": "2962",
                                    "2": "casual"
                                },
                                {
                                    "0": "Calumet Ave & 33rd StState St & 33rd St",
                                    "1": "2697",
                                    "2": "member"
                                },
                                {
                                    "0": "Millennium ParkStreeter Dr & Grand Ave",
                                    "1": "2579",
                                    "2": "casual"
                                },
                                {
                                    "0": "State St & 33rd StCalumet Ave & 33rd St",
                                    "1": "2577",
                                    "2": "member"
                                },
                                {
                                    "0": "Shedd AquariumStreeter Dr & Grand Ave",
                                    "1": "2515",
                                    "2": "casual"
                                },
                                {
                                    "0": "Streeter Dr & Grand AveMichigan Ave & Oak St",
                                    "1": "2417",
                                    "2": "casual"
                                },
                                {
                                    "0": "Loomis St & Lexington StMorgan St & Polk St",
                                    "1": "2388",
                                    "2": "member"
                                },
                                {
                                    "0": "Streeter Dr & Grand AveDuSable Lake Shore Dr & North Blvd",
                                    "1": "2232",
                                    "2": "casual"
                                },
                                {
                                    "0": "Montrose HarborMontrose Harbor",
                                    "1": "2083",
                                    "2": "casual"
                                },
                                {
                                    "0": "Shedd AquariumShedd Aquarium",
                                    "1": "2043",
                                    "2": "casual"
                                }
                            ]
                        },
                        "text/html": [
                            "<table>",
                            "<tr><th>station_name</th><th>Count_visits</th><th>User_type</th></tr>",
                            "<tr><td>Streeter Dr &amp; Grand AveStreeter Dr &amp; Grand Ave</td><td>9704</td><td>casual</td></tr>",
                            "<tr><td>DuSable Lake Shore Dr &amp; Monroe StDuSable Lake Shore Dr &amp; Monroe St</td><td>6020</td><td>casual</td></tr>",
                            "<tr><td>DuSable Lake Shore Dr &amp; Monroe StStreeter Dr &amp; Grand Ave</td><td>5365</td><td>casual</td></tr>",
                            "<tr><td>Michigan Ave &amp; Oak StMichigan Ave &amp; Oak St</td><td>4402</td><td>casual</td></tr>",
                            "<tr><td>Ellis Ave &amp; 60th StUniversity Ave &amp; 57th St</td><td>4212</td><td>member</td></tr>",
                            "<tr><td>Ellis Ave &amp; 60th StEllis Ave &amp; 55th St</td><td>4076</td><td>member</td></tr>",
                            "<tr><td>University Ave &amp; 57th StEllis Ave &amp; 60th St</td><td>4069</td><td>member</td></tr>",
                            "<tr><td>Millennium ParkMillennium Park</td><td>3896</td><td>casual</td></tr>",
                            "<tr><td>Ellis Ave &amp; 55th StEllis Ave &amp; 60th St</td><td>3484</td><td>member</td></tr>",
                            "<tr><td>Streeter Dr &amp; Grand AveDuSable Lake Shore Dr &amp; Monroe St</td><td>2980</td><td>casual</td></tr>",
                            "<tr><td>Streeter Dr &amp; Grand AveMillennium Park</td><td>2962</td><td>casual</td></tr>",
                            "<tr><td>Calumet Ave &amp; 33rd StState St &amp; 33rd St</td><td>2697</td><td>member</td></tr>",
                            "<tr><td>Millennium ParkStreeter Dr &amp; Grand Ave</td><td>2579</td><td>casual</td></tr>",
                            "<tr><td>State St &amp; 33rd StCalumet Ave &amp; 33rd St</td><td>2577</td><td>member</td></tr>",
                            "<tr><td>Shedd AquariumStreeter Dr &amp; Grand Ave</td><td>2515</td><td>casual</td></tr>",
                            "<tr><td>Streeter Dr &amp; Grand AveMichigan Ave &amp; Oak St</td><td>2417</td><td>casual</td></tr>",
                            "<tr><td>Loomis St &amp; Lexington StMorgan St &amp; Polk St</td><td>2388</td><td>member</td></tr>",
                            "<tr><td>Streeter Dr &amp; Grand AveDuSable Lake Shore Dr &amp; North Blvd</td><td>2232</td><td>casual</td></tr>",
                            "<tr><td>Montrose HarborMontrose Harbor</td><td>2083</td><td>casual</td></tr>",
                            "<tr><td>Shedd AquariumShedd Aquarium</td><td>2043</td><td>casual</td></tr>",
                            "</table>"
                        ]
                    }
                }
            ],
            "execution_count": 7
        },
        {
            "cell_type": "code",
            "source": [
                "-- Choice of ride by memebrship type\r\n",
                "Select rideable_type, member_casual, COUNT(rideable_type) as count_rideable_type\r\n",
                "From Final_table\r\n",
                "group by rideable_type, member_casual"
            ],
            "metadata": {
                "azdata_cell_guid": "a0180f27-98b0-4d74-af24-47460d23e0a1",
                "language": "sql"
            },
            "outputs": [
                {
                    "output_type": "display_data",
                    "data": {
                        "text/html": "(5 rows affected)"
                    },
                    "metadata": {}
                },
                {
                    "output_type": "display_data",
                    "data": {
                        "text/html": "Total execution time: 00:00:02.679"
                    },
                    "metadata": {}
                },
                {
                    "output_type": "execute_result",
                    "metadata": {},
                    "execution_count": 8,
                    "data": {
                        "application/vnd.dataresource+json": {
                            "schema": {
                                "fields": [
                                    {
                                        "name": "rideable_type"
                                    },
                                    {
                                        "name": "member_casual"
                                    },
                                    {
                                        "name": "count_rideable_type"
                                    }
                                ]
                            },
                            "data": [
                                {
                                    "0": "classic_bike",
                                    "1": "member",
                                    "2": "1607083"
                                },
                                {
                                    "0": "docked_bike",
                                    "1": "casual",
                                    "2": "181621"
                                },
                                {
                                    "0": "electric_bike",
                                    "1": "member",
                                    "2": "686526"
                                },
                                {
                                    "0": "classic_bike",
                                    "1": "casual",
                                    "2": "892523"
                                },
                                {
                                    "0": "electric_bike",
                                    "1": "casual",
                                    "2": "540352"
                                }
                            ]
                        },
                        "text/html": [
                            "<table>",
                            "<tr><th>rideable_type</th><th>member_casual</th><th>count_rideable_type</th></tr>",
                            "<tr><td>classic_bike</td><td>member</td><td>1607083</td></tr>",
                            "<tr><td>docked_bike</td><td>casual</td><td>181621</td></tr>",
                            "<tr><td>electric_bike</td><td>member</td><td>686526</td></tr>",
                            "<tr><td>classic_bike</td><td>casual</td><td>892523</td></tr>",
                            "<tr><td>electric_bike</td><td>casual</td><td>540352</td></tr>",
                            "</table>"
                        ]
                    }
                }
            ],
            "execution_count": 8
        }
    ]
}